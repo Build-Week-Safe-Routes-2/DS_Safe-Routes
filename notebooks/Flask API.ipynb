{
 "cells": [
  {
   "cell_type": "code",
   "execution_count": 106,
   "metadata": {},
   "outputs": [],
   "source": [
    "import pandas as pd\n",
    "import numpy as np"
   ]
  },
  {
   "cell_type": "code",
   "execution_count": 107,
   "metadata": {},
   "outputs": [
    {
     "name": "stderr",
     "output_type": "stream",
     "text": [
      "C:\\Users\\nchib\\Anaconda3\\lib\\site-packages\\sklearn\\externals\\joblib\\__init__.py:15: DeprecationWarning: sklearn.externals.joblib is deprecated in 0.21 and will be removed in 0.23. Please import this functionality directly from joblib, which can be installed with: pip install joblib. If this warning is raised when loading pickled models, you may need to re-serialize those models with scikit-learn 0.21+.\n",
      "  warnings.warn(msg, category=DeprecationWarning)\n"
     ]
    }
   ],
   "source": [
    "from sklearn.externals import joblib"
   ]
  },
  {
   "cell_type": "code",
   "execution_count": 108,
   "metadata": {},
   "outputs": [],
   "source": [
    "model = joblib.load('model.joblib')"
   ]
  },
  {
   "cell_type": "code",
   "execution_count": 109,
   "metadata": {},
   "outputs": [],
   "source": [
    "df = pd.read_csv('../data/df_final.csv')"
   ]
  },
  {
   "cell_type": "code",
   "execution_count": 110,
   "metadata": {},
   "outputs": [],
   "source": [
    "df = df.drop(columns='Unnamed: 0')"
   ]
  },
  {
   "cell_type": "code",
   "execution_count": 113,
   "metadata": {},
   "outputs": [
    {
     "data": {
      "text/html": [
       "<div>\n",
       "<style scoped>\n",
       "    .dataframe tbody tr th:only-of-type {\n",
       "        vertical-align: middle;\n",
       "    }\n",
       "\n",
       "    .dataframe tbody tr th {\n",
       "        vertical-align: top;\n",
       "    }\n",
       "\n",
       "    .dataframe thead th {\n",
       "        text-align: right;\n",
       "    }\n",
       "</style>\n",
       "<table border=\"1\" class=\"dataframe\">\n",
       "  <thead>\n",
       "    <tr style=\"text-align: right;\">\n",
       "      <th></th>\n",
       "      <th>STATE</th>\n",
       "      <th>COUNTY</th>\n",
       "      <th>DAY</th>\n",
       "      <th>MONTH</th>\n",
       "      <th>YEAR</th>\n",
       "      <th>DAY_WEEK</th>\n",
       "      <th>LATITUDE</th>\n",
       "      <th>LONGITUD</th>\n",
       "      <th>HOUR</th>\n",
       "      <th>WEATHER</th>\n",
       "      <th>ROUTE</th>\n",
       "      <th>TWAY_ID</th>\n",
       "      <th>TYP_INT</th>\n",
       "      <th>ACCIDENT</th>\n",
       "    </tr>\n",
       "  </thead>\n",
       "  <tbody>\n",
       "    <tr>\n",
       "      <th>0</th>\n",
       "      <td>1</td>\n",
       "      <td>73</td>\n",
       "      <td>19</td>\n",
       "      <td>2</td>\n",
       "      <td>2017</td>\n",
       "      <td>1</td>\n",
       "      <td>33.335661</td>\n",
       "      <td>-87.007094</td>\n",
       "      <td>23</td>\n",
       "      <td>1</td>\n",
       "      <td>1</td>\n",
       "      <td>I-459</td>\n",
       "      <td>1</td>\n",
       "      <td>1</td>\n",
       "    </tr>\n",
       "    <tr>\n",
       "      <th>1</th>\n",
       "      <td>1</td>\n",
       "      <td>89</td>\n",
       "      <td>14</td>\n",
       "      <td>2</td>\n",
       "      <td>2017</td>\n",
       "      <td>3</td>\n",
       "      <td>34.661528</td>\n",
       "      <td>-86.786853</td>\n",
       "      <td>14</td>\n",
       "      <td>1</td>\n",
       "      <td>1</td>\n",
       "      <td>I-565</td>\n",
       "      <td>1</td>\n",
       "      <td>1</td>\n",
       "    </tr>\n",
       "    <tr>\n",
       "      <th>2</th>\n",
       "      <td>1</td>\n",
       "      <td>101</td>\n",
       "      <td>31</td>\n",
       "      <td>1</td>\n",
       "      <td>2017</td>\n",
       "      <td>3</td>\n",
       "      <td>32.366519</td>\n",
       "      <td>-86.145281</td>\n",
       "      <td>20</td>\n",
       "      <td>1</td>\n",
       "      <td>1</td>\n",
       "      <td>I-85</td>\n",
       "      <td>1</td>\n",
       "      <td>1</td>\n",
       "    </tr>\n",
       "    <tr>\n",
       "      <th>3</th>\n",
       "      <td>1</td>\n",
       "      <td>73</td>\n",
       "      <td>1</td>\n",
       "      <td>1</td>\n",
       "      <td>2017</td>\n",
       "      <td>1</td>\n",
       "      <td>33.510175</td>\n",
       "      <td>-86.894003</td>\n",
       "      <td>16</td>\n",
       "      <td>2</td>\n",
       "      <td>6</td>\n",
       "      <td>20TH ST ENSLEY</td>\n",
       "      <td>2</td>\n",
       "      <td>1</td>\n",
       "    </tr>\n",
       "    <tr>\n",
       "      <th>4</th>\n",
       "      <td>1</td>\n",
       "      <td>13</td>\n",
       "      <td>1</td>\n",
       "      <td>1</td>\n",
       "      <td>2017</td>\n",
       "      <td>1</td>\n",
       "      <td>31.947236</td>\n",
       "      <td>-86.556778</td>\n",
       "      <td>20</td>\n",
       "      <td>2</td>\n",
       "      <td>1</td>\n",
       "      <td>I-65</td>\n",
       "      <td>1</td>\n",
       "      <td>1</td>\n",
       "    </tr>\n",
       "  </tbody>\n",
       "</table>\n",
       "</div>"
      ],
      "text/plain": [
       "   STATE  COUNTY  DAY  MONTH  YEAR  DAY_WEEK   LATITUDE   LONGITUD  HOUR  \\\n",
       "0      1      73   19      2  2017         1  33.335661 -87.007094    23   \n",
       "1      1      89   14      2  2017         3  34.661528 -86.786853    14   \n",
       "2      1     101   31      1  2017         3  32.366519 -86.145281    20   \n",
       "3      1      73    1      1  2017         1  33.510175 -86.894003    16   \n",
       "4      1      13    1      1  2017         1  31.947236 -86.556778    20   \n",
       "\n",
       "   WEATHER  ROUTE         TWAY_ID  TYP_INT  ACCIDENT  \n",
       "0        1      1           I-459        1         1  \n",
       "1        1      1           I-565        1         1  \n",
       "2        1      1            I-85        1         1  \n",
       "3        2      6  20TH ST ENSLEY        2         1  \n",
       "4        2      1            I-65        1         1  "
      ]
     },
     "execution_count": 113,
     "metadata": {},
     "output_type": "execute_result"
    }
   ],
   "source": [
    "df.head()"
   ]
  },
  {
   "cell_type": "code",
   "execution_count": null,
   "metadata": {},
   "outputs": [],
   "source": [
    "df = df.drop(columns=['ACCIDENT', 'STATE', 'COUNTY'])"
   ]
  },
  {
   "cell_type": "code",
   "execution_count": 9,
   "metadata": {},
   "outputs": [],
   "source": [
    "from sklearn.model_selection import train_test_split\n",
    "trainval, test = train_test_split(df, test_size=0.2, random_state=42)"
   ]
  },
  {
   "cell_type": "code",
   "execution_count": 10,
   "metadata": {},
   "outputs": [],
   "source": [
    "target = 'ACCIDENT'\n",
    "train_features = trainval.drop(columns=[target, 'STATE', 'COUNTY'])\n",
    "numeric_features = train_features.select_dtypes(include='number').columns.tolist()\n",
    "categorical_features = train_features.select_dtypes(exclude='number').columns.tolist()\n",
    "cardinality = train_features.select_dtypes(exclude='number').nunique()\n",
    "high_cardinality_features = cardinality[cardinality > 100].index.tolist()\n",
    "low_cardinality_features = cardinality[cardinality <= 100].index.tolist()\n",
    "features = numeric_features + categorical_features\n",
    "\n",
    "X_trainval = trainval[features]\n",
    "y_trainval = trainval[target]\n",
    "X_test = test[features]\n",
    "y_test = test[target]"
   ]
  },
  {
   "cell_type": "code",
   "execution_count": 11,
   "metadata": {},
   "outputs": [],
   "source": [
    "y_proba = model.predict_proba(X_test)[:, 1]"
   ]
  },
  {
   "cell_type": "code",
   "execution_count": 12,
   "metadata": {},
   "outputs": [
    {
     "data": {
      "text/plain": [
       "0.8550888319588322"
      ]
     },
     "execution_count": 12,
     "metadata": {},
     "output_type": "execute_result"
    }
   ],
   "source": [
    "from sklearn.metrics import roc_auc_score, roc_curve\n",
    "\n",
    "roc_auc_score(y_test, y_proba)"
   ]
  },
  {
   "cell_type": "code",
   "execution_count": 19,
   "metadata": {},
   "outputs": [
    {
     "name": "stdout",
     "output_type": "stream",
     "text": [
      "              precision    recall  f1-score   support\n",
      "\n",
      "           0       0.85      1.00      0.92     80235\n",
      "           1       0.94      0.29      0.44     20064\n",
      "\n",
      "    accuracy                           0.85    100299\n",
      "   macro avg       0.90      0.64      0.68    100299\n",
      "weighted avg       0.87      0.85      0.82    100299\n",
      "\n"
     ]
    }
   ],
   "source": [
    "from sklearn.metrics import classification_report\n",
    "y_pred = model.predict(X_test)\n",
    "print(classification_report(y_test, y_pred))"
   ]
  },
  {
   "cell_type": "code",
   "execution_count": 20,
   "metadata": {},
   "outputs": [],
   "source": [
    "from sklearn.metrics import confusion_matrix\n",
    "from sklearn.utils.multiclass import unique_labels\n",
    "\n",
    "def plot_confusion_matrix(y_true, y_pred):\n",
    "    labels = unique_labels(y_true)\n",
    "    columns = [f'Predicted {label}' for label in labels]\n",
    "    index = [f'Actual {label}' for label in labels]\n",
    "    table = pd.DataFrame(confusion_matrix(y_true, y_pred), \n",
    "                         columns=columns, index=index)\n",
    "    return sns.heatmap(table, annot=True, fmt='d', cmap='viridis')"
   ]
  },
  {
   "cell_type": "code",
   "execution_count": 21,
   "metadata": {},
   "outputs": [
    {
     "data": {
      "application/vnd.jupyter.widget-view+json": {
       "model_id": "971c607f90c848ba869bb35ae3006a48",
       "version_major": 2,
       "version_minor": 0
      },
      "text/plain": [
       "interactive(children=(FloatSlider(value=0.1, description='threshold', max=1.0, step=0.05), Output()), _dom_cla…"
      ]
     },
     "metadata": {},
     "output_type": "display_data"
    }
   ],
   "source": [
    "import matplotlib.pyplot as plt\n",
    "import seaborn as sns\n",
    "from ipywidgets import interact, fixed\n",
    "from sklearn.metrics import roc_auc_score, roc_curve\n",
    "from sklearn.utils.multiclass import unique_labels\n",
    "\n",
    "def set_threshold(y_true, y_pred_proba, threshold=0.1):\n",
    "    \"\"\"\n",
    "    For binary classification problems. \n",
    "    y_pred_proba : predicted probability of class 1\n",
    "    \"\"\"\n",
    "    \n",
    "    # Apply threshold to predicted probabilities\n",
    "    # to get discrete predictions\n",
    "    class_0, class_1 = unique_labels(y_true)\n",
    "    y_pred = np.full_like(y_true, fill_value=class_0)\n",
    "    y_pred[y_pred_proba > threshold] = class_1\n",
    "    \n",
    "    # Plot distribution of predicted probabilities\n",
    "    ax = sns.distplot(y_pred_proba)\n",
    "    ax.axvline(threshold, color='red')\n",
    "    plt.title('Distribution of predicted probabilities')\n",
    "    plt.show()\n",
    "\n",
    "    # Calculate true positive rate and false positive rate\n",
    "    true_positives = (y_pred==y_true) & (y_pred==class_1)\n",
    "    false_positives = (y_pred!=y_true) & (y_pred==class_1)\n",
    "    actual_positives = (y_true==class_1)\n",
    "    actual_negatives = (y_true==class_0)\n",
    "    true_positive_rate = true_positives.sum() / actual_positives.sum()\n",
    "    false_positive_rate = false_positives.sum() / actual_negatives.sum()\n",
    "    print('False Positive Rate', false_positive_rate)\n",
    "    print('True Positive Rate', true_positive_rate)\n",
    "    \n",
    "    # Plot ROC curve\n",
    "    fpr, tpr, thresholds = roc_curve(y_true==class_1, y_pred_proba)\n",
    "    plt.plot(fpr, tpr)\n",
    "    plt.title('ROC curve')\n",
    "    plt.xlabel('False Positive Rate')\n",
    "    plt.ylabel('True Positive Rate')\n",
    "    \n",
    "    # Plot point on ROC curve for the current threshold\n",
    "    plt.scatter(false_positive_rate, true_positive_rate)\n",
    "    plt.show()\n",
    "    \n",
    "    # Show ROC AUC score\n",
    "    print('Area under the Receiver Operating Characteristic curve:', \n",
    "          roc_auc_score(y_true, y_pred_proba))\n",
    "    \n",
    "    # Show confusion matrix & classification report\n",
    "    plot_confusion_matrix(y_true, y_pred)\n",
    "    print(classification_report(y_true, y_pred))\n",
    "\n",
    "interact(set_threshold, \n",
    "         y_true=fixed(y_test), \n",
    "         y_pred_proba=fixed(y_proba), \n",
    "         threshold=(0,1,0.05));"
   ]
  },
  {
   "cell_type": "markdown",
   "metadata": {},
   "source": [
    "## Flask API"
   ]
  },
  {
   "cell_type": "code",
   "execution_count": 34,
   "metadata": {},
   "outputs": [],
   "source": [
    "def make_dataframe(input):\n",
    "    column_headers = ['DAY', 'MONTH', 'YEAR', 'DAY_WEEK', 'LATITUDE', 'LONGITUD', 'HOUR',\n",
    "                       'WEATHER', 'ROUTE', 'TYP_INT', 'TWAY_ID']\n",
    "    X = pd.DataFrame(input, columns=column_headers)\n",
    "    y = model.predict(X)\n",
    "    y_pred_proba = model.predict_proba(X)[:, 1].tolist()\n",
    "    return y_pred_proba"
   ]
  },
  {
   "cell_type": "code",
   "execution_count": 4,
   "metadata": {},
   "outputs": [],
   "source": [
    "import json\n",
    "import requests"
   ]
  },
  {
   "cell_type": "code",
   "execution_count": 610,
   "metadata": {},
   "outputs": [],
   "source": [
    "input = json.dumps(\n",
    "[{\n",
    "        \"LATITUDE\": 30.748005970539843,\n",
    "        \"LONGITUD\": -60.11728659260366,\n",
    "        \"WEATHER\": 2,\n",
    "        \"ROUTE\": 6,\n",
    "        \"TYP_INT\": 1,\n",
    "        \"TWAY_ID\": \"WOLF RIDGE RD\"\n",
    "    },\n",
    "    {\n",
    "        \"LATITUDE\": 32.54497821745906,\n",
    "        \"LONGITUD\": -53.63684929388019,\n",
    "        \"WEATHER\": 1,\n",
    "        \"ROUTE\": 2,\n",
    "        \"TYP_INT\": 1,\n",
    "        \"TWAY_ID\": \"US-80 E TEXAS STREET\"\n",
    "    }\n",
    "])"
   ]
  },
  {
   "cell_type": "code",
   "execution_count": 405,
   "metadata": {},
   "outputs": [],
   "source": [
    "input = json.dumps(\n",
    "    [{\"DAY\": 25, \n",
    "     \"MONTH\": 5, \n",
    "     \"YEAR\": 2016, \n",
    "     \"DAY_WEEK\": 2, \n",
    "     \"LATITUDE\": 30.748005970539843, \n",
    "     \"LONGITUD\": -88.11728659260366, \n",
    "     \"HOUR\": 3, \n",
    "     \"WEATHER\": 2,\n",
    "     \"ROUTE\": 6,\n",
    "     \"TYP_INT\": 1,\n",
    "     \"TWAY_ID\": \"WOLF RIDGE RD\"}])"
   ]
  },
  {
   "cell_type": "code",
   "execution_count": 483,
   "metadata": {},
   "outputs": [
    {
     "name": "stdout",
     "output_type": "stream",
     "text": [
      "[{\"LATITUDE\": 30.748005970539843, \"LONGITUD\": -60.11728659260366, \"WEATHER\": 2, \"ROUTE\": 6, \"TYP_INT\": 1, \"TWAY_ID\": \"WOLF RIDGE RD\"}, {\"LATITUDE\": 32.54497821745906, \"LONGITUD\": -53.63684929388019, \"WEATHER\": 1, \"ROUTE\": 2, \"TYP_INT\": 1, \"TWAY_ID\": \"US-80 E TEXAS STREET\"}]\n"
     ]
    }
   ],
   "source": [
    "print(input)"
   ]
  },
  {
   "cell_type": "code",
   "execution_count": 619,
   "metadata": {},
   "outputs": [],
   "source": [
    "input = json.loads(input)"
   ]
  },
  {
   "cell_type": "code",
   "execution_count": 314,
   "metadata": {},
   "outputs": [
    {
     "data": {
      "text/plain": [
       "str"
      ]
     },
     "execution_count": 314,
     "metadata": {},
     "output_type": "execute_result"
    }
   ],
   "source": [
    "type(input)"
   ]
  },
  {
   "cell_type": "code",
   "execution_count": 400,
   "metadata": {},
   "outputs": [
    {
     "name": "stdout",
     "output_type": "stream",
     "text": [
      "[{'DAY': 25, 'MONTH': 5, 'YEAR': 2016, 'DAY_WEEK': 2, 'LATITUDE': 30.748005970539843, 'LONGITUD': -88.11728659260366, 'HOUR': 3, 'WEATHER': 2, 'ROUTE': 6, 'TYP_INT': 1, 'TWAY_ID': 'WOLF RIDGE RD'}]\n"
     ]
    }
   ],
   "source": [
    "print(input)"
   ]
  },
  {
   "cell_type": "code",
   "execution_count": 488,
   "metadata": {},
   "outputs": [
    {
     "ename": "KeyError",
     "evalue": "'HOUR'",
     "output_type": "error",
     "traceback": [
      "\u001b[1;31m---------------------------------------------------------------------------\u001b[0m",
      "\u001b[1;31mKeyError\u001b[0m                                  Traceback (most recent call last)",
      "\u001b[1;32m<ipython-input-488-0a667a5bdc11>\u001b[0m in \u001b[0;36m<module>\u001b[1;34m\u001b[0m\n\u001b[0;32m      4\u001b[0m         observation = [today.day, today.month, today.year, \n\u001b[0;32m      5\u001b[0m                               \u001b[0mtoday\u001b[0m\u001b[1;33m.\u001b[0m\u001b[0mweekday\u001b[0m\u001b[1;33m(\u001b[0m\u001b[1;33m)\u001b[0m\u001b[1;33m,\u001b[0m \u001b[0minput\u001b[0m\u001b[1;33m[\u001b[0m\u001b[0mi\u001b[0m\u001b[1;33m]\u001b[0m\u001b[1;33m[\u001b[0m\u001b[1;34m'LATITUDE'\u001b[0m\u001b[1;33m]\u001b[0m\u001b[1;33m,\u001b[0m\u001b[1;33m\u001b[0m\u001b[1;33m\u001b[0m\u001b[0m\n\u001b[1;32m----> 6\u001b[1;33m                               \u001b[0minput\u001b[0m\u001b[1;33m[\u001b[0m\u001b[0mi\u001b[0m\u001b[1;33m]\u001b[0m\u001b[1;33m[\u001b[0m\u001b[1;34m'LONGITUD'\u001b[0m\u001b[1;33m]\u001b[0m\u001b[1;33m,\u001b[0m \u001b[0minput\u001b[0m\u001b[1;33m[\u001b[0m\u001b[0mi\u001b[0m\u001b[1;33m]\u001b[0m\u001b[1;33m[\u001b[0m\u001b[1;34m'HOUR'\u001b[0m\u001b[1;33m]\u001b[0m\u001b[1;33m,\u001b[0m\u001b[1;33m\u001b[0m\u001b[1;33m\u001b[0m\u001b[0m\n\u001b[0m\u001b[0;32m      7\u001b[0m                               \u001b[0minput\u001b[0m\u001b[1;33m[\u001b[0m\u001b[0mi\u001b[0m\u001b[1;33m]\u001b[0m\u001b[1;33m[\u001b[0m\u001b[1;34m'WEATHER'\u001b[0m\u001b[1;33m]\u001b[0m\u001b[1;33m,\u001b[0m \u001b[0minput\u001b[0m\u001b[1;33m[\u001b[0m\u001b[0mi\u001b[0m\u001b[1;33m]\u001b[0m\u001b[1;33m[\u001b[0m\u001b[1;34m'ROUTE'\u001b[0m\u001b[1;33m]\u001b[0m\u001b[1;33m,\u001b[0m\u001b[1;33m\u001b[0m\u001b[1;33m\u001b[0m\u001b[0m\n\u001b[0;32m      8\u001b[0m                               input[i]['TYP_INT'], input[i]['TWAY_ID']]\n",
      "\u001b[1;31mKeyError\u001b[0m: 'HOUR'"
     ]
    }
   ],
   "source": [
    "data = []\n",
    "for i in range(len(input)):\n",
    "    for keys, values in input[i].items():\n",
    "        observation = [today.day, today.month, today.year, \n",
    "                              today.weekday(), input[i]['LATITUDE'], \n",
    "                              input[i]['LONGITUD'], input[i]['HOUR'], \n",
    "                              input[i]['WEATHER'], input[i]['ROUTE'], \n",
    "                              input[i]['TYP_INT'], input[i]['TWAY_ID']]\n",
    "    data.append(observation)"
   ]
  },
  {
   "cell_type": "code",
   "execution_count": 402,
   "metadata": {},
   "outputs": [
    {
     "data": {
      "text/plain": [
       "[[25,\n",
       "  5,\n",
       "  2016,\n",
       "  2,\n",
       "  30.748005970539843,\n",
       "  -88.11728659260366,\n",
       "  3,\n",
       "  2,\n",
       "  6,\n",
       "  1,\n",
       "  'WOLF RIDGE RD']]"
      ]
     },
     "execution_count": 402,
     "metadata": {},
     "output_type": "execute_result"
    }
   ],
   "source": [
    "data"
   ]
  },
  {
   "cell_type": "code",
   "execution_count": 403,
   "metadata": {},
   "outputs": [],
   "source": [
    "X = pd.DataFrame(data, columns=column_headers)"
   ]
  },
  {
   "cell_type": "code",
   "execution_count": 404,
   "metadata": {},
   "outputs": [
    {
     "data": {
      "text/plain": [
       "[0.20049859583377838]"
      ]
     },
     "execution_count": 404,
     "metadata": {},
     "output_type": "execute_result"
    }
   ],
   "source": [
    "make_dataframe(data)"
   ]
  },
  {
   "cell_type": "code",
   "execution_count": 168,
   "metadata": {},
   "outputs": [],
   "source": [
    "from datetime import datetime\n",
    "today = datetime.today()"
   ]
  },
  {
   "cell_type": "code",
   "execution_count": 603,
   "metadata": {},
   "outputs": [
    {
     "data": {
      "text/plain": [
       "20"
      ]
     },
     "execution_count": 603,
     "metadata": {},
     "output_type": "execute_result"
    }
   ],
   "source": [
    "today.hour"
   ]
  },
  {
   "cell_type": "code",
   "execution_count": 486,
   "metadata": {},
   "outputs": [
    {
     "ename": "TypeError",
     "evalue": "list indices must be integers or slices, not str",
     "output_type": "error",
     "traceback": [
      "\u001b[1;31m---------------------------------------------------------------------------\u001b[0m",
      "\u001b[1;31mTypeError\u001b[0m                                 Traceback (most recent call last)",
      "\u001b[1;32m<ipython-input-486-222cb773aa7f>\u001b[0m in \u001b[0;36m<module>\u001b[1;34m\u001b[0m\n\u001b[1;32m----> 1\u001b[1;33m observation = [[today.day, today.month, today.year, today.weekday(), float(input['LATITUDE']), \n\u001b[0m\u001b[0;32m      2\u001b[0m                 \u001b[0mfloat\u001b[0m\u001b[1;33m(\u001b[0m\u001b[0minput\u001b[0m\u001b[1;33m[\u001b[0m\u001b[1;34m'LONGITUD'\u001b[0m\u001b[1;33m]\u001b[0m\u001b[1;33m)\u001b[0m\u001b[1;33m,\u001b[0m \u001b[0mint\u001b[0m\u001b[1;33m(\u001b[0m\u001b[0minput\u001b[0m\u001b[1;33m[\u001b[0m\u001b[1;34m'HOUR'\u001b[0m\u001b[1;33m]\u001b[0m\u001b[1;33m)\u001b[0m\u001b[1;33m,\u001b[0m \u001b[0mint\u001b[0m\u001b[1;33m(\u001b[0m\u001b[0minput\u001b[0m\u001b[1;33m[\u001b[0m\u001b[1;34m'WEATHER'\u001b[0m\u001b[1;33m]\u001b[0m\u001b[1;33m)\u001b[0m\u001b[1;33m,\u001b[0m \u001b[0mint\u001b[0m\u001b[1;33m(\u001b[0m\u001b[0minput\u001b[0m\u001b[1;33m[\u001b[0m\u001b[1;34m'ROUTE'\u001b[0m\u001b[1;33m]\u001b[0m\u001b[1;33m)\u001b[0m\u001b[1;33m,\u001b[0m\u001b[1;33m\u001b[0m\u001b[1;33m\u001b[0m\u001b[0m\n\u001b[0;32m      3\u001b[0m                 int(input['TYP_INT']), input['TWAY_ID']]]\n",
      "\u001b[1;31mTypeError\u001b[0m: list indices must be integers or slices, not str"
     ]
    }
   ],
   "source": [
    "observation = [[today.day, today.month, today.year, today.weekday(), float(input['LATITUDE']), \n",
    "                float(input['LONGITUD']), int(input['HOUR']), int(input['WEATHER']), int(input['ROUTE']), \n",
    "                int(input['TYP_INT']), input['TWAY_ID']]]"
   ]
  },
  {
   "cell_type": "code",
   "execution_count": 198,
   "metadata": {},
   "outputs": [
    {
     "data": {
      "text/plain": [
       "[[24,\n",
       "  9,\n",
       "  2019,\n",
       "  1,\n",
       "  30.748005970539843,\n",
       "  -88.11728659260366,\n",
       "  3,\n",
       "  2,\n",
       "  6,\n",
       "  1,\n",
       "  'WOLF RIDGE RD']]"
      ]
     },
     "execution_count": 198,
     "metadata": {},
     "output_type": "execute_result"
    }
   ],
   "source": [
    "observation"
   ]
  },
  {
   "cell_type": "code",
   "execution_count": 303,
   "metadata": {},
   "outputs": [],
   "source": [
    "result = make_dataframe(data)"
   ]
  },
  {
   "cell_type": "code",
   "execution_count": 305,
   "metadata": {},
   "outputs": [
    {
     "data": {
      "text/plain": [
       "0.20049859583377838"
      ]
     },
     "execution_count": 305,
     "metadata": {},
     "output_type": "execute_result"
    }
   ],
   "source": [
    "result[0]"
   ]
  },
  {
   "cell_type": "code",
   "execution_count": null,
   "metadata": {},
   "outputs": [],
   "source": [
    "prediction_[i] = {\n",
    "    \"LATITUDE\": input['LONGITUD'],\n",
    "    \"LONGITUDE\": input['LATITUDE'],\n",
    "    \"PROBABILITY OF ACCIDENT\": result[i]\n",
    "}"
   ]
  },
  {
   "cell_type": "code",
   "execution_count": 327,
   "metadata": {},
   "outputs": [],
   "source": [
    "def prediction(input):\n",
    "    data = []\n",
    "    pred = {}\n",
    "    for i in range(len(input)):\n",
    "        for keys, values in input[i].items():\n",
    "            observation = [today.day, today.month, today.year, today.weekday(), float(input[i]['LATITUDE']), \n",
    "                        float(input[i]['LONGITUD']), int(input[i]['HOUR']), int(input[i]['WEATHER']), \n",
    "                        int(input[i]['ROUTE']), int(input[i]['TYP_INT']), input[i]['TWAY_ID']]\n",
    "        data.append(observation)\n",
    "        pred[i] = {\n",
    "        \"LATITUDE\": input[i]['LONGITUD'],\n",
    "        \"LONGITUDE\": input[i]['LATITUDE'],\n",
    "        \"PROBABILITY OF ACCIDENT\": result[i]\n",
    "        }\n",
    "    return pred"
   ]
  },
  {
   "cell_type": "code",
   "execution_count": 347,
   "metadata": {},
   "outputs": [
    {
     "ename": "AttributeError",
     "evalue": "'str' object has no attribute 'items'",
     "output_type": "error",
     "traceback": [
      "\u001b[1;31m---------------------------------------------------------------------------\u001b[0m",
      "\u001b[1;31mAttributeError\u001b[0m                            Traceback (most recent call last)",
      "\u001b[1;32m<ipython-input-347-e615dc76eddd>\u001b[0m in \u001b[0;36m<module>\u001b[1;34m\u001b[0m\n\u001b[1;32m----> 1\u001b[1;33m \u001b[0mprediction\u001b[0m\u001b[1;33m(\u001b[0m\u001b[0minput\u001b[0m\u001b[1;33m)\u001b[0m\u001b[1;33m\u001b[0m\u001b[1;33m\u001b[0m\u001b[0m\n\u001b[0m",
      "\u001b[1;32m<ipython-input-327-1a069f35e899>\u001b[0m in \u001b[0;36mprediction\u001b[1;34m(input)\u001b[0m\n\u001b[0;32m      3\u001b[0m     \u001b[0mpred\u001b[0m \u001b[1;33m=\u001b[0m \u001b[1;33m{\u001b[0m\u001b[1;33m}\u001b[0m\u001b[1;33m\u001b[0m\u001b[1;33m\u001b[0m\u001b[0m\n\u001b[0;32m      4\u001b[0m     \u001b[1;32mfor\u001b[0m \u001b[0mi\u001b[0m \u001b[1;32min\u001b[0m \u001b[0mrange\u001b[0m\u001b[1;33m(\u001b[0m\u001b[0mlen\u001b[0m\u001b[1;33m(\u001b[0m\u001b[0minput\u001b[0m\u001b[1;33m)\u001b[0m\u001b[1;33m)\u001b[0m\u001b[1;33m:\u001b[0m\u001b[1;33m\u001b[0m\u001b[1;33m\u001b[0m\u001b[0m\n\u001b[1;32m----> 5\u001b[1;33m         \u001b[1;32mfor\u001b[0m \u001b[0mkeys\u001b[0m\u001b[1;33m,\u001b[0m \u001b[0mvalues\u001b[0m \u001b[1;32min\u001b[0m \u001b[0minput\u001b[0m\u001b[1;33m[\u001b[0m\u001b[0mi\u001b[0m\u001b[1;33m]\u001b[0m\u001b[1;33m.\u001b[0m\u001b[0mitems\u001b[0m\u001b[1;33m(\u001b[0m\u001b[1;33m)\u001b[0m\u001b[1;33m:\u001b[0m\u001b[1;33m\u001b[0m\u001b[1;33m\u001b[0m\u001b[0m\n\u001b[0m\u001b[0;32m      6\u001b[0m             observation = [today.day, today.month, today.year, today.weekday(), float(input[i]['LATITUDE']), \n\u001b[0;32m      7\u001b[0m                         \u001b[0mfloat\u001b[0m\u001b[1;33m(\u001b[0m\u001b[0minput\u001b[0m\u001b[1;33m[\u001b[0m\u001b[0mi\u001b[0m\u001b[1;33m]\u001b[0m\u001b[1;33m[\u001b[0m\u001b[1;34m'LONGITUD'\u001b[0m\u001b[1;33m]\u001b[0m\u001b[1;33m)\u001b[0m\u001b[1;33m,\u001b[0m \u001b[0mint\u001b[0m\u001b[1;33m(\u001b[0m\u001b[0minput\u001b[0m\u001b[1;33m[\u001b[0m\u001b[0mi\u001b[0m\u001b[1;33m]\u001b[0m\u001b[1;33m[\u001b[0m\u001b[1;34m'HOUR'\u001b[0m\u001b[1;33m]\u001b[0m\u001b[1;33m)\u001b[0m\u001b[1;33m,\u001b[0m \u001b[0mint\u001b[0m\u001b[1;33m(\u001b[0m\u001b[0minput\u001b[0m\u001b[1;33m[\u001b[0m\u001b[0mi\u001b[0m\u001b[1;33m]\u001b[0m\u001b[1;33m[\u001b[0m\u001b[1;34m'WEATHER'\u001b[0m\u001b[1;33m]\u001b[0m\u001b[1;33m)\u001b[0m\u001b[1;33m,\u001b[0m\u001b[1;33m\u001b[0m\u001b[1;33m\u001b[0m\u001b[0m\n",
      "\u001b[1;31mAttributeError\u001b[0m: 'str' object has no attribute 'items'"
     ]
    }
   ],
   "source": [
    "prediction(input)"
   ]
  },
  {
   "cell_type": "code",
   "execution_count": 197,
   "metadata": {},
   "outputs": [],
   "source": [
    "# url = \"http://localhost:5000/api\"\n",
    "url = \"http://saferoads.herokuapp.com/api\""
   ]
  },
  {
   "cell_type": "code",
   "execution_count": 201,
   "metadata": {},
   "outputs": [],
   "source": [
    "input = json.dumps({\"LATITUDE\": 30, \"LONGITUD\": -90})"
   ]
  },
  {
   "cell_type": "code",
   "execution_count": 202,
   "metadata": {},
   "outputs": [],
   "source": [
    "send = requests.post(url, input)"
   ]
  },
  {
   "cell_type": "code",
   "execution_count": 203,
   "metadata": {},
   "outputs": [
    {
     "name": "stdout",
     "output_type": "stream",
     "text": [
      "{'data': [{'accidents_2015': 10, 'accidents_2016': 11, 'accidents_2017': 12, 'current_weather': 'Clear', 'fatalities_2015': 10, 'fatalities_2016': 11, 'fatalities_2017': 16, 'hour_most_accidents': '10 PM', 'latitude': 30.02476389, 'longitude': -90.01293333, 'month_most_accidents': 'Oct', 'most_common_type_collision': 'Not collision with motor vehicle', 'probability_accident': '21.45%', 'risk_level': 'Moderate to High', 'weekday_most_accidents': 'Wednesday'}, {'accidents_2015': 10, 'accidents_2016': 11, 'accidents_2017': 12, 'current_weather': 'Clear', 'fatalities_2015': 10, 'fatalities_2016': 11, 'fatalities_2017': 16, 'hour_most_accidents': '10 PM', 'latitude': 30.02054444, 'longitude': -89.95975556, 'month_most_accidents': 'Oct', 'most_common_type_collision': 'Not collision with motor vehicle', 'probability_accident': '24.79%', 'risk_level': 'Moderate to High', 'weekday_most_accidents': 'Wednesday'}, {'accidents_2015': 10, 'accidents_2016': 11, 'accidents_2017': 12, 'current_weather': 'Clear', 'fatalities_2015': 10, 'fatalities_2016': 11, 'fatalities_2017': 16, 'hour_most_accidents': '10 PM', 'latitude': 29.99226667, 'longitude': -90.04892778, 'month_most_accidents': 'Oct', 'most_common_type_collision': 'Not collision with motor vehicle', 'probability_accident': '28.45%', 'risk_level': 'Moderate to High', 'weekday_most_accidents': 'Wednesday'}, {'accidents_2015': 10, 'accidents_2016': 11, 'accidents_2017': 12, 'current_weather': 'Clear', 'fatalities_2015': 10, 'fatalities_2016': 11, 'fatalities_2017': 16, 'hour_most_accidents': '10 PM', 'latitude': 30.02841944, 'longitude': -89.99751944, 'month_most_accidents': 'Oct', 'most_common_type_collision': 'Not collision with motor vehicle', 'probability_accident': '21.45%', 'risk_level': 'Moderate to High', 'weekday_most_accidents': 'Wednesday'}, {'accidents_2015': 10, 'accidents_2016': 11, 'accidents_2017': 12, 'current_weather': 'Clear', 'fatalities_2015': 10, 'fatalities_2016': 11, 'fatalities_2017': 16, 'hour_most_accidents': '10 PM', 'latitude': 30.01061667, 'longitude': -90.01528056, 'month_most_accidents': 'Oct', 'most_common_type_collision': 'Not collision with motor vehicle', 'probability_accident': '32.87%', 'risk_level': 'Moderate to High', 'weekday_most_accidents': 'Wednesday'}, {'accidents_2015': 10, 'accidents_2016': 11, 'accidents_2017': 12, 'current_weather': 'Clear', 'fatalities_2015': 10, 'fatalities_2016': 11, 'fatalities_2017': 16, 'hour_most_accidents': '10 PM', 'latitude': 29.96029167, 'longitude': -90.01200833, 'month_most_accidents': 'Oct', 'most_common_type_collision': 'Not collision with motor vehicle', 'probability_accident': '15.21%', 'risk_level': 'Low', 'weekday_most_accidents': 'Wednesday'}, {'accidents_2015': 10, 'accidents_2016': 11, 'accidents_2017': 12, 'current_weather': 'Clear', 'fatalities_2015': 10, 'fatalities_2016': 11, 'fatalities_2017': 16, 'hour_most_accidents': '10 PM', 'latitude': 30.00013056, 'longitude': -90.039625, 'month_most_accidents': 'Oct', 'most_common_type_collision': 'Not collision with motor vehicle', 'probability_accident': '23.98%', 'risk_level': 'Moderate to High', 'weekday_most_accidents': 'Wednesday'}, {'accidents_2015': 10, 'accidents_2016': 11, 'accidents_2017': 12, 'current_weather': 'Clear', 'fatalities_2015': 10, 'fatalities_2016': 11, 'fatalities_2017': 16, 'hour_most_accidents': '10 PM', 'latitude': 29.96883056, 'longitude': -90.02471944, 'month_most_accidents': 'Oct', 'most_common_type_collision': 'Not collision with motor vehicle', 'probability_accident': '29.56%', 'risk_level': 'Moderate to High', 'weekday_most_accidents': 'Wednesday'}, {'accidents_2015': 10, 'accidents_2016': 11, 'accidents_2017': 12, 'current_weather': 'Clear', 'fatalities_2015': 10, 'fatalities_2016': 11, 'fatalities_2017': 16, 'hour_most_accidents': '10 PM', 'latitude': 30.00189722, 'longitude': -90.03578889, 'month_most_accidents': 'Oct', 'most_common_type_collision': 'Not collision with motor vehicle', 'probability_accident': '17.22%', 'risk_level': 'Low', 'weekday_most_accidents': 'Wednesday'}, {'accidents_2015': 10, 'accidents_2016': 11, 'accidents_2017': 12, 'current_weather': 'Clear', 'fatalities_2015': 10, 'fatalities_2016': 11, 'fatalities_2017': 16, 'hour_most_accidents': '10 PM', 'latitude': 30.00432778, 'longitude': -90.01538056, 'month_most_accidents': 'Oct', 'most_common_type_collision': 'Not collision with motor vehicle', 'probability_accident': '18.19%', 'risk_level': 'Low', 'weekday_most_accidents': 'Wednesday'}, {'accidents_2015': 10, 'accidents_2016': 11, 'accidents_2017': 12, 'current_weather': 'Clear', 'fatalities_2015': 10, 'fatalities_2016': 11, 'fatalities_2017': 16, 'hour_most_accidents': '10 PM', 'latitude': 30.01201944, 'longitude': -90.00066944, 'month_most_accidents': 'Oct', 'most_common_type_collision': 'Not collision with motor vehicle', 'probability_accident': '23.51%', 'risk_level': 'Moderate to High', 'weekday_most_accidents': 'Wednesday'}, {'accidents_2015': 10, 'accidents_2016': 11, 'accidents_2017': 12, 'current_weather': 'Clear', 'fatalities_2015': 10, 'fatalities_2016': 11, 'fatalities_2017': 16, 'hour_most_accidents': '10 PM', 'latitude': 30.01400556, 'longitude': -89.98996389, 'month_most_accidents': 'Oct', 'most_common_type_collision': 'Not collision with motor vehicle', 'probability_accident': '24.79%', 'risk_level': 'Moderate to High', 'weekday_most_accidents': 'Wednesday'}, {'accidents_2015': 10, 'accidents_2016': 11, 'accidents_2017': 12, 'current_weather': 'Clear', 'fatalities_2015': 10, 'fatalities_2016': 11, 'fatalities_2017': 16, 'hour_most_accidents': '10 PM', 'latitude': 30.03008333, 'longitude': -89.99359722, 'month_most_accidents': 'Oct', 'most_common_type_collision': 'Not collision with motor vehicle', 'probability_accident': '21.45%', 'risk_level': 'Moderate to High', 'weekday_most_accidents': 'Wednesday'}, {'accidents_2015': 10, 'accidents_2016': 11, 'accidents_2017': 12, 'current_weather': 'Clear', 'fatalities_2015': 10, 'fatalities_2016': 11, 'fatalities_2017': 16, 'hour_most_accidents': '10 PM', 'latitude': 30.00426944, 'longitude': -90.0162, 'month_most_accidents': 'Oct', 'most_common_type_collision': 'Not collision with motor vehicle', 'probability_accident': '15.29%', 'risk_level': 'Low', 'weekday_most_accidents': 'Wednesday'}, {'accidents_2015': 10, 'accidents_2016': 11, 'accidents_2017': 12, 'current_weather': 'Clear', 'fatalities_2015': 10, 'fatalities_2016': 11, 'fatalities_2017': 16, 'hour_most_accidents': '10 PM', 'latitude': 30.00261667, 'longitude': -90.03555278, 'month_most_accidents': 'Oct', 'most_common_type_collision': 'Not collision with motor vehicle', 'probability_accident': '25.55%', 'risk_level': 'Moderate to High', 'weekday_most_accidents': 'Wednesday'}, {'accidents_2015': 10, 'accidents_2016': 11, 'accidents_2017': 12, 'current_weather': 'Clear', 'fatalities_2015': 10, 'fatalities_2016': 11, 'fatalities_2017': 16, 'hour_most_accidents': '10 PM', 'latitude': 30.02836389, 'longitude': -90.01666389, 'month_most_accidents': 'Oct', 'most_common_type_collision': 'Not collision with motor vehicle', 'probability_accident': '18.17%', 'risk_level': 'Low', 'weekday_most_accidents': 'Wednesday'}, {'accidents_2015': 10, 'accidents_2016': 11, 'accidents_2017': 12, 'current_weather': 'Clear', 'fatalities_2015': 10, 'fatalities_2016': 11, 'fatalities_2017': 16, 'hour_most_accidents': '10 PM', 'latitude': 30.01193611, 'longitude': -90.00335556, 'month_most_accidents': 'Oct', 'most_common_type_collision': 'Not collision with motor vehicle', 'probability_accident': '23.79%', 'risk_level': 'Moderate to High', 'weekday_most_accidents': 'Wednesday'}, {'accidents_2015': 10, 'accidents_2016': 11, 'accidents_2017': 12, 'current_weather': 'Clear', 'fatalities_2015': 10, 'fatalities_2016': 11, 'fatalities_2017': 16, 'hour_most_accidents': '10 PM', 'latitude': 29.96680833, 'longitude': -90.01686667, 'month_most_accidents': 'Oct', 'most_common_type_collision': 'Not collision with motor vehicle', 'probability_accident': '20.75%', 'risk_level': 'Moderate to High', 'weekday_most_accidents': 'Wednesday'}, {'accidents_2015': 10, 'accidents_2016': 11, 'accidents_2017': 12, 'current_weather': 'Clear', 'fatalities_2015': 10, 'fatalities_2016': 11, 'fatalities_2017': 16, 'hour_most_accidents': '10 PM', 'latitude': 29.99021944, 'longitude': -90.02918056, 'month_most_accidents': 'Oct', 'most_common_type_collision': 'Not collision with motor vehicle', 'probability_accident': '19.41%', 'risk_level': 'Low', 'weekday_most_accidents': 'Wednesday'}, {'accidents_2015': 10, 'accidents_2016': 11, 'accidents_2017': 12, 'current_weather': 'Clear', 'fatalities_2015': 10, 'fatalities_2016': 11, 'fatalities_2017': 16, 'hour_most_accidents': '10 PM', 'latitude': 30.01328056, 'longitude': -89.99318056, 'month_most_accidents': 'Oct', 'most_common_type_collision': 'Not collision with motor vehicle', 'probability_accident': '32.24%', 'risk_level': 'Moderate to High', 'weekday_most_accidents': 'Wednesday'}, {'accidents_2015': 10, 'accidents_2016': 11, 'accidents_2017': 12, 'current_weather': 'Clear', 'fatalities_2015': 10, 'fatalities_2016': 11, 'fatalities_2017': 16, 'hour_most_accidents': '10 PM', 'latitude': 30.01564167, 'longitude': -90.01110278, 'month_most_accidents': 'Oct', 'most_common_type_collision': 'Not collision with motor vehicle', 'probability_accident': '18.87%', 'risk_level': 'Low', 'weekday_most_accidents': 'Wednesday'}, {'accidents_2015': 10, 'accidents_2016': 11, 'accidents_2017': 12, 'current_weather': 'Clear', 'fatalities_2015': 10, 'fatalities_2016': 11, 'fatalities_2017': 16, 'hour_most_accidents': '10 PM', 'latitude': 30.00596111, 'longitude': -90.03443889, 'month_most_accidents': 'Oct', 'most_common_type_collision': 'Not collision with motor vehicle', 'probability_accident': '27.15%', 'risk_level': 'Moderate to High', 'weekday_most_accidents': 'Wednesday'}, {'accidents_2015': 10, 'accidents_2016': 11, 'accidents_2017': 12, 'current_weather': 'Clear', 'fatalities_2015': 10, 'fatalities_2016': 11, 'fatalities_2017': 16, 'hour_most_accidents': '10 PM', 'latitude': 30.00936111, 'longitude': -90.01331111, 'month_most_accidents': 'Oct', 'most_common_type_collision': 'Not collision with motor vehicle', 'probability_accident': '18.26%', 'risk_level': 'Low', 'weekday_most_accidents': 'Wednesday'}, {'accidents_2015': 10, 'accidents_2016': 11, 'accidents_2017': 12, 'current_weather': 'Clear', 'fatalities_2015': 10, 'fatalities_2016': 11, 'fatalities_2017': 16, 'hour_most_accidents': '10 PM', 'latitude': 30.01126111, 'longitude': -90.00978889, 'month_most_accidents': 'Oct', 'most_common_type_collision': 'Not collision with motor vehicle', 'probability_accident': '30.39%', 'risk_level': 'Moderate to High', 'weekday_most_accidents': 'Wednesday'}, {'accidents_2015': 10, 'accidents_2016': 11, 'accidents_2017': 12, 'current_weather': 'Clear', 'fatalities_2015': 10, 'fatalities_2016': 11, 'fatalities_2017': 16, 'hour_most_accidents': '10 PM', 'latitude': 30.01188056, 'longitude': -90.00291111, 'month_most_accidents': 'Oct', 'most_common_type_collision': 'Not collision with motor vehicle', 'probability_accident': '23.79%', 'risk_level': 'Moderate to High', 'weekday_most_accidents': 'Wednesday'}, {'accidents_2015': 10, 'accidents_2016': 11, 'accidents_2017': 12, 'current_weather': 'Clear', 'fatalities_2015': 10, 'fatalities_2016': 11, 'fatalities_2017': 16, 'hour_most_accidents': '10 PM', 'latitude': 30.010725, 'longitude': -90.0125, 'month_most_accidents': 'Oct', 'most_common_type_collision': 'Not collision with motor vehicle', 'probability_accident': '26.37%', 'risk_level': 'Moderate to High', 'weekday_most_accidents': 'Wednesday'}, {'accidents_2015': 10, 'accidents_2016': 11, 'accidents_2017': 12, 'current_weather': 'Clear', 'fatalities_2015': 10, 'fatalities_2016': 11, 'fatalities_2017': 16, 'hour_most_accidents': '10 PM', 'latitude': 30.00525556, 'longitude': -90.02459722, 'month_most_accidents': 'Oct', 'most_common_type_collision': 'Not collision with motor vehicle', 'probability_accident': '21.99%', 'risk_level': 'Moderate to High', 'weekday_most_accidents': 'Wednesday'}, {'accidents_2015': 10, 'accidents_2016': 11, 'accidents_2017': 12, 'current_weather': 'Clear', 'fatalities_2015': 10, 'fatalities_2016': 11, 'fatalities_2017': 16, 'hour_most_accidents': '10 PM', 'latitude': 30.0079, 'longitude': -89.99646944, 'month_most_accidents': 'Oct', 'most_common_type_collision': 'Not collision with motor vehicle', 'probability_accident': '15.29%', 'risk_level': 'Low', 'weekday_most_accidents': 'Wednesday'}, {'accidents_2015': 10, 'accidents_2016': 11, 'accidents_2017': 12, 'current_weather': 'Clear', 'fatalities_2015': 10, 'fatalities_2016': 11, 'fatalities_2017': 16, 'hour_most_accidents': '10 PM', 'latitude': 30.00997778, 'longitude': -90.02078056, 'month_most_accidents': 'Oct', 'most_common_type_collision': 'Not collision with motor vehicle', 'probability_accident': '28.93%', 'risk_level': 'Moderate to High', 'weekday_most_accidents': 'Wednesday'}, {'accidents_2015': 10, 'accidents_2016': 11, 'accidents_2017': 12, 'current_weather': 'Clear', 'fatalities_2015': 10, 'fatalities_2016': 11, 'fatalities_2017': 16, 'hour_most_accidents': '10 PM', 'latitude': 30.01340278, 'longitude': -89.99307222, 'month_most_accidents': 'Oct', 'most_common_type_collision': 'Not collision with motor vehicle', 'probability_accident': '29.59%', 'risk_level': 'Moderate to High', 'weekday_most_accidents': 'Wednesday'}, {'accidents_2015': 10, 'accidents_2016': 11, 'accidents_2017': 12, 'current_weather': 'Clear', 'fatalities_2015': 10, 'fatalities_2016': 11, 'fatalities_2017': 16, 'hour_most_accidents': '10 PM', 'latitude': 30.00461389, 'longitude': -90.02230556, 'month_most_accidents': 'Oct', 'most_common_type_collision': 'Not collision with motor vehicle', 'probability_accident': '25.23%', 'risk_level': 'Moderate to High', 'weekday_most_accidents': 'Wednesday'}, {'accidents_2015': 10, 'accidents_2016': 11, 'accidents_2017': 12, 'current_weather': 'Clear', 'fatalities_2015': 10, 'fatalities_2016': 11, 'fatalities_2017': 16, 'hour_most_accidents': '10 PM', 'latitude': 29.97416667, 'longitude': -90.02979444, 'month_most_accidents': 'Oct', 'most_common_type_collision': 'Not collision with motor vehicle', 'probability_accident': '25.49%', 'risk_level': 'Moderate to High', 'weekday_most_accidents': 'Wednesday'}, {'accidents_2015': 10, 'accidents_2016': 11, 'accidents_2017': 12, 'current_weather': 'Clear', 'fatalities_2015': 10, 'fatalities_2016': 11, 'fatalities_2017': 16, 'hour_most_accidents': '10 PM', 'latitude': 30.01595, 'longitude': -89.97886111, 'month_most_accidents': 'Oct', 'most_common_type_collision': 'Not collision with motor vehicle', 'probability_accident': '25.9%', 'risk_level': 'Moderate to High', 'weekday_most_accidents': 'Wednesday'}]}\n"
     ]
    }
   ],
   "source": [
    "print(send.json())"
   ]
  },
  {
   "cell_type": "code",
   "execution_count": 481,
   "metadata": {},
   "outputs": [
    {
     "ename": "SyntaxError",
     "evalue": "invalid syntax (<ipython-input-481-6ea6fd4d7020>, line 1)",
     "output_type": "error",
     "traceback": [
      "\u001b[1;36m  File \u001b[1;32m\"<ipython-input-481-6ea6fd4d7020>\"\u001b[1;36m, line \u001b[1;32m1\u001b[0m\n\u001b[1;33m    No Additional Atmospheric Conditions 0\u001b[0m\n\u001b[1;37m                ^\u001b[0m\n\u001b[1;31mSyntaxError\u001b[0m\u001b[1;31m:\u001b[0m invalid syntax\n"
     ]
    }
   ],
   "source": [
    "No Additional Atmospheric Conditions 0\n",
    "Clear 1\n",
    "Cloudy 10\n",
    "Rain 2\n",
    "Sleet or Hail 3\n",
    "Freezing Rain or Drizzle 12\n",
    "Snow 4\n",
    "Blowing Snow 11\n",
    "Fog, Smog, Smoke 5\n",
    "Severe Crosswinds 6\n",
    "Blowing Sand, Soil, Dirt 7\n",
    "Other 8\n",
    "Not Reported 98\n",
    "Unknown 99"
   ]
  },
  {
   "cell_type": "code",
   "execution_count": null,
   "metadata": {},
   "outputs": [],
   "source": [
    "if main =\n",
    "thunderstorm, then 2\n",
    "if main = Drizzle, then 12\n",
    "if main = Rain, then 2\n",
    "if main = Snow, then 4\n",
    "if main = Dust, then 7\n",
    "if main = Sand, then 7\n",
    "if main = Smoke, then 5\n",
    "if main = Clear, then 1\n",
    "if main = Clouds, then 10\n",
    "if main = Fog, then 5\n"
   ]
  },
  {
   "cell_type": "code",
   "execution_count": 602,
   "metadata": {},
   "outputs": [
    {
     "name": "stdout",
     "output_type": "stream",
     "text": [
      "{'coord': {'lon': -11.83, 'lat': 56.95}, 'weather': [{'id': 803, 'main': 'Clouds', 'description': 'broken clouds', 'icon': '04n'}], 'base': 'stations', 'main': {'temp': 285.691, 'pressure': 987.62, 'humidity': 84, 'temp_min': 285.691, 'temp_max': 285.691, 'sea_level': 987.62, 'grnd_level': 988.18}, 'wind': {'speed': 3.42, 'deg': 193.403}, 'clouds': {'all': 67}, 'dt': 1569443738, 'sys': {'message': 0.011, 'sunrise': 1569393460, 'sunset': 1569436835}, 'timezone': 3600, 'id': 0, 'name': '', 'cod': 200}\n"
     ]
    }
   ],
   "source": [
    "import requests\n",
    "    \n",
    "def get_weather(lat, lon):\n",
    "    URL = f'http://api.openweathermap.org/data/2.5/weather?lat={lat}&lon={lon}&APPID=ae2fff8ef560467a665dab34e9784d4c'\n",
    "    r = requests.get(URL)\n",
    "    data = r.json()\n",
    "    return data\n",
    "\n",
    "print(get_weather(56.95, -11.83))"
   ]
  },
  {
   "cell_type": "code",
   "execution_count": 604,
   "metadata": {},
   "outputs": [
    {
     "ename": "TypeError",
     "evalue": "string indices must be integers",
     "output_type": "error",
     "traceback": [
      "\u001b[1;31m---------------------------------------------------------------------------\u001b[0m",
      "\u001b[1;31mTypeError\u001b[0m                                 Traceback (most recent call last)",
      "\u001b[1;32m<ipython-input-604-62bf039b42da>\u001b[0m in \u001b[0;36m<module>\u001b[1;34m\u001b[0m\n\u001b[1;32m----> 1\u001b[1;33m \u001b[0mweather\u001b[0m \u001b[1;33m=\u001b[0m \u001b[0mget_weather\u001b[0m\u001b[1;33m(\u001b[0m\u001b[0minput\u001b[0m\u001b[1;33m[\u001b[0m\u001b[0mi\u001b[0m\u001b[1;33m]\u001b[0m\u001b[1;33m[\u001b[0m\u001b[1;34m'LATITUDE'\u001b[0m\u001b[1;33m]\u001b[0m\u001b[1;33m,\u001b[0m \u001b[0minput\u001b[0m\u001b[1;33m[\u001b[0m\u001b[0mi\u001b[0m\u001b[1;33m]\u001b[0m\u001b[1;33m[\u001b[0m\u001b[1;34m'LONGITUD'\u001b[0m\u001b[1;33m]\u001b[0m\u001b[1;33m)\u001b[0m\u001b[1;33m\u001b[0m\u001b[1;33m\u001b[0m\u001b[0m\n\u001b[0m",
      "\u001b[1;31mTypeError\u001b[0m: string indices must be integers"
     ]
    }
   ],
   "source": [
    "weather = get_weather(input[i]['LATITUDE'], input[i]['LONGITUD'])"
   ]
  },
  {
   "cell_type": "code",
   "execution_count": 642,
   "metadata": {},
   "outputs": [],
   "source": [
    "input = json.dumps(\n",
    "[{\n",
    "        \"LATITUDE\": 20.748005970539843,\n",
    "        \"LONGITUD\": -60.11728659260366,\n",
    "        \"ROUTE\": 6,\n",
    "        \"TYP_INT\": 1,\n",
    "        \"TWAY_ID\": \"WOLF RIDGE RD\"\n",
    "    },\n",
    "    {\n",
    "        \"LATITUDE\": 22.54497821745906,\n",
    "        \"LONGITUD\": -53.63684929388019,\n",
    "        \"ROUTE\": 2,\n",
    "        \"TYP_INT\": 1,\n",
    "        \"TWAY_ID\": \"US-80 E TEXAS STREET\"\n",
    "    }\n",
    "])"
   ]
  },
  {
   "cell_type": "code",
   "execution_count": 638,
   "metadata": {},
   "outputs": [],
   "source": [
    "input = json.loads(input)"
   ]
  },
  {
   "cell_type": "code",
   "execution_count": 639,
   "metadata": {},
   "outputs": [],
   "source": [
    "def prediction(input):\n",
    "    data = []\n",
    "    pred = {}\n",
    "    for i in range(len(input)):\n",
    "            for keys, values in input[i].items():\n",
    "                weather = get_weather(input[i]['LATITUDE'], input[i]['LONGITUD'])\n",
    "                observation = [today.day, today.month, today.year, \n",
    "                              today.weekday(), input[i]['LATITUDE'], \n",
    "                              input[i]['LONGITUD'], today.hour, \n",
    "                              weather, input[i]['ROUTE'], \n",
    "                                  input[i]['TYP_INT'], input[i]['TWAY_ID']]\n",
    "            data.append(observation)\n",
    "            pred[i] = {\n",
    "            \"LATITUDE\": input[i]['LONGITUD'],\n",
    "            \"LONGITUDE\": input[i]['LATITUDE'],\n",
    "            \"PROBABILITY OF ACCIDENT\": result[i]\n",
    "            }\n",
    "    return data"
   ]
  },
  {
   "cell_type": "code",
   "execution_count": 635,
   "metadata": {},
   "outputs": [
    {
     "data": {
      "text/plain": [
       "{'id': 803, 'main': 'Clouds', 'description': 'broken clouds', 'icon': '04n'}"
      ]
     },
     "execution_count": 635,
     "metadata": {},
     "output_type": "execute_result"
    }
   ],
   "source": [
    "get_weather(56.95, -11.83)['weather'][0]"
   ]
  },
  {
   "cell_type": "code",
   "execution_count": 694,
   "metadata": {},
   "outputs": [],
   "source": [
    "def get_weather(lat, lon):\n",
    "    URL = f'http://api.openweathermap.org/data/2.5/weather?lat={lat}&lon={lon}&APPID=ae2fff8ef560467a665dab34e9784d4c'\n",
    "    r = requests.get(URL)\n",
    "    data = r.json()\n",
    "    return r"
   ]
  },
  {
   "cell_type": "code",
   "execution_count": 695,
   "metadata": {},
   "outputs": [
    {
     "data": {
      "text/plain": [
       "'http://api.openweathermap.org/data/2.5/weather?lat=34&lon=-50.34&APPID=ae2fff8ef560467a665dab34e9784d4c'"
      ]
     },
     "execution_count": 695,
     "metadata": {},
     "output_type": "execute_result"
    }
   ],
   "source": [
    "r.url"
   ]
  },
  {
   "cell_type": "code",
   "execution_count": 692,
   "metadata": {},
   "outputs": [],
   "source": [
    "data = get_weather(56.95, -11.83)"
   ]
  },
  {
   "cell_type": "code",
   "execution_count": 693,
   "metadata": {},
   "outputs": [
    {
     "ename": "KeyError",
     "evalue": "'weather'",
     "output_type": "error",
     "traceback": [
      "\u001b[1;31m---------------------------------------------------------------------------\u001b[0m",
      "\u001b[1;31mKeyError\u001b[0m                                  Traceback (most recent call last)",
      "\u001b[1;32m<ipython-input-693-c6bdd36a117b>\u001b[0m in \u001b[0;36m<module>\u001b[1;34m\u001b[0m\n\u001b[1;32m----> 1\u001b[1;33m \u001b[0mdata\u001b[0m\u001b[1;33m[\u001b[0m\u001b[1;34m'weather'\u001b[0m\u001b[1;33m]\u001b[0m\u001b[1;33m[\u001b[0m\u001b[1;36m0\u001b[0m\u001b[1;33m]\u001b[0m\u001b[1;33m[\u001b[0m\u001b[1;34m'main'\u001b[0m\u001b[1;33m]\u001b[0m\u001b[1;33m\u001b[0m\u001b[1;33m\u001b[0m\u001b[0m\n\u001b[0m",
      "\u001b[1;31mKeyError\u001b[0m: 'weather'"
     ]
    }
   ],
   "source": [
    "data['weather'][0]['main']"
   ]
  },
  {
   "cell_type": "code",
   "execution_count": null,
   "metadata": {},
   "outputs": [],
   "source": [
    "if main =\n",
    "thunderstorm, then 2\n",
    "if main = Drizzle, then 12\n",
    "if main = Rain, then 2\n",
    "if main = Snow, then 4\n",
    "if main = Dust, then 7\n",
    "if main = Sand, then 7\n",
    "if main = Smoke, then 5\n",
    "if main = Clear, then 1\n",
    "if main = Clouds, then 10\n",
    "if main = Fog, then 5\n"
   ]
  },
  {
   "cell_type": "code",
   "execution_count": 742,
   "metadata": {},
   "outputs": [],
   "source": [
    "weather_dict = {\n",
    "    'Clear': 1,\n",
    "    'Clouds': 10,\n",
    "    'Rain': 2,\n",
    "    'Thunderstorm': 2,\n",
    "    'Snow': 4,\n",
    "    'Sand': 7,\n",
    "    'Dust': 7,\n",
    "    'Smoke': 5,\n",
    "    'Fog': 5,\n",
    "    'Drizzle': 12\n",
    "}\n",
    "\n",
    "def get_weather():\n",
    "#     URL = f'http://api.openweathermap.org/data/2.5/weather?lat={lat}&lon={lon}&APPID=ae2fff8ef560467a665dab34e9784d4c'\n",
    "#     r = requests.get(URL)\n",
    "#     data = r.json()\n",
    "#     data = {\"coord\":{\"lon\":30,\"lat\":50},\"weather\":[{\"id\":800,\"main\":\"Smoke\",\"description\":\"clear sky\",\"icon\":\"01n\"}],\"base\":\"stations\",\"main\":{\"temp\":286.02,\"pressure\":1014,\"humidity\":62,\"temp_min\":285.93,\"temp_max\":286.15},\"visibility\":10000,\"wind\":{\"speed\":3,\"deg\":130},\"clouds\":{\"all\":0},\"dt\":1569436540,\"sys\":{\"type\":1,\"id\":8903,\"message\":0.0076,\"country\":\"UA\",\"sunrise\":1569383403,\"sunset\":1569426818},\"timezone\":10800,\"id\":709248,\"name\":\"Fastiv\",\"cod\":200}\n",
    "    data = {\"cod\":429, \"message\": \"Your account is temporary blocked due to exceeding of requests limitation of your subscription type. Please choose the proper subscription http://openweathermap.org/price\"}\n",
    "    if 'weather' not in data:\n",
    "        weather = 99\n",
    "        description = 'Unknown'\n",
    "    else:\n",
    "        description = data['weather'][0]['main']\n",
    "        if description in weather_dict.keys():\n",
    "            weather = weather_dict[description]\n",
    "        else:\n",
    "            weather = 99\n",
    "    return weather, description"
   ]
  },
  {
   "cell_type": "code",
   "execution_count": 743,
   "metadata": {},
   "outputs": [],
   "source": [
    "#     data = {\"coord\":{\"lon\":30,\"lat\":50},\"weather\":[{\"id\":800,\"main\":\"Smoke\",\"description\":\"clear sky\",\"icon\":\"01n\"}],\"base\":\"stations\",\"main\":{\"temp\":286.02,\"pressure\":1014,\"humidity\":62,\"temp_min\":285.93,\"temp_max\":286.15},\"visibility\":10000,\"wind\":{\"speed\":3,\"deg\":130},\"clouds\":{\"all\":0},\"dt\":1569436540,\"sys\":{\"type\":1,\"id\":8903,\"message\":0.0076,\"country\":\"UA\",\"sunrise\":1569383403,\"sunset\":1569426818},\"timezone\":10800,\"id\":709248,\"name\":\"Fastiv\",\"cod\":200}\n",
    "#     data = {\"cod\":429, \"message\": \"Your account is temporary blocked due to exceeding of requests limitation of your subscription type. Please choose the proper subscription http://openweathermap.org/price\"}"
   ]
  },
  {
   "cell_type": "code",
   "execution_count": 744,
   "metadata": {},
   "outputs": [],
   "source": [
    "t = get_weather()"
   ]
  },
  {
   "cell_type": "code",
   "execution_count": 746,
   "metadata": {},
   "outputs": [
    {
     "data": {
      "text/plain": [
       "99"
      ]
     },
     "execution_count": 746,
     "metadata": {},
     "output_type": "execute_result"
    }
   ],
   "source": [
    "t[0]"
   ]
  },
  {
   "cell_type": "code",
   "execution_count": 70,
   "metadata": {},
   "outputs": [],
   "source": [
    "example = {\n",
    "\t\"4\": {\n",
    "\t\t\"LATITUDE\": 30.748005970539843,\n",
    "\t\t\"LONGITUD\": -60.11728659260366,\n",
    "\t\t\"PROBABILITY OF ACCIDENT\": \"24.93%\",\n",
    "\t\t\"RISK LEVEL\": \"Moderate to High\"\n",
    "\t},\n",
    "\t\"5\": {\n",
    "\t\t\"LATITUDE\": 32.54497821745906,\n",
    "\t\t\"LONGITUD\": -53.63684929388019,\n",
    "\t\t\"PROBABILITY OF ACCIDENT\": \"20.06%\",\n",
    "\t\t\"RISK LEVEL\": \"Moderate to High\"\n",
    "\t}\n",
    "}"
   ]
  },
  {
   "cell_type": "code",
   "execution_count": 71,
   "metadata": {},
   "outputs": [
    {
     "data": {
      "text/plain": [
       "{'4': {'LATITUDE': 30.748005970539843,\n",
       "  'LONGITUD': -60.11728659260366,\n",
       "  'PROBABILITY OF ACCIDENT': '24.93%',\n",
       "  'RISK LEVEL': 'Moderate to High'},\n",
       " '5': {'LATITUDE': 32.54497821745906,\n",
       "  'LONGITUD': -53.63684929388019,\n",
       "  'PROBABILITY OF ACCIDENT': '20.06%',\n",
       "  'RISK LEVEL': 'Moderate to High'}}"
      ]
     },
     "execution_count": 71,
     "metadata": {},
     "output_type": "execute_result"
    }
   ],
   "source": [
    "example"
   ]
  },
  {
   "cell_type": "code",
   "execution_count": 26,
   "metadata": {},
   "outputs": [
    {
     "data": {
      "text/plain": [
       "{'LATITUDE': 30.748005970539843,\n",
       " 'LONGITUD': -60.11728659260366,\n",
       " 'PROBABILITY OF ACCIDENT': '24.93%',\n",
       " 'RISK LEVEL': 'Moderate to High'}"
      ]
     },
     "execution_count": 26,
     "metadata": {},
     "output_type": "execute_result"
    }
   ],
   "source": [
    "example['4']"
   ]
  },
  {
   "cell_type": "code",
   "execution_count": 80,
   "metadata": {},
   "outputs": [],
   "source": [
    "def get_array(example):\n",
    "    arr = [example[item] for index, item in enumerate(example)]\n",
    "    dict = {\"data\": arr}\n",
    "    return dict"
   ]
  },
  {
   "cell_type": "code",
   "execution_count": 82,
   "metadata": {},
   "outputs": [],
   "source": [
    "r = get_array(example)"
   ]
  },
  {
   "cell_type": "code",
   "execution_count": 84,
   "metadata": {},
   "outputs": [
    {
     "data": {
      "text/plain": [
       "{'LATITUDE': 30.748005970539843,\n",
       " 'LONGITUD': -60.11728659260366,\n",
       " 'PROBABILITY OF ACCIDENT': '24.93%',\n",
       " 'RISK LEVEL': 'Moderate to High'}"
      ]
     },
     "execution_count": 84,
     "metadata": {},
     "output_type": "execute_result"
    }
   ],
   "source": [
    "r['data'][0]"
   ]
  },
  {
   "cell_type": "code",
   "execution_count": 119,
   "metadata": {},
   "outputs": [
    {
     "ename": "FileNotFoundError",
     "evalue": "[Errno 2] File b'/data/df_db.csv' does not exist: b'/data/df_db.csv'",
     "output_type": "error",
     "traceback": [
      "\u001b[1;31m---------------------------------------------------------------------------\u001b[0m",
      "\u001b[1;31mFileNotFoundError\u001b[0m                         Traceback (most recent call last)",
      "\u001b[1;32m<ipython-input-119-e4da7f8390f1>\u001b[0m in \u001b[0;36m<module>\u001b[1;34m\u001b[0m\n\u001b[1;32m----> 1\u001b[1;33m \u001b[0mdf_db\u001b[0m \u001b[1;33m=\u001b[0m \u001b[0mpd\u001b[0m\u001b[1;33m.\u001b[0m\u001b[0mread_csv\u001b[0m\u001b[1;33m(\u001b[0m\u001b[1;34m'/data/df_db.csv'\u001b[0m\u001b[1;33m)\u001b[0m\u001b[1;33m\u001b[0m\u001b[1;33m\u001b[0m\u001b[0m\n\u001b[0m",
      "\u001b[1;32m~\\Anaconda3\\lib\\site-packages\\pandas\\io\\parsers.py\u001b[0m in \u001b[0;36mparser_f\u001b[1;34m(filepath_or_buffer, sep, delimiter, header, names, index_col, usecols, squeeze, prefix, mangle_dupe_cols, dtype, engine, converters, true_values, false_values, skipinitialspace, skiprows, skipfooter, nrows, na_values, keep_default_na, na_filter, verbose, skip_blank_lines, parse_dates, infer_datetime_format, keep_date_col, date_parser, dayfirst, iterator, chunksize, compression, thousands, decimal, lineterminator, quotechar, quoting, doublequote, escapechar, comment, encoding, dialect, tupleize_cols, error_bad_lines, warn_bad_lines, delim_whitespace, low_memory, memory_map, float_precision)\u001b[0m\n\u001b[0;32m    700\u001b[0m                     skip_blank_lines=skip_blank_lines)\n\u001b[0;32m    701\u001b[0m \u001b[1;33m\u001b[0m\u001b[0m\n\u001b[1;32m--> 702\u001b[1;33m         \u001b[1;32mreturn\u001b[0m \u001b[0m_read\u001b[0m\u001b[1;33m(\u001b[0m\u001b[0mfilepath_or_buffer\u001b[0m\u001b[1;33m,\u001b[0m \u001b[0mkwds\u001b[0m\u001b[1;33m)\u001b[0m\u001b[1;33m\u001b[0m\u001b[1;33m\u001b[0m\u001b[0m\n\u001b[0m\u001b[0;32m    703\u001b[0m \u001b[1;33m\u001b[0m\u001b[0m\n\u001b[0;32m    704\u001b[0m     \u001b[0mparser_f\u001b[0m\u001b[1;33m.\u001b[0m\u001b[0m__name__\u001b[0m \u001b[1;33m=\u001b[0m \u001b[0mname\u001b[0m\u001b[1;33m\u001b[0m\u001b[1;33m\u001b[0m\u001b[0m\n",
      "\u001b[1;32m~\\Anaconda3\\lib\\site-packages\\pandas\\io\\parsers.py\u001b[0m in \u001b[0;36m_read\u001b[1;34m(filepath_or_buffer, kwds)\u001b[0m\n\u001b[0;32m    427\u001b[0m \u001b[1;33m\u001b[0m\u001b[0m\n\u001b[0;32m    428\u001b[0m     \u001b[1;31m# Create the parser.\u001b[0m\u001b[1;33m\u001b[0m\u001b[1;33m\u001b[0m\u001b[1;33m\u001b[0m\u001b[0m\n\u001b[1;32m--> 429\u001b[1;33m     \u001b[0mparser\u001b[0m \u001b[1;33m=\u001b[0m \u001b[0mTextFileReader\u001b[0m\u001b[1;33m(\u001b[0m\u001b[0mfilepath_or_buffer\u001b[0m\u001b[1;33m,\u001b[0m \u001b[1;33m**\u001b[0m\u001b[0mkwds\u001b[0m\u001b[1;33m)\u001b[0m\u001b[1;33m\u001b[0m\u001b[1;33m\u001b[0m\u001b[0m\n\u001b[0m\u001b[0;32m    430\u001b[0m \u001b[1;33m\u001b[0m\u001b[0m\n\u001b[0;32m    431\u001b[0m     \u001b[1;32mif\u001b[0m \u001b[0mchunksize\u001b[0m \u001b[1;32mor\u001b[0m \u001b[0miterator\u001b[0m\u001b[1;33m:\u001b[0m\u001b[1;33m\u001b[0m\u001b[1;33m\u001b[0m\u001b[0m\n",
      "\u001b[1;32m~\\Anaconda3\\lib\\site-packages\\pandas\\io\\parsers.py\u001b[0m in \u001b[0;36m__init__\u001b[1;34m(self, f, engine, **kwds)\u001b[0m\n\u001b[0;32m    893\u001b[0m             \u001b[0mself\u001b[0m\u001b[1;33m.\u001b[0m\u001b[0moptions\u001b[0m\u001b[1;33m[\u001b[0m\u001b[1;34m'has_index_names'\u001b[0m\u001b[1;33m]\u001b[0m \u001b[1;33m=\u001b[0m \u001b[0mkwds\u001b[0m\u001b[1;33m[\u001b[0m\u001b[1;34m'has_index_names'\u001b[0m\u001b[1;33m]\u001b[0m\u001b[1;33m\u001b[0m\u001b[1;33m\u001b[0m\u001b[0m\n\u001b[0;32m    894\u001b[0m \u001b[1;33m\u001b[0m\u001b[0m\n\u001b[1;32m--> 895\u001b[1;33m         \u001b[0mself\u001b[0m\u001b[1;33m.\u001b[0m\u001b[0m_make_engine\u001b[0m\u001b[1;33m(\u001b[0m\u001b[0mself\u001b[0m\u001b[1;33m.\u001b[0m\u001b[0mengine\u001b[0m\u001b[1;33m)\u001b[0m\u001b[1;33m\u001b[0m\u001b[1;33m\u001b[0m\u001b[0m\n\u001b[0m\u001b[0;32m    896\u001b[0m \u001b[1;33m\u001b[0m\u001b[0m\n\u001b[0;32m    897\u001b[0m     \u001b[1;32mdef\u001b[0m \u001b[0mclose\u001b[0m\u001b[1;33m(\u001b[0m\u001b[0mself\u001b[0m\u001b[1;33m)\u001b[0m\u001b[1;33m:\u001b[0m\u001b[1;33m\u001b[0m\u001b[1;33m\u001b[0m\u001b[0m\n",
      "\u001b[1;32m~\\Anaconda3\\lib\\site-packages\\pandas\\io\\parsers.py\u001b[0m in \u001b[0;36m_make_engine\u001b[1;34m(self, engine)\u001b[0m\n\u001b[0;32m   1120\u001b[0m     \u001b[1;32mdef\u001b[0m \u001b[0m_make_engine\u001b[0m\u001b[1;33m(\u001b[0m\u001b[0mself\u001b[0m\u001b[1;33m,\u001b[0m \u001b[0mengine\u001b[0m\u001b[1;33m=\u001b[0m\u001b[1;34m'c'\u001b[0m\u001b[1;33m)\u001b[0m\u001b[1;33m:\u001b[0m\u001b[1;33m\u001b[0m\u001b[1;33m\u001b[0m\u001b[0m\n\u001b[0;32m   1121\u001b[0m         \u001b[1;32mif\u001b[0m \u001b[0mengine\u001b[0m \u001b[1;33m==\u001b[0m \u001b[1;34m'c'\u001b[0m\u001b[1;33m:\u001b[0m\u001b[1;33m\u001b[0m\u001b[1;33m\u001b[0m\u001b[0m\n\u001b[1;32m-> 1122\u001b[1;33m             \u001b[0mself\u001b[0m\u001b[1;33m.\u001b[0m\u001b[0m_engine\u001b[0m \u001b[1;33m=\u001b[0m \u001b[0mCParserWrapper\u001b[0m\u001b[1;33m(\u001b[0m\u001b[0mself\u001b[0m\u001b[1;33m.\u001b[0m\u001b[0mf\u001b[0m\u001b[1;33m,\u001b[0m \u001b[1;33m**\u001b[0m\u001b[0mself\u001b[0m\u001b[1;33m.\u001b[0m\u001b[0moptions\u001b[0m\u001b[1;33m)\u001b[0m\u001b[1;33m\u001b[0m\u001b[1;33m\u001b[0m\u001b[0m\n\u001b[0m\u001b[0;32m   1123\u001b[0m         \u001b[1;32melse\u001b[0m\u001b[1;33m:\u001b[0m\u001b[1;33m\u001b[0m\u001b[1;33m\u001b[0m\u001b[0m\n\u001b[0;32m   1124\u001b[0m             \u001b[1;32mif\u001b[0m \u001b[0mengine\u001b[0m \u001b[1;33m==\u001b[0m \u001b[1;34m'python'\u001b[0m\u001b[1;33m:\u001b[0m\u001b[1;33m\u001b[0m\u001b[1;33m\u001b[0m\u001b[0m\n",
      "\u001b[1;32m~\\Anaconda3\\lib\\site-packages\\pandas\\io\\parsers.py\u001b[0m in \u001b[0;36m__init__\u001b[1;34m(self, src, **kwds)\u001b[0m\n\u001b[0;32m   1851\u001b[0m         \u001b[0mkwds\u001b[0m\u001b[1;33m[\u001b[0m\u001b[1;34m'usecols'\u001b[0m\u001b[1;33m]\u001b[0m \u001b[1;33m=\u001b[0m \u001b[0mself\u001b[0m\u001b[1;33m.\u001b[0m\u001b[0musecols\u001b[0m\u001b[1;33m\u001b[0m\u001b[1;33m\u001b[0m\u001b[0m\n\u001b[0;32m   1852\u001b[0m \u001b[1;33m\u001b[0m\u001b[0m\n\u001b[1;32m-> 1853\u001b[1;33m         \u001b[0mself\u001b[0m\u001b[1;33m.\u001b[0m\u001b[0m_reader\u001b[0m \u001b[1;33m=\u001b[0m \u001b[0mparsers\u001b[0m\u001b[1;33m.\u001b[0m\u001b[0mTextReader\u001b[0m\u001b[1;33m(\u001b[0m\u001b[0msrc\u001b[0m\u001b[1;33m,\u001b[0m \u001b[1;33m**\u001b[0m\u001b[0mkwds\u001b[0m\u001b[1;33m)\u001b[0m\u001b[1;33m\u001b[0m\u001b[1;33m\u001b[0m\u001b[0m\n\u001b[0m\u001b[0;32m   1854\u001b[0m         \u001b[0mself\u001b[0m\u001b[1;33m.\u001b[0m\u001b[0munnamed_cols\u001b[0m \u001b[1;33m=\u001b[0m \u001b[0mself\u001b[0m\u001b[1;33m.\u001b[0m\u001b[0m_reader\u001b[0m\u001b[1;33m.\u001b[0m\u001b[0munnamed_cols\u001b[0m\u001b[1;33m\u001b[0m\u001b[1;33m\u001b[0m\u001b[0m\n\u001b[0;32m   1855\u001b[0m \u001b[1;33m\u001b[0m\u001b[0m\n",
      "\u001b[1;32mpandas/_libs/parsers.pyx\u001b[0m in \u001b[0;36mpandas._libs.parsers.TextReader.__cinit__\u001b[1;34m()\u001b[0m\n",
      "\u001b[1;32mpandas/_libs/parsers.pyx\u001b[0m in \u001b[0;36mpandas._libs.parsers.TextReader._setup_parser_source\u001b[1;34m()\u001b[0m\n",
      "\u001b[1;31mFileNotFoundError\u001b[0m: [Errno 2] File b'/data/df_db.csv' does not exist: b'/data/df_db.csv'"
     ]
    }
   ],
   "source": [
    "df_db = pd.read_csv('/data/df_db.csv')"
   ]
  },
  {
   "cell_type": "code",
   "execution_count": 126,
   "metadata": {},
   "outputs": [],
   "source": [
    "input = json.dumps({\"LATITUDE\": 22.54497821745906, \"LONGITUD\": -53.63684929388019})"
   ]
  },
  {
   "cell_type": "code",
   "execution_count": 127,
   "metadata": {},
   "outputs": [],
   "source": [
    "input = json.loads(input)"
   ]
  },
  {
   "cell_type": "code",
   "execution_count": 128,
   "metadata": {},
   "outputs": [
    {
     "data": {
      "text/plain": [
       "22.54497821745906"
      ]
     },
     "execution_count": 128,
     "metadata": {},
     "output_type": "execute_result"
    }
   ],
   "source": [
    "input['LATITUDE']"
   ]
  },
  {
   "cell_type": "code",
   "execution_count": null,
   "metadata": {},
   "outputs": [],
   "source": []
  }
 ],
 "metadata": {
  "kernelspec": {
   "display_name": "Python 3",
   "language": "python",
   "name": "python3"
  },
  "language_info": {
   "codemirror_mode": {
    "name": "ipython",
    "version": 3
   },
   "file_extension": ".py",
   "mimetype": "text/x-python",
   "name": "python",
   "nbconvert_exporter": "python",
   "pygments_lexer": "ipython3",
   "version": "3.7.3"
  }
 },
 "nbformat": 4,
 "nbformat_minor": 2
}
