{
 "cells": [
  {
   "cell_type": "code",
   "execution_count": 1,
   "metadata": {},
   "outputs": [],
   "source": [
    "# import pandas to read in CSV files\n",
    "import pandas as pd\n",
    "\n",
    "# import matplotlib + seaborn for exploratory data analysis\n",
    "import plotly.graph_objects as go"
   ]
  },
  {
   "cell_type": "code",
   "execution_count": 2,
   "metadata": {},
   "outputs": [],
   "source": [
    "# read in accident data CSVs for 2015 - 2017\n",
    "acc15 = pd.read_csv('/Users/ianforrest/Desktop/coding/repos/DS_Safe-Routes/modeling/accident15.csv')\n",
    "acc16 = pd.read_csv('/Users/ianforrest/Desktop/coding/repos/DS_Safe-Routes/modeling/accident16.csv')\n",
    "acc17 = pd.read_csv('/Users/ianforrest/Desktop/coding/repos/DS_Safe-Routes/modeling/accident17.csv')"
   ]
  },
  {
   "cell_type": "code",
   "execution_count": 3,
   "metadata": {},
   "outputs": [],
   "source": [
    "# combine acc15, acc16, acc17 into one dataframe\n",
    "acc = acc15.append(acc16, sort=False, ignore_index = True)\n",
    "acc = acc.append(acc17, sort=False, ignore_index = True)"
   ]
  },
  {
   "cell_type": "code",
   "execution_count": 4,
   "metadata": {},
   "outputs": [
    {
     "data": {
      "text/plain": [
       "(101533, 52)"
      ]
     },
     "execution_count": 4,
     "metadata": {},
     "output_type": "execute_result"
    }
   ],
   "source": [
    "acc.shape"
   ]
  },
  {
   "cell_type": "code",
   "execution_count": 5,
   "metadata": {},
   "outputs": [
    {
     "data": {
      "text/plain": [
       "Index(['STATE', 'ST_CASE', 'VE_TOTAL', 'VE_FORMS', 'PVH_INVL', 'PEDS',\n",
       "       'PERNOTMVIT', 'PERMVIT', 'PERSONS', 'COUNTY', 'CITY', 'DAY', 'MONTH',\n",
       "       'YEAR', 'DAY_WEEK', 'HOUR', 'MINUTE', 'NHS', 'RUR_URB', 'FUNC_SYS',\n",
       "       'RD_OWNER', 'ROUTE', 'TWAY_ID', 'TWAY_ID2', 'MILEPT', 'LATITUDE',\n",
       "       'LONGITUD', 'SP_JUR', 'HARM_EV', 'MAN_COLL', 'RELJCT1', 'RELJCT2',\n",
       "       'TYP_INT', 'WRK_ZONE', 'REL_ROAD', 'LGT_COND', 'WEATHER1', 'WEATHER2',\n",
       "       'WEATHER', 'SCH_BUS', 'RAIL', 'NOT_HOUR', 'NOT_MIN', 'ARR_HOUR',\n",
       "       'ARR_MIN', 'HOSP_HR', 'HOSP_MN', 'CF1', 'CF2', 'CF3', 'FATALS',\n",
       "       'DRUNK_DR'],\n",
       "      dtype='object')"
      ]
     },
     "execution_count": 5,
     "metadata": {},
     "output_type": "execute_result"
    }
   ],
   "source": [
    "# display columns of combined acc dataframe\n",
    "acc.columns"
   ]
  },
  {
   "cell_type": "code",
   "execution_count": 6,
   "metadata": {},
   "outputs": [
    {
     "data": {
      "text/html": [
       "<div>\n",
       "<style scoped>\n",
       "    .dataframe tbody tr th:only-of-type {\n",
       "        vertical-align: middle;\n",
       "    }\n",
       "\n",
       "    .dataframe tbody tr th {\n",
       "        vertical-align: top;\n",
       "    }\n",
       "\n",
       "    .dataframe thead th {\n",
       "        text-align: right;\n",
       "    }\n",
       "</style>\n",
       "<table border=\"1\" class=\"dataframe\">\n",
       "  <thead>\n",
       "    <tr style=\"text-align: right;\">\n",
       "      <th></th>\n",
       "      <th>COUNT</th>\n",
       "      <th>CITY</th>\n",
       "      <th>STATE</th>\n",
       "      <th>LATITUDE</th>\n",
       "      <th>LONGITUD</th>\n",
       "    </tr>\n",
       "  </thead>\n",
       "  <tbody>\n",
       "    <tr>\n",
       "      <th>0</th>\n",
       "      <td>788</td>\n",
       "      <td>1980</td>\n",
       "      <td>6</td>\n",
       "      <td>34.221669</td>\n",
       "      <td>-118.413881</td>\n",
       "    </tr>\n",
       "    <tr>\n",
       "      <th>1</th>\n",
       "      <td>668</td>\n",
       "      <td>3280</td>\n",
       "      <td>48</td>\n",
       "      <td>29.666778</td>\n",
       "      <td>-95.552475</td>\n",
       "    </tr>\n",
       "    <tr>\n",
       "      <th>2</th>\n",
       "      <td>652</td>\n",
       "      <td>4170</td>\n",
       "      <td>36</td>\n",
       "      <td>40.509711</td>\n",
       "      <td>-74.247503</td>\n",
       "    </tr>\n",
       "    <tr>\n",
       "      <th>3</th>\n",
       "      <td>623</td>\n",
       "      <td>370</td>\n",
       "      <td>4</td>\n",
       "      <td>33.375819</td>\n",
       "      <td>-112.168453</td>\n",
       "    </tr>\n",
       "    <tr>\n",
       "      <th>4</th>\n",
       "      <td>512</td>\n",
       "      <td>1730</td>\n",
       "      <td>48</td>\n",
       "      <td>32.768761</td>\n",
       "      <td>-96.822747</td>\n",
       "    </tr>\n",
       "  </tbody>\n",
       "</table>\n",
       "</div>"
      ],
      "text/plain": [
       "   COUNT  CITY  STATE   LATITUDE    LONGITUD\n",
       "0    788  1980      6  34.221669 -118.413881\n",
       "1    668  3280     48  29.666778  -95.552475\n",
       "2    652  4170     36  40.509711  -74.247503\n",
       "3    623   370      4  33.375819 -112.168453\n",
       "4    512  1730     48  32.768761  -96.822747"
      ]
     },
     "execution_count": 6,
     "metadata": {},
     "output_type": "execute_result"
    }
   ],
   "source": [
    "# create city/state/latitude/longitude dataframe\n",
    "acc_city_state = acc[['CITY', 'STATE', 'LATITUDE', 'LONGITUD']]\n",
    "\n",
    "# remove unknown cities\n",
    "acc_city_state = acc_city_state[acc_city_state['CITY'] > 0]\n",
    "acc_city_state = acc_city_state[acc_city_state['CITY'] < 9997]\n",
    "\n",
    "# remove unknown latitude/longitude\n",
    "# acc_city_state = acc_city_state[acc_city_state['LATITUDE'] < 700]\n",
    "# acc_city_state = acc_city_state[acc_city_state['LONGITUD'] < 700]\n",
    "\n",
    "# add 'COUNT' column to dataframe, counts number of CITY/STATE combinations\n",
    "acc_city_state['COUNT'] = acc_city_state.groupby(['CITY', 'STATE'])['STATE'].transform('count')\n",
    "acc_city_state = acc_city_state.sort_values(by=['COUNT'], ascending=False)\n",
    "acc_city_state = acc_city_state.groupby('COUNT').first().sort_values(by=['COUNT'], ascending=False)\n",
    "acc_city_state = acc_city_state.reset_index()\n",
    "top_100 = acc_city_state.head(100)\n",
    "top_100.head()"
   ]
  },
  {
   "cell_type": "code",
   "execution_count": 7,
   "metadata": {},
   "outputs": [
    {
     "data": {
      "text/html": [
       "<div>\n",
       "<style scoped>\n",
       "    .dataframe tbody tr th:only-of-type {\n",
       "        vertical-align: middle;\n",
       "    }\n",
       "\n",
       "    .dataframe tbody tr th {\n",
       "        vertical-align: top;\n",
       "    }\n",
       "\n",
       "    .dataframe thead th {\n",
       "        text-align: right;\n",
       "    }\n",
       "</style>\n",
       "<table border=\"1\" class=\"dataframe\">\n",
       "  <thead>\n",
       "    <tr style=\"text-align: right;\">\n",
       "      <th></th>\n",
       "      <th>ST_NAME</th>\n",
       "      <th>STATE</th>\n",
       "      <th>CITY</th>\n",
       "      <th>CT_NAME</th>\n",
       "    </tr>\n",
       "  </thead>\n",
       "  <tbody>\n",
       "    <tr>\n",
       "      <th>0</th>\n",
       "      <td>ALABAMA</td>\n",
       "      <td>1</td>\n",
       "      <td>220</td>\n",
       "      <td>AUTAUGAVILLE</td>\n",
       "    </tr>\n",
       "    <tr>\n",
       "      <th>1</th>\n",
       "      <td>ALABAMA</td>\n",
       "      <td>1</td>\n",
       "      <td>340</td>\n",
       "      <td>BILLINGSLEY</td>\n",
       "    </tr>\n",
       "    <tr>\n",
       "      <th>2</th>\n",
       "      <td>ALABAMA</td>\n",
       "      <td>1</td>\n",
       "      <td>425</td>\n",
       "      <td>BOOTH</td>\n",
       "    </tr>\n",
       "    <tr>\n",
       "      <th>3</th>\n",
       "      <td>ALABAMA</td>\n",
       "      <td>1</td>\n",
       "      <td>1796</td>\n",
       "      <td>JONES</td>\n",
       "    </tr>\n",
       "    <tr>\n",
       "      <th>4</th>\n",
       "      <td>ALABAMA</td>\n",
       "      <td>1</td>\n",
       "      <td>2002</td>\n",
       "      <td>MARBURY</td>\n",
       "    </tr>\n",
       "  </tbody>\n",
       "</table>\n",
       "</div>"
      ],
      "text/plain": [
       "   ST_NAME  STATE  CITY       CT_NAME\n",
       "0  ALABAMA      1   220  AUTAUGAVILLE\n",
       "1  ALABAMA      1   340   BILLINGSLEY\n",
       "2  ALABAMA      1   425         BOOTH\n",
       "3  ALABAMA      1  1796         JONES\n",
       "4  ALABAMA      1  2002       MARBURY"
      ]
     },
     "execution_count": 7,
     "metadata": {},
     "output_type": "execute_result"
    }
   ],
   "source": [
    "# City/State dictionary to interpret city/state geocodes\n",
    "df = pd.read_csv('/Users/ianforrest/Desktop/coding/repos/DS_Safe-Routes/visualizations/FRPP GLC United States (1).xlsx - GeoLocation_UnitedStates.csv')\n",
    "df.columns = ['ST_NAME', 'STATE', 'CITY', 'CT_NAME']\n",
    "df.head()"
   ]
  },
  {
   "cell_type": "code",
   "execution_count": 8,
   "metadata": {},
   "outputs": [],
   "source": [
    "# limit dataframe to top 100 cities with most crashes\n",
    "top_100 = top_100.merge(df, how='left').drop_duplicates(['CITY', 'STATE'])\n",
    "\n",
    "# format text of city/state columns\n",
    "top_100['ST_NAME'] = top_100['ST_NAME'].str.title()\n",
    "top_100['CT_NAME'] = top_100['CT_NAME'].str.title()\n",
    "\n",
    "# combine city name, state name, and number of accidents into 'DESC' column\n",
    "top_100['DESC'] = top_100['CT_NAME'] + ', ' + top_100['ST_NAME'] + ' - ' + top_100['COUNT'].map(str) + ' Accidents'"
   ]
  },
  {
   "cell_type": "code",
   "execution_count": 9,
   "metadata": {},
   "outputs": [
    {
     "data": {
      "text/html": [
       "<div>\n",
       "<style scoped>\n",
       "    .dataframe tbody tr th:only-of-type {\n",
       "        vertical-align: middle;\n",
       "    }\n",
       "\n",
       "    .dataframe tbody tr th {\n",
       "        vertical-align: top;\n",
       "    }\n",
       "\n",
       "    .dataframe thead th {\n",
       "        text-align: right;\n",
       "    }\n",
       "</style>\n",
       "<table border=\"1\" class=\"dataframe\">\n",
       "  <thead>\n",
       "    <tr style=\"text-align: right;\">\n",
       "      <th></th>\n",
       "      <th>COUNT</th>\n",
       "      <th>CITY</th>\n",
       "      <th>STATE</th>\n",
       "      <th>LATITUDE</th>\n",
       "      <th>LONGITUD</th>\n",
       "      <th>ST_NAME</th>\n",
       "      <th>CT_NAME</th>\n",
       "      <th>DESC</th>\n",
       "    </tr>\n",
       "  </thead>\n",
       "  <tbody>\n",
       "    <tr>\n",
       "      <th>0</th>\n",
       "      <td>788</td>\n",
       "      <td>1980</td>\n",
       "      <td>6</td>\n",
       "      <td>34.221669</td>\n",
       "      <td>-118.413881</td>\n",
       "      <td>California</td>\n",
       "      <td>Los Angeles</td>\n",
       "      <td>Los Angeles, California - 788 Accidents</td>\n",
       "    </tr>\n",
       "    <tr>\n",
       "      <th>1</th>\n",
       "      <td>668</td>\n",
       "      <td>3280</td>\n",
       "      <td>48</td>\n",
       "      <td>29.666778</td>\n",
       "      <td>-95.552475</td>\n",
       "      <td>Texas</td>\n",
       "      <td>Houston</td>\n",
       "      <td>Houston, Texas - 668 Accidents</td>\n",
       "    </tr>\n",
       "    <tr>\n",
       "      <th>4</th>\n",
       "      <td>652</td>\n",
       "      <td>4170</td>\n",
       "      <td>36</td>\n",
       "      <td>40.509711</td>\n",
       "      <td>-74.247503</td>\n",
       "      <td>New York</td>\n",
       "      <td>New York City</td>\n",
       "      <td>New York City, New York - 652 Accidents</td>\n",
       "    </tr>\n",
       "    <tr>\n",
       "      <th>9</th>\n",
       "      <td>623</td>\n",
       "      <td>370</td>\n",
       "      <td>4</td>\n",
       "      <td>33.375819</td>\n",
       "      <td>-112.168453</td>\n",
       "      <td>Arizona</td>\n",
       "      <td>Phoenix</td>\n",
       "      <td>Phoenix, Arizona - 623 Accidents</td>\n",
       "    </tr>\n",
       "    <tr>\n",
       "      <th>10</th>\n",
       "      <td>512</td>\n",
       "      <td>1730</td>\n",
       "      <td>48</td>\n",
       "      <td>32.768761</td>\n",
       "      <td>-96.822747</td>\n",
       "      <td>Texas</td>\n",
       "      <td>Dallas</td>\n",
       "      <td>Dallas, Texas - 512 Accidents</td>\n",
       "    </tr>\n",
       "  </tbody>\n",
       "</table>\n",
       "</div>"
      ],
      "text/plain": [
       "    COUNT  CITY  STATE   LATITUDE    LONGITUD     ST_NAME        CT_NAME  \\\n",
       "0     788  1980      6  34.221669 -118.413881  California    Los Angeles   \n",
       "1     668  3280     48  29.666778  -95.552475       Texas        Houston   \n",
       "4     652  4170     36  40.509711  -74.247503    New York  New York City   \n",
       "9     623   370      4  33.375819 -112.168453     Arizona        Phoenix   \n",
       "10    512  1730     48  32.768761  -96.822747       Texas         Dallas   \n",
       "\n",
       "                                       DESC  \n",
       "0   Los Angeles, California - 788 Accidents  \n",
       "1            Houston, Texas - 668 Accidents  \n",
       "4   New York City, New York - 652 Accidents  \n",
       "9          Phoenix, Arizona - 623 Accidents  \n",
       "10            Dallas, Texas - 512 Accidents  "
      ]
     },
     "execution_count": 9,
     "metadata": {},
     "output_type": "execute_result"
    }
   ],
   "source": [
    "# check 'DESC' column added successfully\n",
    "top_100.head()"
   ]
  },
  {
   "cell_type": "code",
   "execution_count": 11,
   "metadata": {},
   "outputs": [
    {
     "data": {
      "application/vnd.plotly.v1+json": {
       "config": {
        "plotlyServerURL": "https://plot.ly"
       },
       "data": [
        {
         "hoverinfo": "text",
         "lat": [
          34.22166944,
          29.66677778,
          40.50971111,
          33.37581944,
          32.76876111,
          29.39640278,
          30.25319167,
          41.76470556,
          42.4344,
          35.10223333,
          39.79406389,
          40.08672222,
          32.692575,
          30.20333611,
          35.43343889,
          35.16348333,
          32.57280278,
          38.29148611,
          35.18964167,
          39.13117778,
          36.19533056,
          43.11936944,
          32.24336111,
          37.34078056,
          33.70064167,
          39.99359167,
          31.916,
          38.666625,
          27.96526944,
          39.69668333,
          25.76673056,
          30.07921111,
          41.44653889,
          30.45923889,
          35.38129722,
          45.56044444,
          33.53705833,
          36.75452778,
          39.31343889,
          33.39871944,
          38.01124167,
          37.66431111,
          41.25238611,
          28.52930278,
          37.77797778,
          27.80399722,
          38.86272778,
          40.95069167,
          26.13675278,
          32.70333889,
          40.69154167,
          41.04913889,
          30.65674444,
          47.668675,
          39.17974444,
          33.58191944,
          33.84916389,
          33.54819722,
          32.31215,
          32.70146667,
          40.75570833,
          36.15505833,
          33.73450833,
          26.29599167,
          35.04691944,
          34.03630556,
          29.16746667,
          33.25153333,
          41.67703056,
          32.472275,
          21.30059444,
          39.52036389,
          35.08336667,
          39.09722222,
          28.04955556,
          32.83707222,
          34.06640556,
          26.08353056,
          36.87898889,
          34.40931667,
          26.00765833,
          26.72461111,
          30.29438333,
          29.80329167,
          41.60123333,
          41.58523889,
          35.59088056,
          36.21764444,
          30.05869444,
          40.70209167,
          32.79222222,
          39.08211389,
          43.03665,
          39.73843333,
          32.548125,
          37.54775556,
          44.96565833,
          33.61783611,
          44.91694444,
          40.475575
         ],
         "lon": [
          -118.41388056,
          -95.552475,
          -74.24750278,
          -112.16845278,
          -96.82274722,
          -98.47957778,
          -81.69919167,
          -87.68326389,
          -83.00689722,
          -89.94719167,
          -86.27858611,
          -75.03973611,
          -97.24191667,
          -97.63936667,
          -97.50789722,
          -80.9556,
          -117.04049444,
          -85.65069444,
          -106.68408056,
          -94.5421,
          -86.77556944,
          -88.03254444,
          -110.86668889,
          -121.81991111,
          -84.34955556,
          -83.1183,
          -106.5827,
          -90.21289167,
          -82.44003056,
          -105.025,
          -80.21446944,
          -89.92018056,
          -81.602925,
          -91.16618889,
          -118.98801667,
          -122.578525,
          -86.88800833,
          -119.74886944,
          -76.56875,
          -111.84005278,
          -84.51666944,
          -97.345475,
          -95.97380556,
          -81.47523056,
          -122.40939722,
          -97.4686,
          -104.77562222,
          -72.94225,
          -80.14420278,
          -79.96594167,
          -73.53266944,
          -85.16554167,
          -88.14786667,
          -122.38801667,
          -84.455325,
          -112.15350556,
          -117.92418611,
          -101.85515556,
          -90.17334167,
          -97.121075,
          -73.21283333,
          -80.17779444,
          -117.89820278,
          -80.09446667,
          -85.23503889,
          -81.00366667,
          -81.04703056,
          -81.95598611,
          -83.57249167,
          -84.95475278,
          -157.84619444,
          -119.84498333,
          -79.014225,
          -94.62356944,
          -81.957325,
          -96.9227,
          -117.80765,
          -80.20335,
          -76.30201944,
          -117.30946944,
          -80.14892778,
          -80.05919444,
          -91.99811667,
          -94.98997778,
          -87.32107222,
          -73.04238333,
          -82.57163889,
          -115.17943889,
          -94.13618333,
          -73.32903333,
          -96.65833889,
          -85.84137222,
          -83.66790278,
          -105.08127778,
          -94.727875,
          -121.98645833,
          -93.08425,
          -84.45688889,
          -122.99313889,
          -86.11568056
         ],
         "marker": {
          "autocolorscale": false,
          "color": "#13F1FC",
          "opacity": 0.8,
          "reversescale": true,
          "size": 8,
          "symbol": "circle"
         },
         "mode": "markers",
         "text": [
          "Los Angeles, California - 788 Accidents",
          "Houston, Texas - 668 Accidents",
          "New York City, New York - 652 Accidents",
          "Phoenix, Arizona - 623 Accidents",
          "Dallas, Texas - 512 Accidents",
          "San Antonio, Texas - 471 Accidents",
          "Jacksonville, Florida - 398 Accidents",
          "Chicago, Illinois - 364 Accidents",
          "Detroit, Michigan - 321 Accidents",
          "Memphis, Tennessee - 307 Accidents",
          "Indianapolis, Indiana - 272 Accidents",
          "Philadelphia, Pennsylvania - 268 Accidents",
          "Fort Worth, Texas - 262 Accidents",
          "Austin, Texas - 258 Accidents",
          "Oklahoma City, Oklahoma - 257 Accidents",
          "Charlotte, North Carolina - 249 Accidents",
          "San Diego, California - 248 Accidents",
          "Louisville, Kentucky - 247 Accidents",
          "Albuquerque, New Mexico - 218 Accidents",
          null,
          "Nashville, Tennessee - 194 Accidents",
          "Milwaukee, Wisconsin - 175 Accidents",
          "Tucson, Arizona - 173 Accidents",
          "San Jose, California - 171 Accidents",
          "Atlanta, Georgia - 168 Accidents",
          "Columbus, Ohio - 161 Accidents",
          "El Paso, Texas - 160 Accidents",
          "Saint Louis, Missouri - 155 Accidents",
          "Tampa, Florida - 151 Accidents",
          "Denver, Colorado - 148 Accidents",
          "Miami, Florida - 146 Accidents",
          "New Orleans, Louisiana - 139 Accidents",
          "Cleveland, Ohio - 134 Accidents",
          "Baton Rouge, Louisiana - 126 Accidents",
          "Bakersfield, California - 125 Accidents",
          "Portland, Oregon - 121 Accidents",
          "Birmingham, Alabama - 119 Accidents",
          "Fresno, California - 115 Accidents",
          "Baltimore, Maryland - 113 Accidents",
          "Mesa, Arizona - 107 Accidents",
          "Lexington-Fayette, Kentucky - 106 Accidents",
          "Wichita, Kansas - 103 Accidents",
          "Omaha, Nebraska - 102 Accidents",
          "Orlando, Florida - 99 Accidents",
          "San Francisco, California - 97 Accidents",
          "Corpus Christi, Texas - 92 Accidents",
          "Colorado Springs, Colorado - 91 Accidents",
          "Brookhaven, New York - 90 Accidents",
          "Fort Lauderdale, Florida - 88 Accidents",
          "Charleston, South Carolina - 87 Accidents",
          "Hempstead, New York - 84 Accidents",
          "Fort Wayne, Indiana - 82 Accidents",
          "Mobile, Alabama - 81 Accidents",
          "Seattle, Washington - 79 Accidents",
          "Cincinnati, Ohio - 78 Accidents",
          "Glendale, Arizona - 77 Accidents",
          "Anaheim, California - 76 Accidents",
          "Lubbock, Texas - 75 Accidents",
          "Jackson, Mississippi - 74 Accidents",
          "Arlington, Texas - 73 Accidents",
          "Islip, New York - 72 Accidents",
          "Winston Salem, North Carolina - 71 Accidents",
          "Santa Ana, California - 70 Accidents",
          "Pompano Beach, Florida - 69 Accidents",
          "Chattanooga, Tennessee - 67 Accidents",
          "Columbia, South Carolina - 66 Accidents",
          "Daytona Beach, Florida - 65 Accidents",
          "Augusta, Georgia - 64 Accidents",
          "Toledo, Ohio - 63 Accidents",
          "Columbus, Georgia - 62 Accidents",
          "Honolulu, Hawaii - 60 Accidents",
          "Reno, Nevada - 59 Accidents",
          "Fayetteville, North Carolina - 58 Accidents",
          "Kansas City, Kansas - 57 Accidents",
          "Lakeland, Florida - 56 Accidents",
          "Irving, Texas - 55 Accidents",
          "Pomona, California - 54 Accidents",
          "Davie, Florida - 52 Accidents",
          "Norfolk, Virginia - 51 Accidents",
          "Hesperia, California - 50 Accidents",
          "Hollywood, Florida - 49 Accidents",
          "West Palm Beach, Florida - 48 Accidents",
          "Lafayette, Louisiana - 47 Accidents",
          "Baytown, Texas - 46 Accidents",
          "Gary, Indiana - 45 Accidents",
          "Waterbury, Connecticut - 44 Accidents",
          "Asheville, North Carolina - 43 Accidents",
          "North Las Vegas, Nevada - 42 Accidents",
          "Beaumont, Texas - 41 Accidents",
          "Babylon, New York - 40 Accidents",
          "Mesquite, Texas - 39 Accidents",
          "Columbus, Indiana - 38 Accidents",
          "Flint, Michigan - 37 Accidents",
          "Lakewood, Colorado - 36 Accidents",
          "Longview, Texas - 35 Accidents",
          "Fremont, California - 34 Accidents",
          "Saint Paul, Minnesota - 33 Accidents",
          "College Park, Georgia - 32 Accidents",
          "Salem, Oregon - 31 Accidents",
          "Kokomo, Indiana - 30 Accidents"
         ],
         "type": "scattergeo"
        }
       ],
       "layout": {
        "geo": {
         "scope": "usa"
        },
        "template": {
         "data": {
          "bar": [
           {
            "error_x": {
             "color": "#2a3f5f"
            },
            "error_y": {
             "color": "#2a3f5f"
            },
            "marker": {
             "line": {
              "color": "#E5ECF6",
              "width": 0.5
             }
            },
            "type": "bar"
           }
          ],
          "barpolar": [
           {
            "marker": {
             "line": {
              "color": "#E5ECF6",
              "width": 0.5
             }
            },
            "type": "barpolar"
           }
          ],
          "carpet": [
           {
            "aaxis": {
             "endlinecolor": "#2a3f5f",
             "gridcolor": "white",
             "linecolor": "white",
             "minorgridcolor": "white",
             "startlinecolor": "#2a3f5f"
            },
            "baxis": {
             "endlinecolor": "#2a3f5f",
             "gridcolor": "white",
             "linecolor": "white",
             "minorgridcolor": "white",
             "startlinecolor": "#2a3f5f"
            },
            "type": "carpet"
           }
          ],
          "choropleth": [
           {
            "colorbar": {
             "outlinewidth": 0,
             "ticks": ""
            },
            "type": "choropleth"
           }
          ],
          "contour": [
           {
            "colorbar": {
             "outlinewidth": 0,
             "ticks": ""
            },
            "colorscale": [
             [
              0,
              "#0d0887"
             ],
             [
              0.1111111111111111,
              "#46039f"
             ],
             [
              0.2222222222222222,
              "#7201a8"
             ],
             [
              0.3333333333333333,
              "#9c179e"
             ],
             [
              0.4444444444444444,
              "#bd3786"
             ],
             [
              0.5555555555555556,
              "#d8576b"
             ],
             [
              0.6666666666666666,
              "#ed7953"
             ],
             [
              0.7777777777777778,
              "#fb9f3a"
             ],
             [
              0.8888888888888888,
              "#fdca26"
             ],
             [
              1,
              "#f0f921"
             ]
            ],
            "type": "contour"
           }
          ],
          "contourcarpet": [
           {
            "colorbar": {
             "outlinewidth": 0,
             "ticks": ""
            },
            "type": "contourcarpet"
           }
          ],
          "heatmap": [
           {
            "colorbar": {
             "outlinewidth": 0,
             "ticks": ""
            },
            "colorscale": [
             [
              0,
              "#0d0887"
             ],
             [
              0.1111111111111111,
              "#46039f"
             ],
             [
              0.2222222222222222,
              "#7201a8"
             ],
             [
              0.3333333333333333,
              "#9c179e"
             ],
             [
              0.4444444444444444,
              "#bd3786"
             ],
             [
              0.5555555555555556,
              "#d8576b"
             ],
             [
              0.6666666666666666,
              "#ed7953"
             ],
             [
              0.7777777777777778,
              "#fb9f3a"
             ],
             [
              0.8888888888888888,
              "#fdca26"
             ],
             [
              1,
              "#f0f921"
             ]
            ],
            "type": "heatmap"
           }
          ],
          "heatmapgl": [
           {
            "colorbar": {
             "outlinewidth": 0,
             "ticks": ""
            },
            "colorscale": [
             [
              0,
              "#0d0887"
             ],
             [
              0.1111111111111111,
              "#46039f"
             ],
             [
              0.2222222222222222,
              "#7201a8"
             ],
             [
              0.3333333333333333,
              "#9c179e"
             ],
             [
              0.4444444444444444,
              "#bd3786"
             ],
             [
              0.5555555555555556,
              "#d8576b"
             ],
             [
              0.6666666666666666,
              "#ed7953"
             ],
             [
              0.7777777777777778,
              "#fb9f3a"
             ],
             [
              0.8888888888888888,
              "#fdca26"
             ],
             [
              1,
              "#f0f921"
             ]
            ],
            "type": "heatmapgl"
           }
          ],
          "histogram": [
           {
            "marker": {
             "colorbar": {
              "outlinewidth": 0,
              "ticks": ""
             }
            },
            "type": "histogram"
           }
          ],
          "histogram2d": [
           {
            "colorbar": {
             "outlinewidth": 0,
             "ticks": ""
            },
            "colorscale": [
             [
              0,
              "#0d0887"
             ],
             [
              0.1111111111111111,
              "#46039f"
             ],
             [
              0.2222222222222222,
              "#7201a8"
             ],
             [
              0.3333333333333333,
              "#9c179e"
             ],
             [
              0.4444444444444444,
              "#bd3786"
             ],
             [
              0.5555555555555556,
              "#d8576b"
             ],
             [
              0.6666666666666666,
              "#ed7953"
             ],
             [
              0.7777777777777778,
              "#fb9f3a"
             ],
             [
              0.8888888888888888,
              "#fdca26"
             ],
             [
              1,
              "#f0f921"
             ]
            ],
            "type": "histogram2d"
           }
          ],
          "histogram2dcontour": [
           {
            "colorbar": {
             "outlinewidth": 0,
             "ticks": ""
            },
            "colorscale": [
             [
              0,
              "#0d0887"
             ],
             [
              0.1111111111111111,
              "#46039f"
             ],
             [
              0.2222222222222222,
              "#7201a8"
             ],
             [
              0.3333333333333333,
              "#9c179e"
             ],
             [
              0.4444444444444444,
              "#bd3786"
             ],
             [
              0.5555555555555556,
              "#d8576b"
             ],
             [
              0.6666666666666666,
              "#ed7953"
             ],
             [
              0.7777777777777778,
              "#fb9f3a"
             ],
             [
              0.8888888888888888,
              "#fdca26"
             ],
             [
              1,
              "#f0f921"
             ]
            ],
            "type": "histogram2dcontour"
           }
          ],
          "mesh3d": [
           {
            "colorbar": {
             "outlinewidth": 0,
             "ticks": ""
            },
            "type": "mesh3d"
           }
          ],
          "parcoords": [
           {
            "line": {
             "colorbar": {
              "outlinewidth": 0,
              "ticks": ""
             }
            },
            "type": "parcoords"
           }
          ],
          "scatter": [
           {
            "marker": {
             "colorbar": {
              "outlinewidth": 0,
              "ticks": ""
             }
            },
            "type": "scatter"
           }
          ],
          "scatter3d": [
           {
            "line": {
             "colorbar": {
              "outlinewidth": 0,
              "ticks": ""
             }
            },
            "marker": {
             "colorbar": {
              "outlinewidth": 0,
              "ticks": ""
             }
            },
            "type": "scatter3d"
           }
          ],
          "scattercarpet": [
           {
            "marker": {
             "colorbar": {
              "outlinewidth": 0,
              "ticks": ""
             }
            },
            "type": "scattercarpet"
           }
          ],
          "scattergeo": [
           {
            "marker": {
             "colorbar": {
              "outlinewidth": 0,
              "ticks": ""
             }
            },
            "type": "scattergeo"
           }
          ],
          "scattergl": [
           {
            "marker": {
             "colorbar": {
              "outlinewidth": 0,
              "ticks": ""
             }
            },
            "type": "scattergl"
           }
          ],
          "scattermapbox": [
           {
            "marker": {
             "colorbar": {
              "outlinewidth": 0,
              "ticks": ""
             }
            },
            "type": "scattermapbox"
           }
          ],
          "scatterpolar": [
           {
            "marker": {
             "colorbar": {
              "outlinewidth": 0,
              "ticks": ""
             }
            },
            "type": "scatterpolar"
           }
          ],
          "scatterpolargl": [
           {
            "marker": {
             "colorbar": {
              "outlinewidth": 0,
              "ticks": ""
             }
            },
            "type": "scatterpolargl"
           }
          ],
          "scatterternary": [
           {
            "marker": {
             "colorbar": {
              "outlinewidth": 0,
              "ticks": ""
             }
            },
            "type": "scatterternary"
           }
          ],
          "surface": [
           {
            "colorbar": {
             "outlinewidth": 0,
             "ticks": ""
            },
            "colorscale": [
             [
              0,
              "#0d0887"
             ],
             [
              0.1111111111111111,
              "#46039f"
             ],
             [
              0.2222222222222222,
              "#7201a8"
             ],
             [
              0.3333333333333333,
              "#9c179e"
             ],
             [
              0.4444444444444444,
              "#bd3786"
             ],
             [
              0.5555555555555556,
              "#d8576b"
             ],
             [
              0.6666666666666666,
              "#ed7953"
             ],
             [
              0.7777777777777778,
              "#fb9f3a"
             ],
             [
              0.8888888888888888,
              "#fdca26"
             ],
             [
              1,
              "#f0f921"
             ]
            ],
            "type": "surface"
           }
          ],
          "table": [
           {
            "cells": {
             "fill": {
              "color": "#EBF0F8"
             },
             "line": {
              "color": "white"
             }
            },
            "header": {
             "fill": {
              "color": "#C8D4E3"
             },
             "line": {
              "color": "white"
             }
            },
            "type": "table"
           }
          ]
         },
         "layout": {
          "annotationdefaults": {
           "arrowcolor": "#2a3f5f",
           "arrowhead": 0,
           "arrowwidth": 1
          },
          "colorscale": {
           "diverging": [
            [
             0,
             "#8e0152"
            ],
            [
             0.1,
             "#c51b7d"
            ],
            [
             0.2,
             "#de77ae"
            ],
            [
             0.3,
             "#f1b6da"
            ],
            [
             0.4,
             "#fde0ef"
            ],
            [
             0.5,
             "#f7f7f7"
            ],
            [
             0.6,
             "#e6f5d0"
            ],
            [
             0.7,
             "#b8e186"
            ],
            [
             0.8,
             "#7fbc41"
            ],
            [
             0.9,
             "#4d9221"
            ],
            [
             1,
             "#276419"
            ]
           ],
           "sequential": [
            [
             0,
             "#0d0887"
            ],
            [
             0.1111111111111111,
             "#46039f"
            ],
            [
             0.2222222222222222,
             "#7201a8"
            ],
            [
             0.3333333333333333,
             "#9c179e"
            ],
            [
             0.4444444444444444,
             "#bd3786"
            ],
            [
             0.5555555555555556,
             "#d8576b"
            ],
            [
             0.6666666666666666,
             "#ed7953"
            ],
            [
             0.7777777777777778,
             "#fb9f3a"
            ],
            [
             0.8888888888888888,
             "#fdca26"
            ],
            [
             1,
             "#f0f921"
            ]
           ],
           "sequentialminus": [
            [
             0,
             "#0d0887"
            ],
            [
             0.1111111111111111,
             "#46039f"
            ],
            [
             0.2222222222222222,
             "#7201a8"
            ],
            [
             0.3333333333333333,
             "#9c179e"
            ],
            [
             0.4444444444444444,
             "#bd3786"
            ],
            [
             0.5555555555555556,
             "#d8576b"
            ],
            [
             0.6666666666666666,
             "#ed7953"
            ],
            [
             0.7777777777777778,
             "#fb9f3a"
            ],
            [
             0.8888888888888888,
             "#fdca26"
            ],
            [
             1,
             "#f0f921"
            ]
           ]
          },
          "colorway": [
           "#636efa",
           "#EF553B",
           "#00cc96",
           "#ab63fa",
           "#FFA15A",
           "#19d3f3",
           "#FF6692",
           "#B6E880",
           "#FF97FF",
           "#FECB52"
          ],
          "font": {
           "color": "#2a3f5f"
          },
          "geo": {
           "bgcolor": "white",
           "lakecolor": "white",
           "landcolor": "#E5ECF6",
           "showlakes": true,
           "showland": true,
           "subunitcolor": "white"
          },
          "hoverlabel": {
           "align": "left"
          },
          "hovermode": "closest",
          "mapbox": {
           "style": "light"
          },
          "paper_bgcolor": "white",
          "plot_bgcolor": "#E5ECF6",
          "polar": {
           "angularaxis": {
            "gridcolor": "white",
            "linecolor": "white",
            "ticks": ""
           },
           "bgcolor": "#E5ECF6",
           "radialaxis": {
            "gridcolor": "white",
            "linecolor": "white",
            "ticks": ""
           }
          },
          "scene": {
           "xaxis": {
            "backgroundcolor": "#E5ECF6",
            "gridcolor": "white",
            "gridwidth": 2,
            "linecolor": "white",
            "showbackground": true,
            "ticks": "",
            "zerolinecolor": "white"
           },
           "yaxis": {
            "backgroundcolor": "#E5ECF6",
            "gridcolor": "white",
            "gridwidth": 2,
            "linecolor": "white",
            "showbackground": true,
            "ticks": "",
            "zerolinecolor": "white"
           },
           "zaxis": {
            "backgroundcolor": "#E5ECF6",
            "gridcolor": "white",
            "gridwidth": 2,
            "linecolor": "white",
            "showbackground": true,
            "ticks": "",
            "zerolinecolor": "white"
           }
          },
          "shapedefaults": {
           "line": {
            "color": "#2a3f5f"
           }
          },
          "ternary": {
           "aaxis": {
            "gridcolor": "white",
            "linecolor": "white",
            "ticks": ""
           },
           "baxis": {
            "gridcolor": "white",
            "linecolor": "white",
            "ticks": ""
           },
           "bgcolor": "#E5ECF6",
           "caxis": {
            "gridcolor": "white",
            "linecolor": "white",
            "ticks": ""
           }
          },
          "title": {
           "x": 0.05
          },
          "xaxis": {
           "automargin": true,
           "gridcolor": "white",
           "linecolor": "white",
           "ticks": "",
           "zerolinecolor": "white",
           "zerolinewidth": 2
          },
          "yaxis": {
           "automargin": true,
           "gridcolor": "white",
           "linecolor": "white",
           "ticks": "",
           "zerolinecolor": "white",
           "zerolinewidth": 2
          }
         }
        },
        "title": {
         "text": "Top 100 US Accident Cities From 2015 - 2017"
        }
       }
      },
      "text/html": [
       "<div>\n",
       "        \n",
       "        \n",
       "            <div id=\"0a12535f-4d8f-4d70-83e1-223b289b7a46\" class=\"plotly-graph-div\" style=\"height:525px; width:100%;\"></div>\n",
       "            <script type=\"text/javascript\">\n",
       "                require([\"plotly\"], function(Plotly) {\n",
       "                    window.PLOTLYENV=window.PLOTLYENV || {};\n",
       "                    \n",
       "                if (document.getElementById(\"0a12535f-4d8f-4d70-83e1-223b289b7a46\")) {\n",
       "                    Plotly.newPlot(\n",
       "                        '0a12535f-4d8f-4d70-83e1-223b289b7a46',\n",
       "                        [{\"hoverinfo\": \"text\", \"lat\": [34.22166944, 29.66677778, 40.50971111, 33.37581944, 32.76876111, 29.39640278, 30.25319167, 41.76470556, 42.4344, 35.10223333, 39.79406389, 40.08672222, 32.692575, 30.20333611, 35.43343889, 35.16348333, 32.57280278, 38.29148611, 35.18964167, 39.13117778, 36.19533056, 43.11936944, 32.24336111, 37.34078056, 33.70064167, 39.99359167, 31.916, 38.666625, 27.96526944, 39.69668333, 25.76673056, 30.07921111, 41.44653889, 30.45923889, 35.38129722, 45.56044444, 33.53705833, 36.75452778, 39.31343889, 33.39871944, 38.01124167, 37.66431111, 41.25238611, 28.52930278, 37.77797778, 27.80399722, 38.86272778, 40.95069167, 26.13675278, 32.70333889, 40.69154167, 41.04913889, 30.65674444, 47.668675, 39.17974444, 33.58191944, 33.84916389, 33.54819722, 32.31215, 32.70146667, 40.75570833, 36.15505833, 33.73450833, 26.29599167, 35.04691944, 34.03630556, 29.16746667, 33.25153333, 41.67703056, 32.472275, 21.30059444, 39.52036389, 35.08336667, 39.09722222, 28.04955556, 32.83707222, 34.06640556, 26.08353056, 36.87898889, 34.40931667, 26.00765833, 26.72461111, 30.29438333, 29.80329167, 41.60123333, 41.58523889, 35.59088056, 36.21764444, 30.05869444, 40.70209167, 32.79222222, 39.08211389, 43.03665, 39.73843333, 32.548125, 37.54775556, 44.96565833, 33.61783611, 44.91694444, 40.475575], \"lon\": [-118.41388056, -95.552475, -74.24750278, -112.16845278, -96.82274722, -98.47957778, -81.69919167, -87.68326389, -83.00689722, -89.94719167, -86.27858611, -75.03973611, -97.24191667, -97.63936667, -97.50789722, -80.9556, -117.04049444, -85.65069444, -106.68408056, -94.5421, -86.77556944, -88.03254444, -110.86668889, -121.81991111, -84.34955556, -83.1183, -106.5827, -90.21289167, -82.44003056, -105.025, -80.21446944, -89.92018056, -81.602925, -91.16618889, -118.98801667, -122.578525, -86.88800833, -119.74886944, -76.56875, -111.84005278, -84.51666944, -97.345475, -95.97380556, -81.47523056, -122.40939722, -97.4686, -104.77562222, -72.94225, -80.14420278, -79.96594167, -73.53266944, -85.16554167, -88.14786667, -122.38801667, -84.455325, -112.15350556, -117.92418611, -101.85515556, -90.17334167, -97.121075, -73.21283333, -80.17779444, -117.89820278, -80.09446667, -85.23503889, -81.00366667, -81.04703056, -81.95598611, -83.57249167, -84.95475278, -157.84619444, -119.84498333, -79.014225, -94.62356944, -81.957325, -96.9227, -117.80765, -80.20335, -76.30201944, -117.30946944, -80.14892778, -80.05919444, -91.99811667, -94.98997778, -87.32107222, -73.04238333, -82.57163889, -115.17943889, -94.13618333, -73.32903333, -96.65833889, -85.84137222, -83.66790278, -105.08127778, -94.727875, -121.98645833, -93.08425, -84.45688889, -122.99313889, -86.11568056], \"marker\": {\"autocolorscale\": false, \"color\": \"#13F1FC\", \"opacity\": 0.8, \"reversescale\": true, \"size\": 8, \"symbol\": \"circle\"}, \"mode\": \"markers\", \"text\": [\"Los Angeles, California - 788 Accidents\", \"Houston, Texas - 668 Accidents\", \"New York City, New York - 652 Accidents\", \"Phoenix, Arizona - 623 Accidents\", \"Dallas, Texas - 512 Accidents\", \"San Antonio, Texas - 471 Accidents\", \"Jacksonville, Florida - 398 Accidents\", \"Chicago, Illinois - 364 Accidents\", \"Detroit, Michigan - 321 Accidents\", \"Memphis, Tennessee - 307 Accidents\", \"Indianapolis, Indiana - 272 Accidents\", \"Philadelphia, Pennsylvania - 268 Accidents\", \"Fort Worth, Texas - 262 Accidents\", \"Austin, Texas - 258 Accidents\", \"Oklahoma City, Oklahoma - 257 Accidents\", \"Charlotte, North Carolina - 249 Accidents\", \"San Diego, California - 248 Accidents\", \"Louisville, Kentucky - 247 Accidents\", \"Albuquerque, New Mexico - 218 Accidents\", null, \"Nashville, Tennessee - 194 Accidents\", \"Milwaukee, Wisconsin - 175 Accidents\", \"Tucson, Arizona - 173 Accidents\", \"San Jose, California - 171 Accidents\", \"Atlanta, Georgia - 168 Accidents\", \"Columbus, Ohio - 161 Accidents\", \"El Paso, Texas - 160 Accidents\", \"Saint Louis, Missouri - 155 Accidents\", \"Tampa, Florida - 151 Accidents\", \"Denver, Colorado - 148 Accidents\", \"Miami, Florida - 146 Accidents\", \"New Orleans, Louisiana - 139 Accidents\", \"Cleveland, Ohio - 134 Accidents\", \"Baton Rouge, Louisiana - 126 Accidents\", \"Bakersfield, California - 125 Accidents\", \"Portland, Oregon - 121 Accidents\", \"Birmingham, Alabama - 119 Accidents\", \"Fresno, California - 115 Accidents\", \"Baltimore, Maryland - 113 Accidents\", \"Mesa, Arizona - 107 Accidents\", \"Lexington-Fayette, Kentucky - 106 Accidents\", \"Wichita, Kansas - 103 Accidents\", \"Omaha, Nebraska - 102 Accidents\", \"Orlando, Florida - 99 Accidents\", \"San Francisco, California - 97 Accidents\", \"Corpus Christi, Texas - 92 Accidents\", \"Colorado Springs, Colorado - 91 Accidents\", \"Brookhaven, New York - 90 Accidents\", \"Fort Lauderdale, Florida - 88 Accidents\", \"Charleston, South Carolina - 87 Accidents\", \"Hempstead, New York - 84 Accidents\", \"Fort Wayne, Indiana - 82 Accidents\", \"Mobile, Alabama - 81 Accidents\", \"Seattle, Washington - 79 Accidents\", \"Cincinnati, Ohio - 78 Accidents\", \"Glendale, Arizona - 77 Accidents\", \"Anaheim, California - 76 Accidents\", \"Lubbock, Texas - 75 Accidents\", \"Jackson, Mississippi - 74 Accidents\", \"Arlington, Texas - 73 Accidents\", \"Islip, New York - 72 Accidents\", \"Winston Salem, North Carolina - 71 Accidents\", \"Santa Ana, California - 70 Accidents\", \"Pompano Beach, Florida - 69 Accidents\", \"Chattanooga, Tennessee - 67 Accidents\", \"Columbia, South Carolina - 66 Accidents\", \"Daytona Beach, Florida - 65 Accidents\", \"Augusta, Georgia - 64 Accidents\", \"Toledo, Ohio - 63 Accidents\", \"Columbus, Georgia - 62 Accidents\", \"Honolulu, Hawaii - 60 Accidents\", \"Reno, Nevada - 59 Accidents\", \"Fayetteville, North Carolina - 58 Accidents\", \"Kansas City, Kansas - 57 Accidents\", \"Lakeland, Florida - 56 Accidents\", \"Irving, Texas - 55 Accidents\", \"Pomona, California - 54 Accidents\", \"Davie, Florida - 52 Accidents\", \"Norfolk, Virginia - 51 Accidents\", \"Hesperia, California - 50 Accidents\", \"Hollywood, Florida - 49 Accidents\", \"West Palm Beach, Florida - 48 Accidents\", \"Lafayette, Louisiana - 47 Accidents\", \"Baytown, Texas - 46 Accidents\", \"Gary, Indiana - 45 Accidents\", \"Waterbury, Connecticut - 44 Accidents\", \"Asheville, North Carolina - 43 Accidents\", \"North Las Vegas, Nevada - 42 Accidents\", \"Beaumont, Texas - 41 Accidents\", \"Babylon, New York - 40 Accidents\", \"Mesquite, Texas - 39 Accidents\", \"Columbus, Indiana - 38 Accidents\", \"Flint, Michigan - 37 Accidents\", \"Lakewood, Colorado - 36 Accidents\", \"Longview, Texas - 35 Accidents\", \"Fremont, California - 34 Accidents\", \"Saint Paul, Minnesota - 33 Accidents\", \"College Park, Georgia - 32 Accidents\", \"Salem, Oregon - 31 Accidents\", \"Kokomo, Indiana - 30 Accidents\"], \"type\": \"scattergeo\"}],\n",
       "                        {\"geo\": {\"scope\": \"usa\"}, \"template\": {\"data\": {\"bar\": [{\"error_x\": {\"color\": \"#2a3f5f\"}, \"error_y\": {\"color\": \"#2a3f5f\"}, \"marker\": {\"line\": {\"color\": \"#E5ECF6\", \"width\": 0.5}}, \"type\": \"bar\"}], \"barpolar\": [{\"marker\": {\"line\": {\"color\": \"#E5ECF6\", \"width\": 0.5}}, \"type\": \"barpolar\"}], \"carpet\": [{\"aaxis\": {\"endlinecolor\": \"#2a3f5f\", \"gridcolor\": \"white\", \"linecolor\": \"white\", \"minorgridcolor\": \"white\", \"startlinecolor\": \"#2a3f5f\"}, \"baxis\": {\"endlinecolor\": \"#2a3f5f\", \"gridcolor\": \"white\", \"linecolor\": \"white\", \"minorgridcolor\": \"white\", \"startlinecolor\": \"#2a3f5f\"}, \"type\": \"carpet\"}], \"choropleth\": [{\"colorbar\": {\"outlinewidth\": 0, \"ticks\": \"\"}, \"type\": \"choropleth\"}], \"contour\": [{\"colorbar\": {\"outlinewidth\": 0, \"ticks\": \"\"}, \"colorscale\": [[0.0, \"#0d0887\"], [0.1111111111111111, \"#46039f\"], [0.2222222222222222, \"#7201a8\"], [0.3333333333333333, \"#9c179e\"], [0.4444444444444444, \"#bd3786\"], [0.5555555555555556, \"#d8576b\"], [0.6666666666666666, \"#ed7953\"], [0.7777777777777778, \"#fb9f3a\"], [0.8888888888888888, \"#fdca26\"], [1.0, \"#f0f921\"]], \"type\": \"contour\"}], \"contourcarpet\": [{\"colorbar\": {\"outlinewidth\": 0, \"ticks\": \"\"}, \"type\": \"contourcarpet\"}], \"heatmap\": [{\"colorbar\": {\"outlinewidth\": 0, \"ticks\": \"\"}, \"colorscale\": [[0.0, \"#0d0887\"], [0.1111111111111111, \"#46039f\"], [0.2222222222222222, \"#7201a8\"], [0.3333333333333333, \"#9c179e\"], [0.4444444444444444, \"#bd3786\"], [0.5555555555555556, \"#d8576b\"], [0.6666666666666666, \"#ed7953\"], [0.7777777777777778, \"#fb9f3a\"], [0.8888888888888888, \"#fdca26\"], [1.0, \"#f0f921\"]], \"type\": \"heatmap\"}], \"heatmapgl\": [{\"colorbar\": {\"outlinewidth\": 0, \"ticks\": \"\"}, \"colorscale\": [[0.0, \"#0d0887\"], [0.1111111111111111, \"#46039f\"], [0.2222222222222222, \"#7201a8\"], [0.3333333333333333, \"#9c179e\"], [0.4444444444444444, \"#bd3786\"], [0.5555555555555556, \"#d8576b\"], [0.6666666666666666, \"#ed7953\"], [0.7777777777777778, \"#fb9f3a\"], [0.8888888888888888, \"#fdca26\"], [1.0, \"#f0f921\"]], \"type\": \"heatmapgl\"}], \"histogram\": [{\"marker\": {\"colorbar\": {\"outlinewidth\": 0, \"ticks\": \"\"}}, \"type\": \"histogram\"}], \"histogram2d\": [{\"colorbar\": {\"outlinewidth\": 0, \"ticks\": \"\"}, \"colorscale\": [[0.0, \"#0d0887\"], [0.1111111111111111, \"#46039f\"], [0.2222222222222222, \"#7201a8\"], [0.3333333333333333, \"#9c179e\"], [0.4444444444444444, \"#bd3786\"], [0.5555555555555556, \"#d8576b\"], [0.6666666666666666, \"#ed7953\"], [0.7777777777777778, \"#fb9f3a\"], [0.8888888888888888, \"#fdca26\"], [1.0, \"#f0f921\"]], \"type\": \"histogram2d\"}], \"histogram2dcontour\": [{\"colorbar\": {\"outlinewidth\": 0, \"ticks\": \"\"}, \"colorscale\": [[0.0, \"#0d0887\"], [0.1111111111111111, \"#46039f\"], [0.2222222222222222, \"#7201a8\"], [0.3333333333333333, \"#9c179e\"], [0.4444444444444444, \"#bd3786\"], [0.5555555555555556, \"#d8576b\"], [0.6666666666666666, \"#ed7953\"], [0.7777777777777778, \"#fb9f3a\"], [0.8888888888888888, \"#fdca26\"], [1.0, \"#f0f921\"]], \"type\": \"histogram2dcontour\"}], \"mesh3d\": [{\"colorbar\": {\"outlinewidth\": 0, \"ticks\": \"\"}, \"type\": \"mesh3d\"}], \"parcoords\": [{\"line\": {\"colorbar\": {\"outlinewidth\": 0, \"ticks\": \"\"}}, \"type\": \"parcoords\"}], \"scatter\": [{\"marker\": {\"colorbar\": {\"outlinewidth\": 0, \"ticks\": \"\"}}, \"type\": \"scatter\"}], \"scatter3d\": [{\"line\": {\"colorbar\": {\"outlinewidth\": 0, \"ticks\": \"\"}}, \"marker\": {\"colorbar\": {\"outlinewidth\": 0, \"ticks\": \"\"}}, \"type\": \"scatter3d\"}], \"scattercarpet\": [{\"marker\": {\"colorbar\": {\"outlinewidth\": 0, \"ticks\": \"\"}}, \"type\": \"scattercarpet\"}], \"scattergeo\": [{\"marker\": {\"colorbar\": {\"outlinewidth\": 0, \"ticks\": \"\"}}, \"type\": \"scattergeo\"}], \"scattergl\": [{\"marker\": {\"colorbar\": {\"outlinewidth\": 0, \"ticks\": \"\"}}, \"type\": \"scattergl\"}], \"scattermapbox\": [{\"marker\": {\"colorbar\": {\"outlinewidth\": 0, \"ticks\": \"\"}}, \"type\": \"scattermapbox\"}], \"scatterpolar\": [{\"marker\": {\"colorbar\": {\"outlinewidth\": 0, \"ticks\": \"\"}}, \"type\": \"scatterpolar\"}], \"scatterpolargl\": [{\"marker\": {\"colorbar\": {\"outlinewidth\": 0, \"ticks\": \"\"}}, \"type\": \"scatterpolargl\"}], \"scatterternary\": [{\"marker\": {\"colorbar\": {\"outlinewidth\": 0, \"ticks\": \"\"}}, \"type\": \"scatterternary\"}], \"surface\": [{\"colorbar\": {\"outlinewidth\": 0, \"ticks\": \"\"}, \"colorscale\": [[0.0, \"#0d0887\"], [0.1111111111111111, \"#46039f\"], [0.2222222222222222, \"#7201a8\"], [0.3333333333333333, \"#9c179e\"], [0.4444444444444444, \"#bd3786\"], [0.5555555555555556, \"#d8576b\"], [0.6666666666666666, \"#ed7953\"], [0.7777777777777778, \"#fb9f3a\"], [0.8888888888888888, \"#fdca26\"], [1.0, \"#f0f921\"]], \"type\": \"surface\"}], \"table\": [{\"cells\": {\"fill\": {\"color\": \"#EBF0F8\"}, \"line\": {\"color\": \"white\"}}, \"header\": {\"fill\": {\"color\": \"#C8D4E3\"}, \"line\": {\"color\": \"white\"}}, \"type\": \"table\"}]}, \"layout\": {\"annotationdefaults\": {\"arrowcolor\": \"#2a3f5f\", \"arrowhead\": 0, \"arrowwidth\": 1}, \"colorscale\": {\"diverging\": [[0, \"#8e0152\"], [0.1, \"#c51b7d\"], [0.2, \"#de77ae\"], [0.3, \"#f1b6da\"], [0.4, \"#fde0ef\"], [0.5, \"#f7f7f7\"], [0.6, \"#e6f5d0\"], [0.7, \"#b8e186\"], [0.8, \"#7fbc41\"], [0.9, \"#4d9221\"], [1, \"#276419\"]], \"sequential\": [[0.0, \"#0d0887\"], [0.1111111111111111, \"#46039f\"], [0.2222222222222222, \"#7201a8\"], [0.3333333333333333, \"#9c179e\"], [0.4444444444444444, \"#bd3786\"], [0.5555555555555556, \"#d8576b\"], [0.6666666666666666, \"#ed7953\"], [0.7777777777777778, \"#fb9f3a\"], [0.8888888888888888, \"#fdca26\"], [1.0, \"#f0f921\"]], \"sequentialminus\": [[0.0, \"#0d0887\"], [0.1111111111111111, \"#46039f\"], [0.2222222222222222, \"#7201a8\"], [0.3333333333333333, \"#9c179e\"], [0.4444444444444444, \"#bd3786\"], [0.5555555555555556, \"#d8576b\"], [0.6666666666666666, \"#ed7953\"], [0.7777777777777778, \"#fb9f3a\"], [0.8888888888888888, \"#fdca26\"], [1.0, \"#f0f921\"]]}, \"colorway\": [\"#636efa\", \"#EF553B\", \"#00cc96\", \"#ab63fa\", \"#FFA15A\", \"#19d3f3\", \"#FF6692\", \"#B6E880\", \"#FF97FF\", \"#FECB52\"], \"font\": {\"color\": \"#2a3f5f\"}, \"geo\": {\"bgcolor\": \"white\", \"lakecolor\": \"white\", \"landcolor\": \"#E5ECF6\", \"showlakes\": true, \"showland\": true, \"subunitcolor\": \"white\"}, \"hoverlabel\": {\"align\": \"left\"}, \"hovermode\": \"closest\", \"mapbox\": {\"style\": \"light\"}, \"paper_bgcolor\": \"white\", \"plot_bgcolor\": \"#E5ECF6\", \"polar\": {\"angularaxis\": {\"gridcolor\": \"white\", \"linecolor\": \"white\", \"ticks\": \"\"}, \"bgcolor\": \"#E5ECF6\", \"radialaxis\": {\"gridcolor\": \"white\", \"linecolor\": \"white\", \"ticks\": \"\"}}, \"scene\": {\"xaxis\": {\"backgroundcolor\": \"#E5ECF6\", \"gridcolor\": \"white\", \"gridwidth\": 2, \"linecolor\": \"white\", \"showbackground\": true, \"ticks\": \"\", \"zerolinecolor\": \"white\"}, \"yaxis\": {\"backgroundcolor\": \"#E5ECF6\", \"gridcolor\": \"white\", \"gridwidth\": 2, \"linecolor\": \"white\", \"showbackground\": true, \"ticks\": \"\", \"zerolinecolor\": \"white\"}, \"zaxis\": {\"backgroundcolor\": \"#E5ECF6\", \"gridcolor\": \"white\", \"gridwidth\": 2, \"linecolor\": \"white\", \"showbackground\": true, \"ticks\": \"\", \"zerolinecolor\": \"white\"}}, \"shapedefaults\": {\"line\": {\"color\": \"#2a3f5f\"}}, \"ternary\": {\"aaxis\": {\"gridcolor\": \"white\", \"linecolor\": \"white\", \"ticks\": \"\"}, \"baxis\": {\"gridcolor\": \"white\", \"linecolor\": \"white\", \"ticks\": \"\"}, \"bgcolor\": \"#E5ECF6\", \"caxis\": {\"gridcolor\": \"white\", \"linecolor\": \"white\", \"ticks\": \"\"}}, \"title\": {\"x\": 0.05}, \"xaxis\": {\"automargin\": true, \"gridcolor\": \"white\", \"linecolor\": \"white\", \"ticks\": \"\", \"zerolinecolor\": \"white\", \"zerolinewidth\": 2}, \"yaxis\": {\"automargin\": true, \"gridcolor\": \"white\", \"linecolor\": \"white\", \"ticks\": \"\", \"zerolinecolor\": \"white\", \"zerolinewidth\": 2}}}, \"title\": {\"text\": \"Top 100 US Accident Cities From 2015 - 2017\"}},\n",
       "                        {\"responsive\": true}\n",
       "                    ).then(function(){\n",
       "                            \n",
       "var gd = document.getElementById('0a12535f-4d8f-4d70-83e1-223b289b7a46');\n",
       "var x = new MutationObserver(function (mutations, observer) {{\n",
       "        var display = window.getComputedStyle(gd).display;\n",
       "        if (!display || display === 'none') {{\n",
       "            console.log([gd, 'removed!']);\n",
       "            Plotly.purge(gd);\n",
       "            observer.disconnect();\n",
       "        }}\n",
       "}});\n",
       "\n",
       "// Listen for the removal of the full notebook cells\n",
       "var notebookContainer = gd.closest('#notebook-container');\n",
       "if (notebookContainer) {{\n",
       "    x.observe(notebookContainer, {childList: true});\n",
       "}}\n",
       "\n",
       "// Listen for the clearing of the current output cell\n",
       "var outputEl = gd.closest('.output');\n",
       "if (outputEl) {{\n",
       "    x.observe(outputEl, {childList: true});\n",
       "}}\n",
       "\n",
       "                        })\n",
       "                };\n",
       "                });\n",
       "            </script>\n",
       "        </div>"
      ]
     },
     "metadata": {},
     "output_type": "display_data"
    }
   ],
   "source": [
    "# create Plotly Scattergeo plot for top 100 accident cities from 2015 - 2017\n",
    "fig = go.Figure(data=go.Scattergeo(\n",
    "        lon = top_100['LONGITUD'],\n",
    "        lat = top_100['LATITUDE'],\n",
    "        text = top_100['DESC'],\n",
    "        mode = 'markers',\n",
    "        marker = dict(\n",
    "            size = 8,\n",
    "            opacity = 0.8,\n",
    "            reversescale = True,\n",
    "            autocolorscale = False,\n",
    "            symbol = 'circle'),\n",
    "        marker_color = '#13F1FC',\n",
    "        hoverinfo = 'text',\n",
    "        ))\n",
    "\n",
    "fig.update_layout(\n",
    "        geo_scope='usa',\n",
    "    )\n",
    "fig.show()"
   ]
  },
  {
   "cell_type": "code",
   "execution_count": null,
   "metadata": {},
   "outputs": [],
   "source": []
  }
 ],
 "metadata": {
  "kernelspec": {
   "display_name": "Python 3",
   "language": "python",
   "name": "python3"
  },
  "language_info": {
   "codemirror_mode": {
    "name": "ipython",
    "version": 3
   },
   "file_extension": ".py",
   "mimetype": "text/x-python",
   "name": "python",
   "nbconvert_exporter": "python",
   "pygments_lexer": "ipython3",
   "version": "3.7.3"
  }
 },
 "nbformat": 4,
 "nbformat_minor": 2
}
