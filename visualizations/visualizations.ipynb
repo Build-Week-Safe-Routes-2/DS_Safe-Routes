{
 "cells": [
  {
   "cell_type": "code",
   "execution_count": 1,
   "metadata": {},
   "outputs": [],
   "source": [
    "# import pandas to read in CSV files\n",
    "import pandas as pd\n",
    "\n",
    "# import matplotlib + seaborn for exploratory data analysis\n",
    "import plotly.graph_objects as go"
   ]
  },
  {
   "cell_type": "code",
   "execution_count": 2,
   "metadata": {},
   "outputs": [],
   "source": [
    "# read in accident data CSVs for 2015 - 2017\n",
    "acc15 = pd.read_csv('/Users/ianforrest/Desktop/coding/repos/DS_Safe-Routes/modeling/accident15.csv')\n",
    "acc16 = pd.read_csv('/Users/ianforrest/Desktop/coding/repos/DS_Safe-Routes/modeling/accident16.csv')\n",
    "acc17 = pd.read_csv('/Users/ianforrest/Desktop/coding/repos/DS_Safe-Routes/modeling/accident17.csv')"
   ]
  },
  {
   "cell_type": "code",
   "execution_count": 3,
   "metadata": {},
   "outputs": [],
   "source": [
    "# combine acc15, acc16, acc17 into one dataframe\n",
    "acc = acc15.append(acc16, sort=False, ignore_index = True)\n",
    "acc = acc.append(acc17, sort=False, ignore_index = True)"
   ]
  },
  {
   "cell_type": "code",
   "execution_count": 4,
   "metadata": {},
   "outputs": [
    {
     "data": {
      "text/plain": [
       "(101533, 52)"
      ]
     },
     "execution_count": 4,
     "metadata": {},
     "output_type": "execute_result"
    }
   ],
   "source": [
    "acc.shape"
   ]
  },
  {
   "cell_type": "code",
   "execution_count": 5,
   "metadata": {},
   "outputs": [
    {
     "data": {
      "text/plain": [
       "Index(['STATE', 'ST_CASE', 'VE_TOTAL', 'VE_FORMS', 'PVH_INVL', 'PEDS',\n",
       "       'PERNOTMVIT', 'PERMVIT', 'PERSONS', 'COUNTY', 'CITY', 'DAY', 'MONTH',\n",
       "       'YEAR', 'DAY_WEEK', 'HOUR', 'MINUTE', 'NHS', 'RUR_URB', 'FUNC_SYS',\n",
       "       'RD_OWNER', 'ROUTE', 'TWAY_ID', 'TWAY_ID2', 'MILEPT', 'LATITUDE',\n",
       "       'LONGITUD', 'SP_JUR', 'HARM_EV', 'MAN_COLL', 'RELJCT1', 'RELJCT2',\n",
       "       'TYP_INT', 'WRK_ZONE', 'REL_ROAD', 'LGT_COND', 'WEATHER1', 'WEATHER2',\n",
       "       'WEATHER', 'SCH_BUS', 'RAIL', 'NOT_HOUR', 'NOT_MIN', 'ARR_HOUR',\n",
       "       'ARR_MIN', 'HOSP_HR', 'HOSP_MN', 'CF1', 'CF2', 'CF3', 'FATALS',\n",
       "       'DRUNK_DR'],\n",
       "      dtype='object')"
      ]
     },
     "execution_count": 5,
     "metadata": {},
     "output_type": "execute_result"
    }
   ],
   "source": [
    "# display columns of combined acc dataframe\n",
    "acc.columns"
   ]
  },
  {
   "cell_type": "code",
   "execution_count": 30,
   "metadata": {},
   "outputs": [
    {
     "data": {
      "text/html": [
       "<div>\n",
       "<style scoped>\n",
       "    .dataframe tbody tr th:only-of-type {\n",
       "        vertical-align: middle;\n",
       "    }\n",
       "\n",
       "    .dataframe tbody tr th {\n",
       "        vertical-align: top;\n",
       "    }\n",
       "\n",
       "    .dataframe thead th {\n",
       "        text-align: right;\n",
       "    }\n",
       "</style>\n",
       "<table border=\"1\" class=\"dataframe\">\n",
       "  <thead>\n",
       "    <tr style=\"text-align: right;\">\n",
       "      <th></th>\n",
       "      <th>COUNT</th>\n",
       "      <th>CITY</th>\n",
       "      <th>STATE</th>\n",
       "      <th>LATITUDE</th>\n",
       "      <th>LONGITUD</th>\n",
       "    </tr>\n",
       "  </thead>\n",
       "  <tbody>\n",
       "    <tr>\n",
       "      <th>0</th>\n",
       "      <td>788</td>\n",
       "      <td>1980</td>\n",
       "      <td>6</td>\n",
       "      <td>34.221669</td>\n",
       "      <td>-118.413881</td>\n",
       "    </tr>\n",
       "    <tr>\n",
       "      <th>1</th>\n",
       "      <td>668</td>\n",
       "      <td>3280</td>\n",
       "      <td>48</td>\n",
       "      <td>29.666778</td>\n",
       "      <td>-95.552475</td>\n",
       "    </tr>\n",
       "    <tr>\n",
       "      <th>2</th>\n",
       "      <td>652</td>\n",
       "      <td>4170</td>\n",
       "      <td>36</td>\n",
       "      <td>40.509711</td>\n",
       "      <td>-74.247503</td>\n",
       "    </tr>\n",
       "    <tr>\n",
       "      <th>3</th>\n",
       "      <td>623</td>\n",
       "      <td>370</td>\n",
       "      <td>4</td>\n",
       "      <td>33.375819</td>\n",
       "      <td>-112.168453</td>\n",
       "    </tr>\n",
       "    <tr>\n",
       "      <th>4</th>\n",
       "      <td>512</td>\n",
       "      <td>1730</td>\n",
       "      <td>48</td>\n",
       "      <td>32.768761</td>\n",
       "      <td>-96.822747</td>\n",
       "    </tr>\n",
       "    <tr>\n",
       "      <th>5</th>\n",
       "      <td>471</td>\n",
       "      <td>6090</td>\n",
       "      <td>48</td>\n",
       "      <td>29.396403</td>\n",
       "      <td>-98.479578</td>\n",
       "    </tr>\n",
       "    <tr>\n",
       "      <th>6</th>\n",
       "      <td>398</td>\n",
       "      <td>1510</td>\n",
       "      <td>12</td>\n",
       "      <td>30.253192</td>\n",
       "      <td>-81.699192</td>\n",
       "    </tr>\n",
       "    <tr>\n",
       "      <th>7</th>\n",
       "      <td>364</td>\n",
       "      <td>1670</td>\n",
       "      <td>17</td>\n",
       "      <td>41.764706</td>\n",
       "      <td>-87.683264</td>\n",
       "    </tr>\n",
       "    <tr>\n",
       "      <th>8</th>\n",
       "      <td>321</td>\n",
       "      <td>1260</td>\n",
       "      <td>26</td>\n",
       "      <td>42.434400</td>\n",
       "      <td>-83.006897</td>\n",
       "    </tr>\n",
       "    <tr>\n",
       "      <th>9</th>\n",
       "      <td>307</td>\n",
       "      <td>1620</td>\n",
       "      <td>47</td>\n",
       "      <td>35.102233</td>\n",
       "      <td>-89.947192</td>\n",
       "    </tr>\n",
       "    <tr>\n",
       "      <th>10</th>\n",
       "      <td>272</td>\n",
       "      <td>2210</td>\n",
       "      <td>18</td>\n",
       "      <td>39.794064</td>\n",
       "      <td>-86.278586</td>\n",
       "    </tr>\n",
       "    <tr>\n",
       "      <th>11</th>\n",
       "      <td>268</td>\n",
       "      <td>6540</td>\n",
       "      <td>42</td>\n",
       "      <td>40.086722</td>\n",
       "      <td>-75.039736</td>\n",
       "    </tr>\n",
       "    <tr>\n",
       "      <th>12</th>\n",
       "      <td>262</td>\n",
       "      <td>2450</td>\n",
       "      <td>48</td>\n",
       "      <td>32.692575</td>\n",
       "      <td>-97.241917</td>\n",
       "    </tr>\n",
       "    <tr>\n",
       "      <th>13</th>\n",
       "      <td>258</td>\n",
       "      <td>330</td>\n",
       "      <td>48</td>\n",
       "      <td>30.203336</td>\n",
       "      <td>-97.639367</td>\n",
       "    </tr>\n",
       "    <tr>\n",
       "      <th>14</th>\n",
       "      <td>257</td>\n",
       "      <td>3550</td>\n",
       "      <td>40</td>\n",
       "      <td>35.433439</td>\n",
       "      <td>-97.507897</td>\n",
       "    </tr>\n",
       "    <tr>\n",
       "      <th>15</th>\n",
       "      <td>249</td>\n",
       "      <td>870</td>\n",
       "      <td>37</td>\n",
       "      <td>35.163483</td>\n",
       "      <td>-80.955600</td>\n",
       "    </tr>\n",
       "    <tr>\n",
       "      <th>16</th>\n",
       "      <td>248</td>\n",
       "      <td>3260</td>\n",
       "      <td>6</td>\n",
       "      <td>32.572803</td>\n",
       "      <td>-117.040494</td>\n",
       "    </tr>\n",
       "    <tr>\n",
       "      <th>17</th>\n",
       "      <td>247</td>\n",
       "      <td>2090</td>\n",
       "      <td>21</td>\n",
       "      <td>38.291486</td>\n",
       "      <td>-85.650694</td>\n",
       "    </tr>\n",
       "    <tr>\n",
       "      <th>18</th>\n",
       "      <td>218</td>\n",
       "      <td>30</td>\n",
       "      <td>35</td>\n",
       "      <td>35.189642</td>\n",
       "      <td>-106.684081</td>\n",
       "    </tr>\n",
       "    <tr>\n",
       "      <th>19</th>\n",
       "      <td>213</td>\n",
       "      <td>3382</td>\n",
       "      <td>29</td>\n",
       "      <td>39.131178</td>\n",
       "      <td>-94.542100</td>\n",
       "    </tr>\n",
       "    <tr>\n",
       "      <th>20</th>\n",
       "      <td>194</td>\n",
       "      <td>1760</td>\n",
       "      <td>47</td>\n",
       "      <td>36.195331</td>\n",
       "      <td>-86.775569</td>\n",
       "    </tr>\n",
       "    <tr>\n",
       "      <th>21</th>\n",
       "      <td>175</td>\n",
       "      <td>3100</td>\n",
       "      <td>55</td>\n",
       "      <td>43.119369</td>\n",
       "      <td>-88.032544</td>\n",
       "    </tr>\n",
       "    <tr>\n",
       "      <th>22</th>\n",
       "      <td>173</td>\n",
       "      <td>530</td>\n",
       "      <td>4</td>\n",
       "      <td>32.243361</td>\n",
       "      <td>-110.866689</td>\n",
       "    </tr>\n",
       "    <tr>\n",
       "      <th>23</th>\n",
       "      <td>171</td>\n",
       "      <td>3340</td>\n",
       "      <td>6</td>\n",
       "      <td>37.340781</td>\n",
       "      <td>-121.819911</td>\n",
       "    </tr>\n",
       "    <tr>\n",
       "      <th>24</th>\n",
       "      <td>168</td>\n",
       "      <td>280</td>\n",
       "      <td>13</td>\n",
       "      <td>33.700642</td>\n",
       "      <td>-84.349556</td>\n",
       "    </tr>\n",
       "    <tr>\n",
       "      <th>25</th>\n",
       "      <td>161</td>\n",
       "      <td>1800</td>\n",
       "      <td>39</td>\n",
       "      <td>39.993592</td>\n",
       "      <td>-83.118300</td>\n",
       "    </tr>\n",
       "    <tr>\n",
       "      <th>26</th>\n",
       "      <td>160</td>\n",
       "      <td>2190</td>\n",
       "      <td>48</td>\n",
       "      <td>31.916000</td>\n",
       "      <td>-106.582700</td>\n",
       "    </tr>\n",
       "    <tr>\n",
       "      <th>27</th>\n",
       "      <td>155</td>\n",
       "      <td>7080</td>\n",
       "      <td>29</td>\n",
       "      <td>38.666625</td>\n",
       "      <td>-90.212892</td>\n",
       "    </tr>\n",
       "    <tr>\n",
       "      <th>28</th>\n",
       "      <td>151</td>\n",
       "      <td>2950</td>\n",
       "      <td>12</td>\n",
       "      <td>27.965269</td>\n",
       "      <td>-82.440031</td>\n",
       "    </tr>\n",
       "    <tr>\n",
       "      <th>29</th>\n",
       "      <td>148</td>\n",
       "      <td>600</td>\n",
       "      <td>8</td>\n",
       "      <td>39.696683</td>\n",
       "      <td>-105.025000</td>\n",
       "    </tr>\n",
       "    <tr>\n",
       "      <th>30</th>\n",
       "      <td>146</td>\n",
       "      <td>2010</td>\n",
       "      <td>12</td>\n",
       "      <td>25.766731</td>\n",
       "      <td>-80.214469</td>\n",
       "    </tr>\n",
       "    <tr>\n",
       "      <th>31</th>\n",
       "      <td>139</td>\n",
       "      <td>1690</td>\n",
       "      <td>22</td>\n",
       "      <td>30.079211</td>\n",
       "      <td>-89.920181</td>\n",
       "    </tr>\n",
       "    <tr>\n",
       "      <th>32</th>\n",
       "      <td>134</td>\n",
       "      <td>1680</td>\n",
       "      <td>39</td>\n",
       "      <td>41.446539</td>\n",
       "      <td>-81.602925</td>\n",
       "    </tr>\n",
       "    <tr>\n",
       "      <th>33</th>\n",
       "      <td>126</td>\n",
       "      <td>150</td>\n",
       "      <td>22</td>\n",
       "      <td>30.459239</td>\n",
       "      <td>-91.166189</td>\n",
       "    </tr>\n",
       "    <tr>\n",
       "      <th>34</th>\n",
       "      <td>125</td>\n",
       "      <td>240</td>\n",
       "      <td>6</td>\n",
       "      <td>35.381297</td>\n",
       "      <td>-118.988017</td>\n",
       "    </tr>\n",
       "    <tr>\n",
       "      <th>35</th>\n",
       "      <td>121</td>\n",
       "      <td>1650</td>\n",
       "      <td>41</td>\n",
       "      <td>45.560444</td>\n",
       "      <td>-122.578525</td>\n",
       "    </tr>\n",
       "    <tr>\n",
       "      <th>36</th>\n",
       "      <td>119</td>\n",
       "      <td>350</td>\n",
       "      <td>1</td>\n",
       "      <td>33.537058</td>\n",
       "      <td>-86.888008</td>\n",
       "    </tr>\n",
       "  </tbody>\n",
       "</table>\n",
       "</div>"
      ],
      "text/plain": [
       "    COUNT  CITY  STATE   LATITUDE    LONGITUD\n",
       "0     788  1980      6  34.221669 -118.413881\n",
       "1     668  3280     48  29.666778  -95.552475\n",
       "2     652  4170     36  40.509711  -74.247503\n",
       "3     623   370      4  33.375819 -112.168453\n",
       "4     512  1730     48  32.768761  -96.822747\n",
       "5     471  6090     48  29.396403  -98.479578\n",
       "6     398  1510     12  30.253192  -81.699192\n",
       "7     364  1670     17  41.764706  -87.683264\n",
       "8     321  1260     26  42.434400  -83.006897\n",
       "9     307  1620     47  35.102233  -89.947192\n",
       "10    272  2210     18  39.794064  -86.278586\n",
       "11    268  6540     42  40.086722  -75.039736\n",
       "12    262  2450     48  32.692575  -97.241917\n",
       "13    258   330     48  30.203336  -97.639367\n",
       "14    257  3550     40  35.433439  -97.507897\n",
       "15    249   870     37  35.163483  -80.955600\n",
       "16    248  3260      6  32.572803 -117.040494\n",
       "17    247  2090     21  38.291486  -85.650694\n",
       "18    218    30     35  35.189642 -106.684081\n",
       "19    213  3382     29  39.131178  -94.542100\n",
       "20    194  1760     47  36.195331  -86.775569\n",
       "21    175  3100     55  43.119369  -88.032544\n",
       "22    173   530      4  32.243361 -110.866689\n",
       "23    171  3340      6  37.340781 -121.819911\n",
       "24    168   280     13  33.700642  -84.349556\n",
       "25    161  1800     39  39.993592  -83.118300\n",
       "26    160  2190     48  31.916000 -106.582700\n",
       "27    155  7080     29  38.666625  -90.212892\n",
       "28    151  2950     12  27.965269  -82.440031\n",
       "29    148   600      8  39.696683 -105.025000\n",
       "30    146  2010     12  25.766731  -80.214469\n",
       "31    139  1690     22  30.079211  -89.920181\n",
       "32    134  1680     39  41.446539  -81.602925\n",
       "33    126   150     22  30.459239  -91.166189\n",
       "34    125   240      6  35.381297 -118.988017\n",
       "35    121  1650     41  45.560444 -122.578525\n",
       "36    119   350      1  33.537058  -86.888008"
      ]
     },
     "execution_count": 30,
     "metadata": {},
     "output_type": "execute_result"
    }
   ],
   "source": [
    "# create city/state/latitude/longitude dataframe\n",
    "acc_city_state = acc[['CITY', 'STATE', 'LATITUDE', 'LONGITUD']]\n",
    "\n",
    "# remove unknown cities\n",
    "acc_city_state = acc_city_state[acc_city_state['CITY'] > 0]\n",
    "acc_city_state = acc_city_state[acc_city_state['CITY'] < 9997]\n",
    "\n",
    "# remove unknown latitude/longitude\n",
    "# acc_city_state = acc_city_state[acc_city_state['LATITUDE'] < 700]\n",
    "# acc_city_state = acc_city_state[acc_city_state['LONGITUD'] < 700]\n",
    "\n",
    "# add 'COUNT' column to dataframe, counts number of CITY/STATE combinations\n",
    "acc_city_state['COUNT'] = acc_city_state.groupby(['CITY', 'STATE'])['STATE'].transform('count')\n",
    "acc_city_state = acc_city_state.sort_values(by=['COUNT'], ascending=False)\n",
    "acc_city_state = acc_city_state.groupby('COUNT').first().sort_values(by=['COUNT'], ascending=False)\n",
    "acc_city_state = acc_city_state.reset_index()\n",
    "top_100 = acc_city_state.head(100)\n",
    "\n",
    "top_100 = top_100.replace(4120, 3382)\n",
    "top_100.head(37)"
   ]
  },
  {
   "cell_type": "code",
   "execution_count": 31,
   "metadata": {},
   "outputs": [
    {
     "data": {
      "text/html": [
       "<div>\n",
       "<style scoped>\n",
       "    .dataframe tbody tr th:only-of-type {\n",
       "        vertical-align: middle;\n",
       "    }\n",
       "\n",
       "    .dataframe tbody tr th {\n",
       "        vertical-align: top;\n",
       "    }\n",
       "\n",
       "    .dataframe thead th {\n",
       "        text-align: right;\n",
       "    }\n",
       "</style>\n",
       "<table border=\"1\" class=\"dataframe\">\n",
       "  <thead>\n",
       "    <tr style=\"text-align: right;\">\n",
       "      <th></th>\n",
       "      <th>ST_NAME</th>\n",
       "      <th>STATE</th>\n",
       "      <th>CITY</th>\n",
       "      <th>CT_NAME</th>\n",
       "    </tr>\n",
       "  </thead>\n",
       "  <tbody>\n",
       "    <tr>\n",
       "      <th>0</th>\n",
       "      <td>ALABAMA</td>\n",
       "      <td>1</td>\n",
       "      <td>220</td>\n",
       "      <td>AUTAUGAVILLE</td>\n",
       "    </tr>\n",
       "    <tr>\n",
       "      <th>1</th>\n",
       "      <td>ALABAMA</td>\n",
       "      <td>1</td>\n",
       "      <td>340</td>\n",
       "      <td>BILLINGSLEY</td>\n",
       "    </tr>\n",
       "    <tr>\n",
       "      <th>2</th>\n",
       "      <td>ALABAMA</td>\n",
       "      <td>1</td>\n",
       "      <td>425</td>\n",
       "      <td>BOOTH</td>\n",
       "    </tr>\n",
       "    <tr>\n",
       "      <th>3</th>\n",
       "      <td>ALABAMA</td>\n",
       "      <td>1</td>\n",
       "      <td>1796</td>\n",
       "      <td>JONES</td>\n",
       "    </tr>\n",
       "    <tr>\n",
       "      <th>4</th>\n",
       "      <td>ALABAMA</td>\n",
       "      <td>1</td>\n",
       "      <td>2002</td>\n",
       "      <td>MARBURY</td>\n",
       "    </tr>\n",
       "  </tbody>\n",
       "</table>\n",
       "</div>"
      ],
      "text/plain": [
       "   ST_NAME  STATE  CITY       CT_NAME\n",
       "0  ALABAMA      1   220  AUTAUGAVILLE\n",
       "1  ALABAMA      1   340   BILLINGSLEY\n",
       "2  ALABAMA      1   425         BOOTH\n",
       "3  ALABAMA      1  1796         JONES\n",
       "4  ALABAMA      1  2002       MARBURY"
      ]
     },
     "execution_count": 31,
     "metadata": {},
     "output_type": "execute_result"
    }
   ],
   "source": [
    "# City/State dictionary to interpret city/state geocodes\n",
    "df = pd.read_csv('/Users/ianforrest/Desktop/coding/repos/DS_Safe-Routes/visualizations/FRPP GLC United States (1).xlsx - GeoLocation_UnitedStates.csv')\n",
    "df.columns = ['ST_NAME', 'STATE', 'CITY', 'CT_NAME']\n",
    "df.head()"
   ]
  },
  {
   "cell_type": "code",
   "execution_count": 32,
   "metadata": {},
   "outputs": [],
   "source": [
    "# limit dataframe to top 100 cities with most crashes\n",
    "top_100 = top_100.merge(df, how='left').drop_duplicates(['CITY', 'STATE'])\n",
    "\n",
    "# format text of city/state columns\n",
    "top_100['ST_NAME'] = top_100['ST_NAME'].str.title()\n",
    "top_100['CT_NAME'] = top_100['CT_NAME'].str.title()\n",
    "\n",
    "# combine city name, state name, and number of accidents into 'DESC' column\n",
    "top_100['DESC'] = top_100['CT_NAME'] + ', ' + top_100['ST_NAME'] + ' - ' + top_100['COUNT'].map(str) + ' Accidents'"
   ]
  },
  {
   "cell_type": "code",
   "execution_count": 34,
   "metadata": {},
   "outputs": [
    {
     "data": {
      "text/html": [
       "<div>\n",
       "<style scoped>\n",
       "    .dataframe tbody tr th:only-of-type {\n",
       "        vertical-align: middle;\n",
       "    }\n",
       "\n",
       "    .dataframe tbody tr th {\n",
       "        vertical-align: top;\n",
       "    }\n",
       "\n",
       "    .dataframe thead th {\n",
       "        text-align: right;\n",
       "    }\n",
       "</style>\n",
       "<table border=\"1\" class=\"dataframe\">\n",
       "  <thead>\n",
       "    <tr style=\"text-align: right;\">\n",
       "      <th></th>\n",
       "      <th>COUNT</th>\n",
       "      <th>CITY</th>\n",
       "      <th>STATE</th>\n",
       "      <th>LATITUDE</th>\n",
       "      <th>LONGITUD</th>\n",
       "      <th>ST_NAME</th>\n",
       "      <th>CT_NAME</th>\n",
       "      <th>DESC</th>\n",
       "    </tr>\n",
       "  </thead>\n",
       "  <tbody>\n",
       "    <tr>\n",
       "      <th>0</th>\n",
       "      <td>788</td>\n",
       "      <td>1980</td>\n",
       "      <td>6</td>\n",
       "      <td>34.221669</td>\n",
       "      <td>-118.413881</td>\n",
       "      <td>California</td>\n",
       "      <td>Los Angeles</td>\n",
       "      <td>Los Angeles, California - 788 Accidents</td>\n",
       "    </tr>\n",
       "    <tr>\n",
       "      <th>1</th>\n",
       "      <td>668</td>\n",
       "      <td>3280</td>\n",
       "      <td>48</td>\n",
       "      <td>29.666778</td>\n",
       "      <td>-95.552475</td>\n",
       "      <td>Texas</td>\n",
       "      <td>Houston</td>\n",
       "      <td>Houston, Texas - 668 Accidents</td>\n",
       "    </tr>\n",
       "    <tr>\n",
       "      <th>4</th>\n",
       "      <td>652</td>\n",
       "      <td>4170</td>\n",
       "      <td>36</td>\n",
       "      <td>40.509711</td>\n",
       "      <td>-74.247503</td>\n",
       "      <td>New York</td>\n",
       "      <td>New York City</td>\n",
       "      <td>New York City, New York - 652 Accidents</td>\n",
       "    </tr>\n",
       "    <tr>\n",
       "      <th>9</th>\n",
       "      <td>623</td>\n",
       "      <td>370</td>\n",
       "      <td>4</td>\n",
       "      <td>33.375819</td>\n",
       "      <td>-112.168453</td>\n",
       "      <td>Arizona</td>\n",
       "      <td>Phoenix</td>\n",
       "      <td>Phoenix, Arizona - 623 Accidents</td>\n",
       "    </tr>\n",
       "    <tr>\n",
       "      <th>10</th>\n",
       "      <td>512</td>\n",
       "      <td>1730</td>\n",
       "      <td>48</td>\n",
       "      <td>32.768761</td>\n",
       "      <td>-96.822747</td>\n",
       "      <td>Texas</td>\n",
       "      <td>Dallas</td>\n",
       "      <td>Dallas, Texas - 512 Accidents</td>\n",
       "    </tr>\n",
       "    <tr>\n",
       "      <th>15</th>\n",
       "      <td>471</td>\n",
       "      <td>6090</td>\n",
       "      <td>48</td>\n",
       "      <td>29.396403</td>\n",
       "      <td>-98.479578</td>\n",
       "      <td>Texas</td>\n",
       "      <td>San Antonio</td>\n",
       "      <td>San Antonio, Texas - 471 Accidents</td>\n",
       "    </tr>\n",
       "    <tr>\n",
       "      <th>16</th>\n",
       "      <td>398</td>\n",
       "      <td>1510</td>\n",
       "      <td>12</td>\n",
       "      <td>30.253192</td>\n",
       "      <td>-81.699192</td>\n",
       "      <td>Florida</td>\n",
       "      <td>Jacksonville</td>\n",
       "      <td>Jacksonville, Florida - 398 Accidents</td>\n",
       "    </tr>\n",
       "    <tr>\n",
       "      <th>17</th>\n",
       "      <td>364</td>\n",
       "      <td>1670</td>\n",
       "      <td>17</td>\n",
       "      <td>41.764706</td>\n",
       "      <td>-87.683264</td>\n",
       "      <td>Illinois</td>\n",
       "      <td>Chicago</td>\n",
       "      <td>Chicago, Illinois - 364 Accidents</td>\n",
       "    </tr>\n",
       "    <tr>\n",
       "      <th>19</th>\n",
       "      <td>321</td>\n",
       "      <td>1260</td>\n",
       "      <td>26</td>\n",
       "      <td>42.434400</td>\n",
       "      <td>-83.006897</td>\n",
       "      <td>Michigan</td>\n",
       "      <td>Detroit</td>\n",
       "      <td>Detroit, Michigan - 321 Accidents</td>\n",
       "    </tr>\n",
       "    <tr>\n",
       "      <th>20</th>\n",
       "      <td>307</td>\n",
       "      <td>1620</td>\n",
       "      <td>47</td>\n",
       "      <td>35.102233</td>\n",
       "      <td>-89.947192</td>\n",
       "      <td>Tennessee</td>\n",
       "      <td>Memphis</td>\n",
       "      <td>Memphis, Tennessee - 307 Accidents</td>\n",
       "    </tr>\n",
       "    <tr>\n",
       "      <th>21</th>\n",
       "      <td>272</td>\n",
       "      <td>2210</td>\n",
       "      <td>18</td>\n",
       "      <td>39.794064</td>\n",
       "      <td>-86.278586</td>\n",
       "      <td>Indiana</td>\n",
       "      <td>Indianapolis</td>\n",
       "      <td>Indianapolis, Indiana - 272 Accidents</td>\n",
       "    </tr>\n",
       "    <tr>\n",
       "      <th>22</th>\n",
       "      <td>268</td>\n",
       "      <td>6540</td>\n",
       "      <td>42</td>\n",
       "      <td>40.086722</td>\n",
       "      <td>-75.039736</td>\n",
       "      <td>Pennsylvania</td>\n",
       "      <td>Philadelphia</td>\n",
       "      <td>Philadelphia, Pennsylvania - 268 Accidents</td>\n",
       "    </tr>\n",
       "    <tr>\n",
       "      <th>23</th>\n",
       "      <td>262</td>\n",
       "      <td>2450</td>\n",
       "      <td>48</td>\n",
       "      <td>32.692575</td>\n",
       "      <td>-97.241917</td>\n",
       "      <td>Texas</td>\n",
       "      <td>Fort Worth</td>\n",
       "      <td>Fort Worth, Texas - 262 Accidents</td>\n",
       "    </tr>\n",
       "    <tr>\n",
       "      <th>24</th>\n",
       "      <td>258</td>\n",
       "      <td>330</td>\n",
       "      <td>48</td>\n",
       "      <td>30.203336</td>\n",
       "      <td>-97.639367</td>\n",
       "      <td>Texas</td>\n",
       "      <td>Austin</td>\n",
       "      <td>Austin, Texas - 258 Accidents</td>\n",
       "    </tr>\n",
       "    <tr>\n",
       "      <th>26</th>\n",
       "      <td>257</td>\n",
       "      <td>3550</td>\n",
       "      <td>40</td>\n",
       "      <td>35.433439</td>\n",
       "      <td>-97.507897</td>\n",
       "      <td>Oklahoma</td>\n",
       "      <td>Oklahoma City</td>\n",
       "      <td>Oklahoma City, Oklahoma - 257 Accidents</td>\n",
       "    </tr>\n",
       "    <tr>\n",
       "      <th>30</th>\n",
       "      <td>249</td>\n",
       "      <td>870</td>\n",
       "      <td>37</td>\n",
       "      <td>35.163483</td>\n",
       "      <td>-80.955600</td>\n",
       "      <td>North Carolina</td>\n",
       "      <td>Charlotte</td>\n",
       "      <td>Charlotte, North Carolina - 249 Accidents</td>\n",
       "    </tr>\n",
       "    <tr>\n",
       "      <th>31</th>\n",
       "      <td>248</td>\n",
       "      <td>3260</td>\n",
       "      <td>6</td>\n",
       "      <td>32.572803</td>\n",
       "      <td>-117.040494</td>\n",
       "      <td>California</td>\n",
       "      <td>San Diego</td>\n",
       "      <td>San Diego, California - 248 Accidents</td>\n",
       "    </tr>\n",
       "    <tr>\n",
       "      <th>32</th>\n",
       "      <td>247</td>\n",
       "      <td>2090</td>\n",
       "      <td>21</td>\n",
       "      <td>38.291486</td>\n",
       "      <td>-85.650694</td>\n",
       "      <td>Kentucky</td>\n",
       "      <td>Louisville</td>\n",
       "      <td>Louisville, Kentucky - 247 Accidents</td>\n",
       "    </tr>\n",
       "    <tr>\n",
       "      <th>33</th>\n",
       "      <td>218</td>\n",
       "      <td>30</td>\n",
       "      <td>35</td>\n",
       "      <td>35.189642</td>\n",
       "      <td>-106.684081</td>\n",
       "      <td>New Mexico</td>\n",
       "      <td>Albuquerque</td>\n",
       "      <td>Albuquerque, New Mexico - 218 Accidents</td>\n",
       "    </tr>\n",
       "    <tr>\n",
       "      <th>34</th>\n",
       "      <td>213</td>\n",
       "      <td>3382</td>\n",
       "      <td>29</td>\n",
       "      <td>39.131178</td>\n",
       "      <td>-94.542100</td>\n",
       "      <td>Missouri</td>\n",
       "      <td>Kansas City</td>\n",
       "      <td>Kansas City, Missouri - 213 Accidents</td>\n",
       "    </tr>\n",
       "    <tr>\n",
       "      <th>37</th>\n",
       "      <td>194</td>\n",
       "      <td>1760</td>\n",
       "      <td>47</td>\n",
       "      <td>36.195331</td>\n",
       "      <td>-86.775569</td>\n",
       "      <td>Tennessee</td>\n",
       "      <td>Nashville</td>\n",
       "      <td>Nashville, Tennessee - 194 Accidents</td>\n",
       "    </tr>\n",
       "    <tr>\n",
       "      <th>38</th>\n",
       "      <td>175</td>\n",
       "      <td>3100</td>\n",
       "      <td>55</td>\n",
       "      <td>43.119369</td>\n",
       "      <td>-88.032544</td>\n",
       "      <td>Wisconsin</td>\n",
       "      <td>Milwaukee</td>\n",
       "      <td>Milwaukee, Wisconsin - 175 Accidents</td>\n",
       "    </tr>\n",
       "    <tr>\n",
       "      <th>40</th>\n",
       "      <td>173</td>\n",
       "      <td>530</td>\n",
       "      <td>4</td>\n",
       "      <td>32.243361</td>\n",
       "      <td>-110.866689</td>\n",
       "      <td>Arizona</td>\n",
       "      <td>Tucson</td>\n",
       "      <td>Tucson, Arizona - 173 Accidents</td>\n",
       "    </tr>\n",
       "    <tr>\n",
       "      <th>41</th>\n",
       "      <td>171</td>\n",
       "      <td>3340</td>\n",
       "      <td>6</td>\n",
       "      <td>37.340781</td>\n",
       "      <td>-121.819911</td>\n",
       "      <td>California</td>\n",
       "      <td>San Jose</td>\n",
       "      <td>San Jose, California - 171 Accidents</td>\n",
       "    </tr>\n",
       "    <tr>\n",
       "      <th>42</th>\n",
       "      <td>168</td>\n",
       "      <td>280</td>\n",
       "      <td>13</td>\n",
       "      <td>33.700642</td>\n",
       "      <td>-84.349556</td>\n",
       "      <td>Georgia</td>\n",
       "      <td>Atlanta</td>\n",
       "      <td>Atlanta, Georgia - 168 Accidents</td>\n",
       "    </tr>\n",
       "    <tr>\n",
       "      <th>44</th>\n",
       "      <td>161</td>\n",
       "      <td>1800</td>\n",
       "      <td>39</td>\n",
       "      <td>39.993592</td>\n",
       "      <td>-83.118300</td>\n",
       "      <td>Ohio</td>\n",
       "      <td>Columbus</td>\n",
       "      <td>Columbus, Ohio - 161 Accidents</td>\n",
       "    </tr>\n",
       "    <tr>\n",
       "      <th>45</th>\n",
       "      <td>160</td>\n",
       "      <td>2190</td>\n",
       "      <td>48</td>\n",
       "      <td>31.916000</td>\n",
       "      <td>-106.582700</td>\n",
       "      <td>Texas</td>\n",
       "      <td>El Paso</td>\n",
       "      <td>El Paso, Texas - 160 Accidents</td>\n",
       "    </tr>\n",
       "    <tr>\n",
       "      <th>46</th>\n",
       "      <td>155</td>\n",
       "      <td>7080</td>\n",
       "      <td>29</td>\n",
       "      <td>38.666625</td>\n",
       "      <td>-90.212892</td>\n",
       "      <td>Missouri</td>\n",
       "      <td>Saint Louis</td>\n",
       "      <td>Saint Louis, Missouri - 155 Accidents</td>\n",
       "    </tr>\n",
       "    <tr>\n",
       "      <th>47</th>\n",
       "      <td>151</td>\n",
       "      <td>2950</td>\n",
       "      <td>12</td>\n",
       "      <td>27.965269</td>\n",
       "      <td>-82.440031</td>\n",
       "      <td>Florida</td>\n",
       "      <td>Tampa</td>\n",
       "      <td>Tampa, Florida - 151 Accidents</td>\n",
       "    </tr>\n",
       "    <tr>\n",
       "      <th>48</th>\n",
       "      <td>148</td>\n",
       "      <td>600</td>\n",
       "      <td>8</td>\n",
       "      <td>39.696683</td>\n",
       "      <td>-105.025000</td>\n",
       "      <td>Colorado</td>\n",
       "      <td>Denver</td>\n",
       "      <td>Denver, Colorado - 148 Accidents</td>\n",
       "    </tr>\n",
       "    <tr>\n",
       "      <th>...</th>\n",
       "      <td>...</td>\n",
       "      <td>...</td>\n",
       "      <td>...</td>\n",
       "      <td>...</td>\n",
       "      <td>...</td>\n",
       "      <td>...</td>\n",
       "      <td>...</td>\n",
       "      <td>...</td>\n",
       "    </tr>\n",
       "    <tr>\n",
       "      <th>94</th>\n",
       "      <td>60</td>\n",
       "      <td>2400</td>\n",
       "      <td>15</td>\n",
       "      <td>21.300594</td>\n",
       "      <td>-157.846194</td>\n",
       "      <td>Hawaii</td>\n",
       "      <td>Honolulu</td>\n",
       "      <td>Honolulu, Hawaii - 60 Accidents</td>\n",
       "    </tr>\n",
       "    <tr>\n",
       "      <th>95</th>\n",
       "      <td>59</td>\n",
       "      <td>170</td>\n",
       "      <td>32</td>\n",
       "      <td>39.520364</td>\n",
       "      <td>-119.844983</td>\n",
       "      <td>Nevada</td>\n",
       "      <td>Reno</td>\n",
       "      <td>Reno, Nevada - 59 Accidents</td>\n",
       "    </tr>\n",
       "    <tr>\n",
       "      <th>96</th>\n",
       "      <td>58</td>\n",
       "      <td>1670</td>\n",
       "      <td>37</td>\n",
       "      <td>35.083367</td>\n",
       "      <td>-79.014225</td>\n",
       "      <td>North Carolina</td>\n",
       "      <td>Fayetteville</td>\n",
       "      <td>Fayetteville, North Carolina - 58 Accidents</td>\n",
       "    </tr>\n",
       "    <tr>\n",
       "      <th>97</th>\n",
       "      <td>57</td>\n",
       "      <td>2820</td>\n",
       "      <td>20</td>\n",
       "      <td>39.097222</td>\n",
       "      <td>-94.623569</td>\n",
       "      <td>Kansas</td>\n",
       "      <td>Kansas City</td>\n",
       "      <td>Kansas City, Kansas - 57 Accidents</td>\n",
       "    </tr>\n",
       "    <tr>\n",
       "      <th>98</th>\n",
       "      <td>56</td>\n",
       "      <td>1690</td>\n",
       "      <td>12</td>\n",
       "      <td>28.049556</td>\n",
       "      <td>-81.957325</td>\n",
       "      <td>Florida</td>\n",
       "      <td>Lakeland</td>\n",
       "      <td>Lakeland, Florida - 56 Accidents</td>\n",
       "    </tr>\n",
       "    <tr>\n",
       "      <th>99</th>\n",
       "      <td>55</td>\n",
       "      <td>3420</td>\n",
       "      <td>48</td>\n",
       "      <td>32.837072</td>\n",
       "      <td>-96.922700</td>\n",
       "      <td>Texas</td>\n",
       "      <td>Irving</td>\n",
       "      <td>Irving, Texas - 55 Accidents</td>\n",
       "    </tr>\n",
       "    <tr>\n",
       "      <th>100</th>\n",
       "      <td>54</td>\n",
       "      <td>2870</td>\n",
       "      <td>6</td>\n",
       "      <td>34.066406</td>\n",
       "      <td>-117.807650</td>\n",
       "      <td>California</td>\n",
       "      <td>Pomona</td>\n",
       "      <td>Pomona, California - 54 Accidents</td>\n",
       "    </tr>\n",
       "    <tr>\n",
       "      <th>101</th>\n",
       "      <td>52</td>\n",
       "      <td>771</td>\n",
       "      <td>12</td>\n",
       "      <td>26.083531</td>\n",
       "      <td>-80.203350</td>\n",
       "      <td>Florida</td>\n",
       "      <td>Davie</td>\n",
       "      <td>Davie, Florida - 52 Accidents</td>\n",
       "    </tr>\n",
       "    <tr>\n",
       "      <th>102</th>\n",
       "      <td>51</td>\n",
       "      <td>1760</td>\n",
       "      <td>51</td>\n",
       "      <td>36.878989</td>\n",
       "      <td>-76.302019</td>\n",
       "      <td>Virginia</td>\n",
       "      <td>Norfolk</td>\n",
       "      <td>Norfolk, Virginia - 51 Accidents</td>\n",
       "    </tr>\n",
       "    <tr>\n",
       "      <th>103</th>\n",
       "      <td>50</td>\n",
       "      <td>1603</td>\n",
       "      <td>6</td>\n",
       "      <td>34.409317</td>\n",
       "      <td>-117.309469</td>\n",
       "      <td>California</td>\n",
       "      <td>Hesperia</td>\n",
       "      <td>Hesperia, California - 50 Accidents</td>\n",
       "    </tr>\n",
       "    <tr>\n",
       "      <th>104</th>\n",
       "      <td>49</td>\n",
       "      <td>1420</td>\n",
       "      <td>12</td>\n",
       "      <td>26.007658</td>\n",
       "      <td>-80.148928</td>\n",
       "      <td>Florida</td>\n",
       "      <td>Hollywood</td>\n",
       "      <td>Hollywood, Florida - 49 Accidents</td>\n",
       "    </tr>\n",
       "    <tr>\n",
       "      <th>105</th>\n",
       "      <td>48</td>\n",
       "      <td>3190</td>\n",
       "      <td>12</td>\n",
       "      <td>26.724611</td>\n",
       "      <td>-80.059194</td>\n",
       "      <td>Florida</td>\n",
       "      <td>West Palm Beach</td>\n",
       "      <td>West Palm Beach, Florida - 48 Accidents</td>\n",
       "    </tr>\n",
       "    <tr>\n",
       "      <th>106</th>\n",
       "      <td>47</td>\n",
       "      <td>1230</td>\n",
       "      <td>22</td>\n",
       "      <td>30.294383</td>\n",
       "      <td>-91.998117</td>\n",
       "      <td>Louisiana</td>\n",
       "      <td>Lafayette</td>\n",
       "      <td>Lafayette, Louisiana - 47 Accidents</td>\n",
       "    </tr>\n",
       "    <tr>\n",
       "      <th>107</th>\n",
       "      <td>46</td>\n",
       "      <td>480</td>\n",
       "      <td>48</td>\n",
       "      <td>29.803292</td>\n",
       "      <td>-94.989978</td>\n",
       "      <td>Texas</td>\n",
       "      <td>Baytown</td>\n",
       "      <td>Baytown, Texas - 46 Accidents</td>\n",
       "    </tr>\n",
       "    <tr>\n",
       "      <th>108</th>\n",
       "      <td>45</td>\n",
       "      <td>1730</td>\n",
       "      <td>18</td>\n",
       "      <td>41.601233</td>\n",
       "      <td>-87.321072</td>\n",
       "      <td>Indiana</td>\n",
       "      <td>Gary</td>\n",
       "      <td>Gary, Indiana - 45 Accidents</td>\n",
       "    </tr>\n",
       "    <tr>\n",
       "      <th>109</th>\n",
       "      <td>44</td>\n",
       "      <td>810</td>\n",
       "      <td>9</td>\n",
       "      <td>41.585239</td>\n",
       "      <td>-73.042383</td>\n",
       "      <td>Connecticut</td>\n",
       "      <td>Waterbury</td>\n",
       "      <td>Waterbury, Connecticut - 44 Accidents</td>\n",
       "    </tr>\n",
       "    <tr>\n",
       "      <th>110</th>\n",
       "      <td>43</td>\n",
       "      <td>170</td>\n",
       "      <td>37</td>\n",
       "      <td>35.590881</td>\n",
       "      <td>-82.571639</td>\n",
       "      <td>North Carolina</td>\n",
       "      <td>Asheville</td>\n",
       "      <td>Asheville, North Carolina - 43 Accidents</td>\n",
       "    </tr>\n",
       "    <tr>\n",
       "      <th>111</th>\n",
       "      <td>42</td>\n",
       "      <td>150</td>\n",
       "      <td>32</td>\n",
       "      <td>36.217644</td>\n",
       "      <td>-115.179439</td>\n",
       "      <td>Nevada</td>\n",
       "      <td>North Las Vegas</td>\n",
       "      <td>North Las Vegas, Nevada - 42 Accidents</td>\n",
       "    </tr>\n",
       "    <tr>\n",
       "      <th>112</th>\n",
       "      <td>41</td>\n",
       "      <td>490</td>\n",
       "      <td>48</td>\n",
       "      <td>30.058694</td>\n",
       "      <td>-94.136183</td>\n",
       "      <td>Texas</td>\n",
       "      <td>Beaumont</td>\n",
       "      <td>Beaumont, Texas - 41 Accidents</td>\n",
       "    </tr>\n",
       "    <tr>\n",
       "      <th>113</th>\n",
       "      <td>40</td>\n",
       "      <td>360</td>\n",
       "      <td>36</td>\n",
       "      <td>40.702092</td>\n",
       "      <td>-73.329033</td>\n",
       "      <td>New York</td>\n",
       "      <td>Babylon</td>\n",
       "      <td>Babylon, New York - 40 Accidents</td>\n",
       "    </tr>\n",
       "    <tr>\n",
       "      <th>114</th>\n",
       "      <td>39</td>\n",
       "      <td>4530</td>\n",
       "      <td>48</td>\n",
       "      <td>32.792222</td>\n",
       "      <td>-96.658339</td>\n",
       "      <td>Texas</td>\n",
       "      <td>Mesquite</td>\n",
       "      <td>Mesquite, Texas - 39 Accidents</td>\n",
       "    </tr>\n",
       "    <tr>\n",
       "      <th>115</th>\n",
       "      <td>38</td>\n",
       "      <td>990</td>\n",
       "      <td>18</td>\n",
       "      <td>39.082114</td>\n",
       "      <td>-85.841372</td>\n",
       "      <td>Indiana</td>\n",
       "      <td>Columbus</td>\n",
       "      <td>Columbus, Indiana - 38 Accidents</td>\n",
       "    </tr>\n",
       "    <tr>\n",
       "      <th>116</th>\n",
       "      <td>37</td>\n",
       "      <td>1730</td>\n",
       "      <td>26</td>\n",
       "      <td>43.036650</td>\n",
       "      <td>-83.667903</td>\n",
       "      <td>Michigan</td>\n",
       "      <td>Flint</td>\n",
       "      <td>Flint, Michigan - 37 Accidents</td>\n",
       "    </tr>\n",
       "    <tr>\n",
       "      <th>117</th>\n",
       "      <td>36</td>\n",
       "      <td>1435</td>\n",
       "      <td>8</td>\n",
       "      <td>39.738433</td>\n",
       "      <td>-105.081278</td>\n",
       "      <td>Colorado</td>\n",
       "      <td>Lakewood</td>\n",
       "      <td>Lakewood, Colorado - 36 Accidents</td>\n",
       "    </tr>\n",
       "    <tr>\n",
       "      <th>118</th>\n",
       "      <td>35</td>\n",
       "      <td>4080</td>\n",
       "      <td>48</td>\n",
       "      <td>32.548125</td>\n",
       "      <td>-94.727875</td>\n",
       "      <td>Texas</td>\n",
       "      <td>Longview</td>\n",
       "      <td>Longview, Texas - 35 Accidents</td>\n",
       "    </tr>\n",
       "    <tr>\n",
       "      <th>120</th>\n",
       "      <td>34</td>\n",
       "      <td>1364</td>\n",
       "      <td>6</td>\n",
       "      <td>37.547756</td>\n",
       "      <td>-121.986458</td>\n",
       "      <td>California</td>\n",
       "      <td>Fremont</td>\n",
       "      <td>Fremont, California - 34 Accidents</td>\n",
       "    </tr>\n",
       "    <tr>\n",
       "      <th>121</th>\n",
       "      <td>33</td>\n",
       "      <td>6330</td>\n",
       "      <td>27</td>\n",
       "      <td>44.965658</td>\n",
       "      <td>-93.084250</td>\n",
       "      <td>Minnesota</td>\n",
       "      <td>Saint Paul</td>\n",
       "      <td>Saint Paul, Minnesota - 33 Accidents</td>\n",
       "    </tr>\n",
       "    <tr>\n",
       "      <th>122</th>\n",
       "      <td>32</td>\n",
       "      <td>1250</td>\n",
       "      <td>13</td>\n",
       "      <td>33.617836</td>\n",
       "      <td>-84.456889</td>\n",
       "      <td>Georgia</td>\n",
       "      <td>College Park</td>\n",
       "      <td>College Park, Georgia - 32 Accidents</td>\n",
       "    </tr>\n",
       "    <tr>\n",
       "      <th>124</th>\n",
       "      <td>31</td>\n",
       "      <td>1810</td>\n",
       "      <td>41</td>\n",
       "      <td>44.916944</td>\n",
       "      <td>-122.993139</td>\n",
       "      <td>Oregon</td>\n",
       "      <td>Salem</td>\n",
       "      <td>Salem, Oregon - 31 Accidents</td>\n",
       "    </tr>\n",
       "    <tr>\n",
       "      <th>126</th>\n",
       "      <td>30</td>\n",
       "      <td>2430</td>\n",
       "      <td>18</td>\n",
       "      <td>40.475575</td>\n",
       "      <td>-86.115681</td>\n",
       "      <td>Indiana</td>\n",
       "      <td>Kokomo</td>\n",
       "      <td>Kokomo, Indiana - 30 Accidents</td>\n",
       "    </tr>\n",
       "  </tbody>\n",
       "</table>\n",
       "<p>100 rows × 8 columns</p>\n",
       "</div>"
      ],
      "text/plain": [
       "     COUNT  CITY  STATE   LATITUDE    LONGITUD         ST_NAME  \\\n",
       "0      788  1980      6  34.221669 -118.413881      California   \n",
       "1      668  3280     48  29.666778  -95.552475           Texas   \n",
       "4      652  4170     36  40.509711  -74.247503        New York   \n",
       "9      623   370      4  33.375819 -112.168453         Arizona   \n",
       "10     512  1730     48  32.768761  -96.822747           Texas   \n",
       "15     471  6090     48  29.396403  -98.479578           Texas   \n",
       "16     398  1510     12  30.253192  -81.699192         Florida   \n",
       "17     364  1670     17  41.764706  -87.683264        Illinois   \n",
       "19     321  1260     26  42.434400  -83.006897        Michigan   \n",
       "20     307  1620     47  35.102233  -89.947192       Tennessee   \n",
       "21     272  2210     18  39.794064  -86.278586         Indiana   \n",
       "22     268  6540     42  40.086722  -75.039736    Pennsylvania   \n",
       "23     262  2450     48  32.692575  -97.241917           Texas   \n",
       "24     258   330     48  30.203336  -97.639367           Texas   \n",
       "26     257  3550     40  35.433439  -97.507897        Oklahoma   \n",
       "30     249   870     37  35.163483  -80.955600  North Carolina   \n",
       "31     248  3260      6  32.572803 -117.040494      California   \n",
       "32     247  2090     21  38.291486  -85.650694        Kentucky   \n",
       "33     218    30     35  35.189642 -106.684081      New Mexico   \n",
       "34     213  3382     29  39.131178  -94.542100        Missouri   \n",
       "37     194  1760     47  36.195331  -86.775569       Tennessee   \n",
       "38     175  3100     55  43.119369  -88.032544       Wisconsin   \n",
       "40     173   530      4  32.243361 -110.866689         Arizona   \n",
       "41     171  3340      6  37.340781 -121.819911      California   \n",
       "42     168   280     13  33.700642  -84.349556         Georgia   \n",
       "44     161  1800     39  39.993592  -83.118300            Ohio   \n",
       "45     160  2190     48  31.916000 -106.582700           Texas   \n",
       "46     155  7080     29  38.666625  -90.212892        Missouri   \n",
       "47     151  2950     12  27.965269  -82.440031         Florida   \n",
       "48     148   600      8  39.696683 -105.025000        Colorado   \n",
       "..     ...   ...    ...        ...         ...             ...   \n",
       "94      60  2400     15  21.300594 -157.846194          Hawaii   \n",
       "95      59   170     32  39.520364 -119.844983          Nevada   \n",
       "96      58  1670     37  35.083367  -79.014225  North Carolina   \n",
       "97      57  2820     20  39.097222  -94.623569          Kansas   \n",
       "98      56  1690     12  28.049556  -81.957325         Florida   \n",
       "99      55  3420     48  32.837072  -96.922700           Texas   \n",
       "100     54  2870      6  34.066406 -117.807650      California   \n",
       "101     52   771     12  26.083531  -80.203350         Florida   \n",
       "102     51  1760     51  36.878989  -76.302019        Virginia   \n",
       "103     50  1603      6  34.409317 -117.309469      California   \n",
       "104     49  1420     12  26.007658  -80.148928         Florida   \n",
       "105     48  3190     12  26.724611  -80.059194         Florida   \n",
       "106     47  1230     22  30.294383  -91.998117       Louisiana   \n",
       "107     46   480     48  29.803292  -94.989978           Texas   \n",
       "108     45  1730     18  41.601233  -87.321072         Indiana   \n",
       "109     44   810      9  41.585239  -73.042383     Connecticut   \n",
       "110     43   170     37  35.590881  -82.571639  North Carolina   \n",
       "111     42   150     32  36.217644 -115.179439          Nevada   \n",
       "112     41   490     48  30.058694  -94.136183           Texas   \n",
       "113     40   360     36  40.702092  -73.329033        New York   \n",
       "114     39  4530     48  32.792222  -96.658339           Texas   \n",
       "115     38   990     18  39.082114  -85.841372         Indiana   \n",
       "116     37  1730     26  43.036650  -83.667903        Michigan   \n",
       "117     36  1435      8  39.738433 -105.081278        Colorado   \n",
       "118     35  4080     48  32.548125  -94.727875           Texas   \n",
       "120     34  1364      6  37.547756 -121.986458      California   \n",
       "121     33  6330     27  44.965658  -93.084250       Minnesota   \n",
       "122     32  1250     13  33.617836  -84.456889         Georgia   \n",
       "124     31  1810     41  44.916944 -122.993139          Oregon   \n",
       "126     30  2430     18  40.475575  -86.115681         Indiana   \n",
       "\n",
       "             CT_NAME                                         DESC  \n",
       "0        Los Angeles      Los Angeles, California - 788 Accidents  \n",
       "1            Houston               Houston, Texas - 668 Accidents  \n",
       "4      New York City      New York City, New York - 652 Accidents  \n",
       "9            Phoenix             Phoenix, Arizona - 623 Accidents  \n",
       "10            Dallas                Dallas, Texas - 512 Accidents  \n",
       "15       San Antonio           San Antonio, Texas - 471 Accidents  \n",
       "16      Jacksonville        Jacksonville, Florida - 398 Accidents  \n",
       "17           Chicago            Chicago, Illinois - 364 Accidents  \n",
       "19           Detroit            Detroit, Michigan - 321 Accidents  \n",
       "20           Memphis           Memphis, Tennessee - 307 Accidents  \n",
       "21      Indianapolis        Indianapolis, Indiana - 272 Accidents  \n",
       "22      Philadelphia   Philadelphia, Pennsylvania - 268 Accidents  \n",
       "23        Fort Worth            Fort Worth, Texas - 262 Accidents  \n",
       "24            Austin                Austin, Texas - 258 Accidents  \n",
       "26     Oklahoma City      Oklahoma City, Oklahoma - 257 Accidents  \n",
       "30         Charlotte    Charlotte, North Carolina - 249 Accidents  \n",
       "31         San Diego        San Diego, California - 248 Accidents  \n",
       "32        Louisville         Louisville, Kentucky - 247 Accidents  \n",
       "33       Albuquerque      Albuquerque, New Mexico - 218 Accidents  \n",
       "34       Kansas City        Kansas City, Missouri - 213 Accidents  \n",
       "37         Nashville         Nashville, Tennessee - 194 Accidents  \n",
       "38         Milwaukee         Milwaukee, Wisconsin - 175 Accidents  \n",
       "40            Tucson              Tucson, Arizona - 173 Accidents  \n",
       "41          San Jose         San Jose, California - 171 Accidents  \n",
       "42           Atlanta             Atlanta, Georgia - 168 Accidents  \n",
       "44          Columbus               Columbus, Ohio - 161 Accidents  \n",
       "45           El Paso               El Paso, Texas - 160 Accidents  \n",
       "46       Saint Louis        Saint Louis, Missouri - 155 Accidents  \n",
       "47             Tampa               Tampa, Florida - 151 Accidents  \n",
       "48            Denver             Denver, Colorado - 148 Accidents  \n",
       "..               ...                                          ...  \n",
       "94          Honolulu              Honolulu, Hawaii - 60 Accidents  \n",
       "95              Reno                  Reno, Nevada - 59 Accidents  \n",
       "96      Fayetteville  Fayetteville, North Carolina - 58 Accidents  \n",
       "97       Kansas City           Kansas City, Kansas - 57 Accidents  \n",
       "98          Lakeland             Lakeland, Florida - 56 Accidents  \n",
       "99            Irving                 Irving, Texas - 55 Accidents  \n",
       "100           Pomona            Pomona, California - 54 Accidents  \n",
       "101            Davie                Davie, Florida - 52 Accidents  \n",
       "102          Norfolk             Norfolk, Virginia - 51 Accidents  \n",
       "103         Hesperia          Hesperia, California - 50 Accidents  \n",
       "104        Hollywood            Hollywood, Florida - 49 Accidents  \n",
       "105  West Palm Beach      West Palm Beach, Florida - 48 Accidents  \n",
       "106        Lafayette          Lafayette, Louisiana - 47 Accidents  \n",
       "107          Baytown                Baytown, Texas - 46 Accidents  \n",
       "108             Gary                 Gary, Indiana - 45 Accidents  \n",
       "109        Waterbury        Waterbury, Connecticut - 44 Accidents  \n",
       "110        Asheville     Asheville, North Carolina - 43 Accidents  \n",
       "111  North Las Vegas       North Las Vegas, Nevada - 42 Accidents  \n",
       "112         Beaumont               Beaumont, Texas - 41 Accidents  \n",
       "113          Babylon             Babylon, New York - 40 Accidents  \n",
       "114         Mesquite               Mesquite, Texas - 39 Accidents  \n",
       "115         Columbus             Columbus, Indiana - 38 Accidents  \n",
       "116            Flint               Flint, Michigan - 37 Accidents  \n",
       "117         Lakewood            Lakewood, Colorado - 36 Accidents  \n",
       "118         Longview               Longview, Texas - 35 Accidents  \n",
       "120          Fremont           Fremont, California - 34 Accidents  \n",
       "121       Saint Paul         Saint Paul, Minnesota - 33 Accidents  \n",
       "122     College Park         College Park, Georgia - 32 Accidents  \n",
       "124            Salem                 Salem, Oregon - 31 Accidents  \n",
       "126           Kokomo               Kokomo, Indiana - 30 Accidents  \n",
       "\n",
       "[100 rows x 8 columns]"
      ]
     },
     "execution_count": 34,
     "metadata": {},
     "output_type": "execute_result"
    }
   ],
   "source": [
    "# check 'DESC' column added successfully\n",
    "top_100.head(100)"
   ]
  },
  {
   "cell_type": "code",
   "execution_count": 18,
   "metadata": {},
   "outputs": [
    {
     "data": {
      "application/vnd.plotly.v1+json": {
       "config": {
        "plotlyServerURL": "https://plot.ly"
       },
       "data": [
        {
         "hoverinfo": "text",
         "lat": [
          34.22166944,
          29.66677778,
          40.50971111,
          33.37581944,
          32.76876111,
          29.39640278,
          30.25319167,
          41.76470556,
          42.4344,
          35.10223333,
          39.79406389,
          40.08672222,
          32.692575,
          30.20333611,
          35.43343889,
          35.16348333,
          32.57280278,
          38.29148611,
          35.18964167,
          39.13117778,
          36.19533056,
          43.11936944,
          32.24336111,
          37.34078056,
          33.70064167,
          39.99359167,
          31.916,
          38.666625,
          27.96526944,
          39.69668333,
          25.76673056,
          30.07921111,
          41.44653889,
          30.45923889,
          35.38129722,
          45.56044444,
          33.53705833,
          36.75452778,
          39.31343889,
          33.39871944,
          38.01124167,
          37.66431111,
          41.25238611,
          28.52930278,
          37.77797778,
          27.80399722,
          38.86272778,
          40.95069167,
          26.13675278,
          32.70333889,
          40.69154167,
          41.04913889,
          30.65674444,
          47.668675,
          39.17974444,
          33.58191944,
          33.84916389,
          33.54819722,
          32.31215,
          32.70146667,
          40.75570833,
          36.15505833,
          33.73450833,
          26.29599167,
          35.04691944,
          34.03630556,
          29.16746667,
          33.25153333,
          41.67703056,
          32.472275,
          21.30059444,
          39.52036389,
          35.08336667,
          39.09722222,
          28.04955556,
          32.83707222,
          34.06640556,
          26.08353056,
          36.87898889,
          34.40931667,
          26.00765833,
          26.72461111,
          30.29438333,
          29.80329167,
          41.60123333,
          41.58523889,
          35.59088056,
          36.21764444,
          30.05869444,
          40.70209167,
          32.79222222,
          39.08211389,
          43.03665,
          39.73843333,
          32.548125,
          37.54775556,
          44.96565833,
          33.61783611,
          44.91694444,
          40.475575,
          null
         ],
         "lon": [
          -118.41388056,
          -95.552475,
          -74.24750278,
          -112.16845278,
          -96.82274722,
          -98.47957778,
          -81.69919167,
          -87.68326389,
          -83.00689722,
          -89.94719167,
          -86.27858611,
          -75.03973611,
          -97.24191667,
          -97.63936667,
          -97.50789722,
          -80.9556,
          -117.04049444,
          -85.65069444,
          -106.68408056,
          -94.5421,
          -86.77556944,
          -88.03254444,
          -110.86668889,
          -121.81991111,
          -84.34955556,
          -83.1183,
          -106.5827,
          -90.21289167,
          -82.44003056,
          -105.025,
          -80.21446944,
          -89.92018056,
          -81.602925,
          -91.16618889,
          -118.98801667,
          -122.578525,
          -86.88800833,
          -119.74886944,
          -76.56875,
          -111.84005278,
          -84.51666944,
          -97.345475,
          -95.97380556,
          -81.47523056,
          -122.40939722,
          -97.4686,
          -104.77562222,
          -72.94225,
          -80.14420278,
          -79.96594167,
          -73.53266944,
          -85.16554167,
          -88.14786667,
          -122.38801667,
          -84.455325,
          -112.15350556,
          -117.92418611,
          -101.85515556,
          -90.17334167,
          -97.121075,
          -73.21283333,
          -80.17779444,
          -117.89820278,
          -80.09446667,
          -85.23503889,
          -81.00366667,
          -81.04703056,
          -81.95598611,
          -83.57249167,
          -84.95475278,
          -157.84619444,
          -119.84498333,
          -79.014225,
          -94.62356944,
          -81.957325,
          -96.9227,
          -117.80765,
          -80.20335,
          -76.30201944,
          -117.30946944,
          -80.14892778,
          -80.05919444,
          -91.99811667,
          -94.98997778,
          -87.32107222,
          -73.04238333,
          -82.57163889,
          -115.17943889,
          -94.13618333,
          -73.32903333,
          -96.65833889,
          -85.84137222,
          -83.66790278,
          -105.08127778,
          -94.727875,
          -121.98645833,
          -93.08425,
          -84.45688889,
          -122.99313889,
          -86.11568056,
          null
         ],
         "marker": {
          "autocolorscale": true,
          "color": "#13F1FC",
          "opacity": 0.5,
          "reversescale": true,
          "size": 8,
          "symbol": "circle"
         },
         "mode": "markers",
         "text": [
          "Los Angeles, California - 788.0 Accidents",
          "Houston, Texas - 668.0 Accidents",
          "New York City, New York - 652.0 Accidents",
          "Phoenix, Arizona - 623.0 Accidents",
          "Dallas, Texas - 512.0 Accidents",
          "San Antonio, Texas - 471.0 Accidents",
          "Jacksonville, Florida - 398.0 Accidents",
          "Chicago, Illinois - 364.0 Accidents",
          "Detroit, Michigan - 321.0 Accidents",
          "Memphis, Tennessee - 307.0 Accidents",
          "Indianapolis, Indiana - 272.0 Accidents",
          "Philadelphia, Pennsylvania - 268.0 Accidents",
          "Fort Worth, Texas - 262.0 Accidents",
          "Austin, Texas - 258.0 Accidents",
          "Oklahoma City, Oklahoma - 257.0 Accidents",
          "Charlotte, North Carolina - 249.0 Accidents",
          "San Diego, California - 248.0 Accidents",
          "Louisville, Kentucky - 247.0 Accidents",
          "Albuquerque, New Mexico - 218.0 Accidents",
          null,
          "Nashville, Tennessee - 194.0 Accidents",
          "Milwaukee, Wisconsin - 175.0 Accidents",
          "Tucson, Arizona - 173.0 Accidents",
          "San Jose, California - 171.0 Accidents",
          "Atlanta, Georgia - 168.0 Accidents",
          "Columbus, Ohio - 161.0 Accidents",
          "El Paso, Texas - 160.0 Accidents",
          "Saint Louis, Missouri - 155.0 Accidents",
          "Tampa, Florida - 151.0 Accidents",
          "Denver, Colorado - 148.0 Accidents",
          "Miami, Florida - 146.0 Accidents",
          "New Orleans, Louisiana - 139.0 Accidents",
          "Cleveland, Ohio - 134.0 Accidents",
          "Baton Rouge, Louisiana - 126.0 Accidents",
          "Bakersfield, California - 125.0 Accidents",
          "Portland, Oregon - 121.0 Accidents",
          "Birmingham, Alabama - 119.0 Accidents",
          "Fresno, California - 115.0 Accidents",
          "Baltimore, Maryland - 113.0 Accidents",
          "Mesa, Arizona - 107.0 Accidents",
          "Lexington-Fayette, Kentucky - 106.0 Accidents",
          "Wichita, Kansas - 103.0 Accidents",
          "Omaha, Nebraska - 102.0 Accidents",
          "Orlando, Florida - 99.0 Accidents",
          "San Francisco, California - 97.0 Accidents",
          "Corpus Christi, Texas - 92.0 Accidents",
          "Colorado Springs, Colorado - 91.0 Accidents",
          "Brookhaven, New York - 90.0 Accidents",
          "Fort Lauderdale, Florida - 88.0 Accidents",
          "Charleston, South Carolina - 87.0 Accidents",
          "Hempstead, New York - 84.0 Accidents",
          "Fort Wayne, Indiana - 82.0 Accidents",
          "Mobile, Alabama - 81.0 Accidents",
          "Seattle, Washington - 79.0 Accidents",
          "Cincinnati, Ohio - 78.0 Accidents",
          "Glendale, Arizona - 77.0 Accidents",
          "Anaheim, California - 76.0 Accidents",
          "Lubbock, Texas - 75.0 Accidents",
          "Jackson, Mississippi - 74.0 Accidents",
          "Arlington, Texas - 73.0 Accidents",
          "Islip, New York - 72.0 Accidents",
          "Winston Salem, North Carolina - 71.0 Accidents",
          "Santa Ana, California - 70.0 Accidents",
          "Pompano Beach, Florida - 69.0 Accidents",
          "Chattanooga, Tennessee - 67.0 Accidents",
          "Columbia, South Carolina - 66.0 Accidents",
          "Daytona Beach, Florida - 65.0 Accidents",
          "Augusta, Georgia - 64.0 Accidents",
          "Toledo, Ohio - 63.0 Accidents",
          "Columbus, Georgia - 62.0 Accidents",
          "Honolulu, Hawaii - 60.0 Accidents",
          "Reno, Nevada - 59.0 Accidents",
          "Fayetteville, North Carolina - 58.0 Accidents",
          "Kansas City, Kansas - 57.0 Accidents",
          "Lakeland, Florida - 56.0 Accidents",
          "Irving, Texas - 55.0 Accidents",
          "Pomona, California - 54.0 Accidents",
          "Davie, Florida - 52.0 Accidents",
          "Norfolk, Virginia - 51.0 Accidents",
          "Hesperia, California - 50.0 Accidents",
          "Hollywood, Florida - 49.0 Accidents",
          "West Palm Beach, Florida - 48.0 Accidents",
          "Lafayette, Louisiana - 47.0 Accidents",
          "Baytown, Texas - 46.0 Accidents",
          "Gary, Indiana - 45.0 Accidents",
          "Waterbury, Connecticut - 44.0 Accidents",
          "Asheville, North Carolina - 43.0 Accidents",
          "North Las Vegas, Nevada - 42.0 Accidents",
          "Beaumont, Texas - 41.0 Accidents",
          "Babylon, New York - 40.0 Accidents",
          "Mesquite, Texas - 39.0 Accidents",
          "Columbus, Indiana - 38.0 Accidents",
          "Flint, Michigan - 37.0 Accidents",
          "Lakewood, Colorado - 36.0 Accidents",
          "Longview, Texas - 35.0 Accidents",
          "Fremont, California - 34.0 Accidents",
          "Saint Paul, Minnesota - 33.0 Accidents",
          "College Park, Georgia - 32.0 Accidents",
          "Salem, Oregon - 31.0 Accidents",
          "Kokomo, Indiana - 30.0 Accidents",
          null
         ],
         "type": "scattergeo"
        }
       ],
       "layout": {
        "geo": {
         "scope": "usa"
        },
        "template": {
         "data": {
          "bar": [
           {
            "error_x": {
             "color": "#2a3f5f"
            },
            "error_y": {
             "color": "#2a3f5f"
            },
            "marker": {
             "line": {
              "color": "#E5ECF6",
              "width": 0.5
             }
            },
            "type": "bar"
           }
          ],
          "barpolar": [
           {
            "marker": {
             "line": {
              "color": "#E5ECF6",
              "width": 0.5
             }
            },
            "type": "barpolar"
           }
          ],
          "carpet": [
           {
            "aaxis": {
             "endlinecolor": "#2a3f5f",
             "gridcolor": "white",
             "linecolor": "white",
             "minorgridcolor": "white",
             "startlinecolor": "#2a3f5f"
            },
            "baxis": {
             "endlinecolor": "#2a3f5f",
             "gridcolor": "white",
             "linecolor": "white",
             "minorgridcolor": "white",
             "startlinecolor": "#2a3f5f"
            },
            "type": "carpet"
           }
          ],
          "choropleth": [
           {
            "colorbar": {
             "outlinewidth": 0,
             "ticks": ""
            },
            "type": "choropleth"
           }
          ],
          "contour": [
           {
            "colorbar": {
             "outlinewidth": 0,
             "ticks": ""
            },
            "colorscale": [
             [
              0,
              "#0d0887"
             ],
             [
              0.1111111111111111,
              "#46039f"
             ],
             [
              0.2222222222222222,
              "#7201a8"
             ],
             [
              0.3333333333333333,
              "#9c179e"
             ],
             [
              0.4444444444444444,
              "#bd3786"
             ],
             [
              0.5555555555555556,
              "#d8576b"
             ],
             [
              0.6666666666666666,
              "#ed7953"
             ],
             [
              0.7777777777777778,
              "#fb9f3a"
             ],
             [
              0.8888888888888888,
              "#fdca26"
             ],
             [
              1,
              "#f0f921"
             ]
            ],
            "type": "contour"
           }
          ],
          "contourcarpet": [
           {
            "colorbar": {
             "outlinewidth": 0,
             "ticks": ""
            },
            "type": "contourcarpet"
           }
          ],
          "heatmap": [
           {
            "colorbar": {
             "outlinewidth": 0,
             "ticks": ""
            },
            "colorscale": [
             [
              0,
              "#0d0887"
             ],
             [
              0.1111111111111111,
              "#46039f"
             ],
             [
              0.2222222222222222,
              "#7201a8"
             ],
             [
              0.3333333333333333,
              "#9c179e"
             ],
             [
              0.4444444444444444,
              "#bd3786"
             ],
             [
              0.5555555555555556,
              "#d8576b"
             ],
             [
              0.6666666666666666,
              "#ed7953"
             ],
             [
              0.7777777777777778,
              "#fb9f3a"
             ],
             [
              0.8888888888888888,
              "#fdca26"
             ],
             [
              1,
              "#f0f921"
             ]
            ],
            "type": "heatmap"
           }
          ],
          "heatmapgl": [
           {
            "colorbar": {
             "outlinewidth": 0,
             "ticks": ""
            },
            "colorscale": [
             [
              0,
              "#0d0887"
             ],
             [
              0.1111111111111111,
              "#46039f"
             ],
             [
              0.2222222222222222,
              "#7201a8"
             ],
             [
              0.3333333333333333,
              "#9c179e"
             ],
             [
              0.4444444444444444,
              "#bd3786"
             ],
             [
              0.5555555555555556,
              "#d8576b"
             ],
             [
              0.6666666666666666,
              "#ed7953"
             ],
             [
              0.7777777777777778,
              "#fb9f3a"
             ],
             [
              0.8888888888888888,
              "#fdca26"
             ],
             [
              1,
              "#f0f921"
             ]
            ],
            "type": "heatmapgl"
           }
          ],
          "histogram": [
           {
            "marker": {
             "colorbar": {
              "outlinewidth": 0,
              "ticks": ""
             }
            },
            "type": "histogram"
           }
          ],
          "histogram2d": [
           {
            "colorbar": {
             "outlinewidth": 0,
             "ticks": ""
            },
            "colorscale": [
             [
              0,
              "#0d0887"
             ],
             [
              0.1111111111111111,
              "#46039f"
             ],
             [
              0.2222222222222222,
              "#7201a8"
             ],
             [
              0.3333333333333333,
              "#9c179e"
             ],
             [
              0.4444444444444444,
              "#bd3786"
             ],
             [
              0.5555555555555556,
              "#d8576b"
             ],
             [
              0.6666666666666666,
              "#ed7953"
             ],
             [
              0.7777777777777778,
              "#fb9f3a"
             ],
             [
              0.8888888888888888,
              "#fdca26"
             ],
             [
              1,
              "#f0f921"
             ]
            ],
            "type": "histogram2d"
           }
          ],
          "histogram2dcontour": [
           {
            "colorbar": {
             "outlinewidth": 0,
             "ticks": ""
            },
            "colorscale": [
             [
              0,
              "#0d0887"
             ],
             [
              0.1111111111111111,
              "#46039f"
             ],
             [
              0.2222222222222222,
              "#7201a8"
             ],
             [
              0.3333333333333333,
              "#9c179e"
             ],
             [
              0.4444444444444444,
              "#bd3786"
             ],
             [
              0.5555555555555556,
              "#d8576b"
             ],
             [
              0.6666666666666666,
              "#ed7953"
             ],
             [
              0.7777777777777778,
              "#fb9f3a"
             ],
             [
              0.8888888888888888,
              "#fdca26"
             ],
             [
              1,
              "#f0f921"
             ]
            ],
            "type": "histogram2dcontour"
           }
          ],
          "mesh3d": [
           {
            "colorbar": {
             "outlinewidth": 0,
             "ticks": ""
            },
            "type": "mesh3d"
           }
          ],
          "parcoords": [
           {
            "line": {
             "colorbar": {
              "outlinewidth": 0,
              "ticks": ""
             }
            },
            "type": "parcoords"
           }
          ],
          "scatter": [
           {
            "marker": {
             "colorbar": {
              "outlinewidth": 0,
              "ticks": ""
             }
            },
            "type": "scatter"
           }
          ],
          "scatter3d": [
           {
            "line": {
             "colorbar": {
              "outlinewidth": 0,
              "ticks": ""
             }
            },
            "marker": {
             "colorbar": {
              "outlinewidth": 0,
              "ticks": ""
             }
            },
            "type": "scatter3d"
           }
          ],
          "scattercarpet": [
           {
            "marker": {
             "colorbar": {
              "outlinewidth": 0,
              "ticks": ""
             }
            },
            "type": "scattercarpet"
           }
          ],
          "scattergeo": [
           {
            "marker": {
             "colorbar": {
              "outlinewidth": 0,
              "ticks": ""
             }
            },
            "type": "scattergeo"
           }
          ],
          "scattergl": [
           {
            "marker": {
             "colorbar": {
              "outlinewidth": 0,
              "ticks": ""
             }
            },
            "type": "scattergl"
           }
          ],
          "scattermapbox": [
           {
            "marker": {
             "colorbar": {
              "outlinewidth": 0,
              "ticks": ""
             }
            },
            "type": "scattermapbox"
           }
          ],
          "scatterpolar": [
           {
            "marker": {
             "colorbar": {
              "outlinewidth": 0,
              "ticks": ""
             }
            },
            "type": "scatterpolar"
           }
          ],
          "scatterpolargl": [
           {
            "marker": {
             "colorbar": {
              "outlinewidth": 0,
              "ticks": ""
             }
            },
            "type": "scatterpolargl"
           }
          ],
          "scatterternary": [
           {
            "marker": {
             "colorbar": {
              "outlinewidth": 0,
              "ticks": ""
             }
            },
            "type": "scatterternary"
           }
          ],
          "surface": [
           {
            "colorbar": {
             "outlinewidth": 0,
             "ticks": ""
            },
            "colorscale": [
             [
              0,
              "#0d0887"
             ],
             [
              0.1111111111111111,
              "#46039f"
             ],
             [
              0.2222222222222222,
              "#7201a8"
             ],
             [
              0.3333333333333333,
              "#9c179e"
             ],
             [
              0.4444444444444444,
              "#bd3786"
             ],
             [
              0.5555555555555556,
              "#d8576b"
             ],
             [
              0.6666666666666666,
              "#ed7953"
             ],
             [
              0.7777777777777778,
              "#fb9f3a"
             ],
             [
              0.8888888888888888,
              "#fdca26"
             ],
             [
              1,
              "#f0f921"
             ]
            ],
            "type": "surface"
           }
          ],
          "table": [
           {
            "cells": {
             "fill": {
              "color": "#EBF0F8"
             },
             "line": {
              "color": "white"
             }
            },
            "header": {
             "fill": {
              "color": "#C8D4E3"
             },
             "line": {
              "color": "white"
             }
            },
            "type": "table"
           }
          ]
         },
         "layout": {
          "annotationdefaults": {
           "arrowcolor": "#2a3f5f",
           "arrowhead": 0,
           "arrowwidth": 1
          },
          "colorscale": {
           "diverging": [
            [
             0,
             "#8e0152"
            ],
            [
             0.1,
             "#c51b7d"
            ],
            [
             0.2,
             "#de77ae"
            ],
            [
             0.3,
             "#f1b6da"
            ],
            [
             0.4,
             "#fde0ef"
            ],
            [
             0.5,
             "#f7f7f7"
            ],
            [
             0.6,
             "#e6f5d0"
            ],
            [
             0.7,
             "#b8e186"
            ],
            [
             0.8,
             "#7fbc41"
            ],
            [
             0.9,
             "#4d9221"
            ],
            [
             1,
             "#276419"
            ]
           ],
           "sequential": [
            [
             0,
             "#0d0887"
            ],
            [
             0.1111111111111111,
             "#46039f"
            ],
            [
             0.2222222222222222,
             "#7201a8"
            ],
            [
             0.3333333333333333,
             "#9c179e"
            ],
            [
             0.4444444444444444,
             "#bd3786"
            ],
            [
             0.5555555555555556,
             "#d8576b"
            ],
            [
             0.6666666666666666,
             "#ed7953"
            ],
            [
             0.7777777777777778,
             "#fb9f3a"
            ],
            [
             0.8888888888888888,
             "#fdca26"
            ],
            [
             1,
             "#f0f921"
            ]
           ],
           "sequentialminus": [
            [
             0,
             "#0d0887"
            ],
            [
             0.1111111111111111,
             "#46039f"
            ],
            [
             0.2222222222222222,
             "#7201a8"
            ],
            [
             0.3333333333333333,
             "#9c179e"
            ],
            [
             0.4444444444444444,
             "#bd3786"
            ],
            [
             0.5555555555555556,
             "#d8576b"
            ],
            [
             0.6666666666666666,
             "#ed7953"
            ],
            [
             0.7777777777777778,
             "#fb9f3a"
            ],
            [
             0.8888888888888888,
             "#fdca26"
            ],
            [
             1,
             "#f0f921"
            ]
           ]
          },
          "colorway": [
           "#636efa",
           "#EF553B",
           "#00cc96",
           "#ab63fa",
           "#FFA15A",
           "#19d3f3",
           "#FF6692",
           "#B6E880",
           "#FF97FF",
           "#FECB52"
          ],
          "font": {
           "color": "#2a3f5f"
          },
          "geo": {
           "bgcolor": "white",
           "lakecolor": "white",
           "landcolor": "#E5ECF6",
           "showlakes": true,
           "showland": true,
           "subunitcolor": "white"
          },
          "hoverlabel": {
           "align": "left"
          },
          "hovermode": "closest",
          "mapbox": {
           "style": "light"
          },
          "paper_bgcolor": "white",
          "plot_bgcolor": "#E5ECF6",
          "polar": {
           "angularaxis": {
            "gridcolor": "white",
            "linecolor": "white",
            "ticks": ""
           },
           "bgcolor": "#E5ECF6",
           "radialaxis": {
            "gridcolor": "white",
            "linecolor": "white",
            "ticks": ""
           }
          },
          "scene": {
           "xaxis": {
            "backgroundcolor": "#E5ECF6",
            "gridcolor": "white",
            "gridwidth": 2,
            "linecolor": "white",
            "showbackground": true,
            "ticks": "",
            "zerolinecolor": "white"
           },
           "yaxis": {
            "backgroundcolor": "#E5ECF6",
            "gridcolor": "white",
            "gridwidth": 2,
            "linecolor": "white",
            "showbackground": true,
            "ticks": "",
            "zerolinecolor": "white"
           },
           "zaxis": {
            "backgroundcolor": "#E5ECF6",
            "gridcolor": "white",
            "gridwidth": 2,
            "linecolor": "white",
            "showbackground": true,
            "ticks": "",
            "zerolinecolor": "white"
           }
          },
          "shapedefaults": {
           "line": {
            "color": "#2a3f5f"
           }
          },
          "ternary": {
           "aaxis": {
            "gridcolor": "white",
            "linecolor": "white",
            "ticks": ""
           },
           "baxis": {
            "gridcolor": "white",
            "linecolor": "white",
            "ticks": ""
           },
           "bgcolor": "#E5ECF6",
           "caxis": {
            "gridcolor": "white",
            "linecolor": "white",
            "ticks": ""
           }
          },
          "title": {
           "x": 0.05
          },
          "xaxis": {
           "automargin": true,
           "gridcolor": "white",
           "linecolor": "white",
           "ticks": "",
           "zerolinecolor": "white",
           "zerolinewidth": 2
          },
          "yaxis": {
           "automargin": true,
           "gridcolor": "white",
           "linecolor": "white",
           "ticks": "",
           "zerolinecolor": "white",
           "zerolinewidth": 2
          }
         }
        }
       }
      },
      "text/html": [
       "<div>\n",
       "        \n",
       "        \n",
       "            <div id=\"bb0dd79b-fd2f-498c-a623-99eedcb78873\" class=\"plotly-graph-div\" style=\"height:525px; width:100%;\"></div>\n",
       "            <script type=\"text/javascript\">\n",
       "                require([\"plotly\"], function(Plotly) {\n",
       "                    window.PLOTLYENV=window.PLOTLYENV || {};\n",
       "                    \n",
       "                if (document.getElementById(\"bb0dd79b-fd2f-498c-a623-99eedcb78873\")) {\n",
       "                    Plotly.newPlot(\n",
       "                        'bb0dd79b-fd2f-498c-a623-99eedcb78873',\n",
       "                        [{\"hoverinfo\": \"text\", \"lat\": [34.22166944, 29.66677778, 40.50971111, 33.37581944, 32.76876111, 29.39640278, 30.25319167, 41.76470556, 42.4344, 35.10223333, 39.79406389, 40.08672222, 32.692575, 30.20333611, 35.43343889, 35.16348333, 32.57280278, 38.29148611, 35.18964167, 39.13117778, 36.19533056, 43.11936944, 32.24336111, 37.34078056, 33.70064167, 39.99359167, 31.916, 38.666625, 27.96526944, 39.69668333, 25.76673056, 30.07921111, 41.44653889, 30.45923889, 35.38129722, 45.56044444, 33.53705833, 36.75452778, 39.31343889, 33.39871944, 38.01124167, 37.66431111, 41.25238611, 28.52930278, 37.77797778, 27.80399722, 38.86272778, 40.95069167, 26.13675278, 32.70333889, 40.69154167, 41.04913889, 30.65674444, 47.668675, 39.17974444, 33.58191944, 33.84916389, 33.54819722, 32.31215, 32.70146667, 40.75570833, 36.15505833, 33.73450833, 26.29599167, 35.04691944, 34.03630556, 29.16746667, 33.25153333, 41.67703056, 32.472275, 21.30059444, 39.52036389, 35.08336667, 39.09722222, 28.04955556, 32.83707222, 34.06640556, 26.08353056, 36.87898889, 34.40931667, 26.00765833, 26.72461111, 30.29438333, 29.80329167, 41.60123333, 41.58523889, 35.59088056, 36.21764444, 30.05869444, 40.70209167, 32.79222222, 39.08211389, 43.03665, 39.73843333, 32.548125, 37.54775556, 44.96565833, 33.61783611, 44.91694444, 40.475575, null], \"lon\": [-118.41388056, -95.552475, -74.24750278, -112.16845278, -96.82274722, -98.47957778, -81.69919167, -87.68326389, -83.00689722, -89.94719167, -86.27858611, -75.03973611, -97.24191667, -97.63936667, -97.50789722, -80.9556, -117.04049444, -85.65069444, -106.68408056, -94.5421, -86.77556944, -88.03254444, -110.86668889, -121.81991111, -84.34955556, -83.1183, -106.5827, -90.21289167, -82.44003056, -105.025, -80.21446944, -89.92018056, -81.602925, -91.16618889, -118.98801667, -122.578525, -86.88800833, -119.74886944, -76.56875, -111.84005278, -84.51666944, -97.345475, -95.97380556, -81.47523056, -122.40939722, -97.4686, -104.77562222, -72.94225, -80.14420278, -79.96594167, -73.53266944, -85.16554167, -88.14786667, -122.38801667, -84.455325, -112.15350556, -117.92418611, -101.85515556, -90.17334167, -97.121075, -73.21283333, -80.17779444, -117.89820278, -80.09446667, -85.23503889, -81.00366667, -81.04703056, -81.95598611, -83.57249167, -84.95475278, -157.84619444, -119.84498333, -79.014225, -94.62356944, -81.957325, -96.9227, -117.80765, -80.20335, -76.30201944, -117.30946944, -80.14892778, -80.05919444, -91.99811667, -94.98997778, -87.32107222, -73.04238333, -82.57163889, -115.17943889, -94.13618333, -73.32903333, -96.65833889, -85.84137222, -83.66790278, -105.08127778, -94.727875, -121.98645833, -93.08425, -84.45688889, -122.99313889, -86.11568056, null], \"marker\": {\"autocolorscale\": true, \"color\": \"#13F1FC\", \"opacity\": 0.5, \"reversescale\": true, \"size\": 8, \"symbol\": \"circle\"}, \"mode\": \"markers\", \"text\": [\"Los Angeles, California - 788.0 Accidents\", \"Houston, Texas - 668.0 Accidents\", \"New York City, New York - 652.0 Accidents\", \"Phoenix, Arizona - 623.0 Accidents\", \"Dallas, Texas - 512.0 Accidents\", \"San Antonio, Texas - 471.0 Accidents\", \"Jacksonville, Florida - 398.0 Accidents\", \"Chicago, Illinois - 364.0 Accidents\", \"Detroit, Michigan - 321.0 Accidents\", \"Memphis, Tennessee - 307.0 Accidents\", \"Indianapolis, Indiana - 272.0 Accidents\", \"Philadelphia, Pennsylvania - 268.0 Accidents\", \"Fort Worth, Texas - 262.0 Accidents\", \"Austin, Texas - 258.0 Accidents\", \"Oklahoma City, Oklahoma - 257.0 Accidents\", \"Charlotte, North Carolina - 249.0 Accidents\", \"San Diego, California - 248.0 Accidents\", \"Louisville, Kentucky - 247.0 Accidents\", \"Albuquerque, New Mexico - 218.0 Accidents\", null, \"Nashville, Tennessee - 194.0 Accidents\", \"Milwaukee, Wisconsin - 175.0 Accidents\", \"Tucson, Arizona - 173.0 Accidents\", \"San Jose, California - 171.0 Accidents\", \"Atlanta, Georgia - 168.0 Accidents\", \"Columbus, Ohio - 161.0 Accidents\", \"El Paso, Texas - 160.0 Accidents\", \"Saint Louis, Missouri - 155.0 Accidents\", \"Tampa, Florida - 151.0 Accidents\", \"Denver, Colorado - 148.0 Accidents\", \"Miami, Florida - 146.0 Accidents\", \"New Orleans, Louisiana - 139.0 Accidents\", \"Cleveland, Ohio - 134.0 Accidents\", \"Baton Rouge, Louisiana - 126.0 Accidents\", \"Bakersfield, California - 125.0 Accidents\", \"Portland, Oregon - 121.0 Accidents\", \"Birmingham, Alabama - 119.0 Accidents\", \"Fresno, California - 115.0 Accidents\", \"Baltimore, Maryland - 113.0 Accidents\", \"Mesa, Arizona - 107.0 Accidents\", \"Lexington-Fayette, Kentucky - 106.0 Accidents\", \"Wichita, Kansas - 103.0 Accidents\", \"Omaha, Nebraska - 102.0 Accidents\", \"Orlando, Florida - 99.0 Accidents\", \"San Francisco, California - 97.0 Accidents\", \"Corpus Christi, Texas - 92.0 Accidents\", \"Colorado Springs, Colorado - 91.0 Accidents\", \"Brookhaven, New York - 90.0 Accidents\", \"Fort Lauderdale, Florida - 88.0 Accidents\", \"Charleston, South Carolina - 87.0 Accidents\", \"Hempstead, New York - 84.0 Accidents\", \"Fort Wayne, Indiana - 82.0 Accidents\", \"Mobile, Alabama - 81.0 Accidents\", \"Seattle, Washington - 79.0 Accidents\", \"Cincinnati, Ohio - 78.0 Accidents\", \"Glendale, Arizona - 77.0 Accidents\", \"Anaheim, California - 76.0 Accidents\", \"Lubbock, Texas - 75.0 Accidents\", \"Jackson, Mississippi - 74.0 Accidents\", \"Arlington, Texas - 73.0 Accidents\", \"Islip, New York - 72.0 Accidents\", \"Winston Salem, North Carolina - 71.0 Accidents\", \"Santa Ana, California - 70.0 Accidents\", \"Pompano Beach, Florida - 69.0 Accidents\", \"Chattanooga, Tennessee - 67.0 Accidents\", \"Columbia, South Carolina - 66.0 Accidents\", \"Daytona Beach, Florida - 65.0 Accidents\", \"Augusta, Georgia - 64.0 Accidents\", \"Toledo, Ohio - 63.0 Accidents\", \"Columbus, Georgia - 62.0 Accidents\", \"Honolulu, Hawaii - 60.0 Accidents\", \"Reno, Nevada - 59.0 Accidents\", \"Fayetteville, North Carolina - 58.0 Accidents\", \"Kansas City, Kansas - 57.0 Accidents\", \"Lakeland, Florida - 56.0 Accidents\", \"Irving, Texas - 55.0 Accidents\", \"Pomona, California - 54.0 Accidents\", \"Davie, Florida - 52.0 Accidents\", \"Norfolk, Virginia - 51.0 Accidents\", \"Hesperia, California - 50.0 Accidents\", \"Hollywood, Florida - 49.0 Accidents\", \"West Palm Beach, Florida - 48.0 Accidents\", \"Lafayette, Louisiana - 47.0 Accidents\", \"Baytown, Texas - 46.0 Accidents\", \"Gary, Indiana - 45.0 Accidents\", \"Waterbury, Connecticut - 44.0 Accidents\", \"Asheville, North Carolina - 43.0 Accidents\", \"North Las Vegas, Nevada - 42.0 Accidents\", \"Beaumont, Texas - 41.0 Accidents\", \"Babylon, New York - 40.0 Accidents\", \"Mesquite, Texas - 39.0 Accidents\", \"Columbus, Indiana - 38.0 Accidents\", \"Flint, Michigan - 37.0 Accidents\", \"Lakewood, Colorado - 36.0 Accidents\", \"Longview, Texas - 35.0 Accidents\", \"Fremont, California - 34.0 Accidents\", \"Saint Paul, Minnesota - 33.0 Accidents\", \"College Park, Georgia - 32.0 Accidents\", \"Salem, Oregon - 31.0 Accidents\", \"Kokomo, Indiana - 30.0 Accidents\", null], \"type\": \"scattergeo\"}],\n",
       "                        {\"geo\": {\"scope\": \"usa\"}, \"template\": {\"data\": {\"bar\": [{\"error_x\": {\"color\": \"#2a3f5f\"}, \"error_y\": {\"color\": \"#2a3f5f\"}, \"marker\": {\"line\": {\"color\": \"#E5ECF6\", \"width\": 0.5}}, \"type\": \"bar\"}], \"barpolar\": [{\"marker\": {\"line\": {\"color\": \"#E5ECF6\", \"width\": 0.5}}, \"type\": \"barpolar\"}], \"carpet\": [{\"aaxis\": {\"endlinecolor\": \"#2a3f5f\", \"gridcolor\": \"white\", \"linecolor\": \"white\", \"minorgridcolor\": \"white\", \"startlinecolor\": \"#2a3f5f\"}, \"baxis\": {\"endlinecolor\": \"#2a3f5f\", \"gridcolor\": \"white\", \"linecolor\": \"white\", \"minorgridcolor\": \"white\", \"startlinecolor\": \"#2a3f5f\"}, \"type\": \"carpet\"}], \"choropleth\": [{\"colorbar\": {\"outlinewidth\": 0, \"ticks\": \"\"}, \"type\": \"choropleth\"}], \"contour\": [{\"colorbar\": {\"outlinewidth\": 0, \"ticks\": \"\"}, \"colorscale\": [[0.0, \"#0d0887\"], [0.1111111111111111, \"#46039f\"], [0.2222222222222222, \"#7201a8\"], [0.3333333333333333, \"#9c179e\"], [0.4444444444444444, \"#bd3786\"], [0.5555555555555556, \"#d8576b\"], [0.6666666666666666, \"#ed7953\"], [0.7777777777777778, \"#fb9f3a\"], [0.8888888888888888, \"#fdca26\"], [1.0, \"#f0f921\"]], \"type\": \"contour\"}], \"contourcarpet\": [{\"colorbar\": {\"outlinewidth\": 0, \"ticks\": \"\"}, \"type\": \"contourcarpet\"}], \"heatmap\": [{\"colorbar\": {\"outlinewidth\": 0, \"ticks\": \"\"}, \"colorscale\": [[0.0, \"#0d0887\"], [0.1111111111111111, \"#46039f\"], [0.2222222222222222, \"#7201a8\"], [0.3333333333333333, \"#9c179e\"], [0.4444444444444444, \"#bd3786\"], [0.5555555555555556, \"#d8576b\"], [0.6666666666666666, \"#ed7953\"], [0.7777777777777778, \"#fb9f3a\"], [0.8888888888888888, \"#fdca26\"], [1.0, \"#f0f921\"]], \"type\": \"heatmap\"}], \"heatmapgl\": [{\"colorbar\": {\"outlinewidth\": 0, \"ticks\": \"\"}, \"colorscale\": [[0.0, \"#0d0887\"], [0.1111111111111111, \"#46039f\"], [0.2222222222222222, \"#7201a8\"], [0.3333333333333333, \"#9c179e\"], [0.4444444444444444, \"#bd3786\"], [0.5555555555555556, \"#d8576b\"], [0.6666666666666666, \"#ed7953\"], [0.7777777777777778, \"#fb9f3a\"], [0.8888888888888888, \"#fdca26\"], [1.0, \"#f0f921\"]], \"type\": \"heatmapgl\"}], \"histogram\": [{\"marker\": {\"colorbar\": {\"outlinewidth\": 0, \"ticks\": \"\"}}, \"type\": \"histogram\"}], \"histogram2d\": [{\"colorbar\": {\"outlinewidth\": 0, \"ticks\": \"\"}, \"colorscale\": [[0.0, \"#0d0887\"], [0.1111111111111111, \"#46039f\"], [0.2222222222222222, \"#7201a8\"], [0.3333333333333333, \"#9c179e\"], [0.4444444444444444, \"#bd3786\"], [0.5555555555555556, \"#d8576b\"], [0.6666666666666666, \"#ed7953\"], [0.7777777777777778, \"#fb9f3a\"], [0.8888888888888888, \"#fdca26\"], [1.0, \"#f0f921\"]], \"type\": \"histogram2d\"}], \"histogram2dcontour\": [{\"colorbar\": {\"outlinewidth\": 0, \"ticks\": \"\"}, \"colorscale\": [[0.0, \"#0d0887\"], [0.1111111111111111, \"#46039f\"], [0.2222222222222222, \"#7201a8\"], [0.3333333333333333, \"#9c179e\"], [0.4444444444444444, \"#bd3786\"], [0.5555555555555556, \"#d8576b\"], [0.6666666666666666, \"#ed7953\"], [0.7777777777777778, \"#fb9f3a\"], [0.8888888888888888, \"#fdca26\"], [1.0, \"#f0f921\"]], \"type\": \"histogram2dcontour\"}], \"mesh3d\": [{\"colorbar\": {\"outlinewidth\": 0, \"ticks\": \"\"}, \"type\": \"mesh3d\"}], \"parcoords\": [{\"line\": {\"colorbar\": {\"outlinewidth\": 0, \"ticks\": \"\"}}, \"type\": \"parcoords\"}], \"scatter\": [{\"marker\": {\"colorbar\": {\"outlinewidth\": 0, \"ticks\": \"\"}}, \"type\": \"scatter\"}], \"scatter3d\": [{\"line\": {\"colorbar\": {\"outlinewidth\": 0, \"ticks\": \"\"}}, \"marker\": {\"colorbar\": {\"outlinewidth\": 0, \"ticks\": \"\"}}, \"type\": \"scatter3d\"}], \"scattercarpet\": [{\"marker\": {\"colorbar\": {\"outlinewidth\": 0, \"ticks\": \"\"}}, \"type\": \"scattercarpet\"}], \"scattergeo\": [{\"marker\": {\"colorbar\": {\"outlinewidth\": 0, \"ticks\": \"\"}}, \"type\": \"scattergeo\"}], \"scattergl\": [{\"marker\": {\"colorbar\": {\"outlinewidth\": 0, \"ticks\": \"\"}}, \"type\": \"scattergl\"}], \"scattermapbox\": [{\"marker\": {\"colorbar\": {\"outlinewidth\": 0, \"ticks\": \"\"}}, \"type\": \"scattermapbox\"}], \"scatterpolar\": [{\"marker\": {\"colorbar\": {\"outlinewidth\": 0, \"ticks\": \"\"}}, \"type\": \"scatterpolar\"}], \"scatterpolargl\": [{\"marker\": {\"colorbar\": {\"outlinewidth\": 0, \"ticks\": \"\"}}, \"type\": \"scatterpolargl\"}], \"scatterternary\": [{\"marker\": {\"colorbar\": {\"outlinewidth\": 0, \"ticks\": \"\"}}, \"type\": \"scatterternary\"}], \"surface\": [{\"colorbar\": {\"outlinewidth\": 0, \"ticks\": \"\"}, \"colorscale\": [[0.0, \"#0d0887\"], [0.1111111111111111, \"#46039f\"], [0.2222222222222222, \"#7201a8\"], [0.3333333333333333, \"#9c179e\"], [0.4444444444444444, \"#bd3786\"], [0.5555555555555556, \"#d8576b\"], [0.6666666666666666, \"#ed7953\"], [0.7777777777777778, \"#fb9f3a\"], [0.8888888888888888, \"#fdca26\"], [1.0, \"#f0f921\"]], \"type\": \"surface\"}], \"table\": [{\"cells\": {\"fill\": {\"color\": \"#EBF0F8\"}, \"line\": {\"color\": \"white\"}}, \"header\": {\"fill\": {\"color\": \"#C8D4E3\"}, \"line\": {\"color\": \"white\"}}, \"type\": \"table\"}]}, \"layout\": {\"annotationdefaults\": {\"arrowcolor\": \"#2a3f5f\", \"arrowhead\": 0, \"arrowwidth\": 1}, \"colorscale\": {\"diverging\": [[0, \"#8e0152\"], [0.1, \"#c51b7d\"], [0.2, \"#de77ae\"], [0.3, \"#f1b6da\"], [0.4, \"#fde0ef\"], [0.5, \"#f7f7f7\"], [0.6, \"#e6f5d0\"], [0.7, \"#b8e186\"], [0.8, \"#7fbc41\"], [0.9, \"#4d9221\"], [1, \"#276419\"]], \"sequential\": [[0.0, \"#0d0887\"], [0.1111111111111111, \"#46039f\"], [0.2222222222222222, \"#7201a8\"], [0.3333333333333333, \"#9c179e\"], [0.4444444444444444, \"#bd3786\"], [0.5555555555555556, \"#d8576b\"], [0.6666666666666666, \"#ed7953\"], [0.7777777777777778, \"#fb9f3a\"], [0.8888888888888888, \"#fdca26\"], [1.0, \"#f0f921\"]], \"sequentialminus\": [[0.0, \"#0d0887\"], [0.1111111111111111, \"#46039f\"], [0.2222222222222222, \"#7201a8\"], [0.3333333333333333, \"#9c179e\"], [0.4444444444444444, \"#bd3786\"], [0.5555555555555556, \"#d8576b\"], [0.6666666666666666, \"#ed7953\"], [0.7777777777777778, \"#fb9f3a\"], [0.8888888888888888, \"#fdca26\"], [1.0, \"#f0f921\"]]}, \"colorway\": [\"#636efa\", \"#EF553B\", \"#00cc96\", \"#ab63fa\", \"#FFA15A\", \"#19d3f3\", \"#FF6692\", \"#B6E880\", \"#FF97FF\", \"#FECB52\"], \"font\": {\"color\": \"#2a3f5f\"}, \"geo\": {\"bgcolor\": \"white\", \"lakecolor\": \"white\", \"landcolor\": \"#E5ECF6\", \"showlakes\": true, \"showland\": true, \"subunitcolor\": \"white\"}, \"hoverlabel\": {\"align\": \"left\"}, \"hovermode\": \"closest\", \"mapbox\": {\"style\": \"light\"}, \"paper_bgcolor\": \"white\", \"plot_bgcolor\": \"#E5ECF6\", \"polar\": {\"angularaxis\": {\"gridcolor\": \"white\", \"linecolor\": \"white\", \"ticks\": \"\"}, \"bgcolor\": \"#E5ECF6\", \"radialaxis\": {\"gridcolor\": \"white\", \"linecolor\": \"white\", \"ticks\": \"\"}}, \"scene\": {\"xaxis\": {\"backgroundcolor\": \"#E5ECF6\", \"gridcolor\": \"white\", \"gridwidth\": 2, \"linecolor\": \"white\", \"showbackground\": true, \"ticks\": \"\", \"zerolinecolor\": \"white\"}, \"yaxis\": {\"backgroundcolor\": \"#E5ECF6\", \"gridcolor\": \"white\", \"gridwidth\": 2, \"linecolor\": \"white\", \"showbackground\": true, \"ticks\": \"\", \"zerolinecolor\": \"white\"}, \"zaxis\": {\"backgroundcolor\": \"#E5ECF6\", \"gridcolor\": \"white\", \"gridwidth\": 2, \"linecolor\": \"white\", \"showbackground\": true, \"ticks\": \"\", \"zerolinecolor\": \"white\"}}, \"shapedefaults\": {\"line\": {\"color\": \"#2a3f5f\"}}, \"ternary\": {\"aaxis\": {\"gridcolor\": \"white\", \"linecolor\": \"white\", \"ticks\": \"\"}, \"baxis\": {\"gridcolor\": \"white\", \"linecolor\": \"white\", \"ticks\": \"\"}, \"bgcolor\": \"#E5ECF6\", \"caxis\": {\"gridcolor\": \"white\", \"linecolor\": \"white\", \"ticks\": \"\"}}, \"title\": {\"x\": 0.05}, \"xaxis\": {\"automargin\": true, \"gridcolor\": \"white\", \"linecolor\": \"white\", \"ticks\": \"\", \"zerolinecolor\": \"white\", \"zerolinewidth\": 2}, \"yaxis\": {\"automargin\": true, \"gridcolor\": \"white\", \"linecolor\": \"white\", \"ticks\": \"\", \"zerolinecolor\": \"white\", \"zerolinewidth\": 2}}}},\n",
       "                        {\"responsive\": true}\n",
       "                    ).then(function(){\n",
       "                            \n",
       "var gd = document.getElementById('bb0dd79b-fd2f-498c-a623-99eedcb78873');\n",
       "var x = new MutationObserver(function (mutations, observer) {{\n",
       "        var display = window.getComputedStyle(gd).display;\n",
       "        if (!display || display === 'none') {{\n",
       "            console.log([gd, 'removed!']);\n",
       "            Plotly.purge(gd);\n",
       "            observer.disconnect();\n",
       "        }}\n",
       "}});\n",
       "\n",
       "// Listen for the removal of the full notebook cells\n",
       "var notebookContainer = gd.closest('#notebook-container');\n",
       "if (notebookContainer) {{\n",
       "    x.observe(notebookContainer, {childList: true});\n",
       "}}\n",
       "\n",
       "// Listen for the clearing of the current output cell\n",
       "var outputEl = gd.closest('.output');\n",
       "if (outputEl) {{\n",
       "    x.observe(outputEl, {childList: true});\n",
       "}}\n",
       "\n",
       "                        })\n",
       "                };\n",
       "                });\n",
       "            </script>\n",
       "        </div>"
      ]
     },
     "metadata": {},
     "output_type": "display_data"
    }
   ],
   "source": [
    "# create Plotly Scattergeo plot for top 100 accident cities from 2015 - 2017\n",
    "fig = go.Figure(data=go.Scattergeo(\n",
    "        lon = top_100['LONGITUD'],\n",
    "        lat = top_100['LATITUDE'],\n",
    "        text = top_100['DESC'],\n",
    "        mode = 'markers',\n",
    "        marker = dict(\n",
    "            size = 8,\n",
    "            opacity = 0.5,\n",
    "            reversescale = True,\n",
    "            autocolorscale = True,\n",
    "            symbol = 'circle'),\n",
    "        marker_color = '#13F1FC',\n",
    "        hoverinfo = 'text',\n",
    "        ))\n",
    "\n",
    "fig.update_layout(\n",
    "        geo_scope='usa',\n",
    "    )\n",
    "fig.show()"
   ]
  },
  {
   "cell_type": "code",
   "execution_count": null,
   "metadata": {},
   "outputs": [],
   "source": []
  }
 ],
 "metadata": {
  "kernelspec": {
   "display_name": "Python 3",
   "language": "python",
   "name": "python3"
  },
  "language_info": {
   "codemirror_mode": {
    "name": "ipython",
    "version": 3
   },
   "file_extension": ".py",
   "mimetype": "text/x-python",
   "name": "python",
   "nbconvert_exporter": "python",
   "pygments_lexer": "ipython3",
   "version": "3.7.3"
  }
 },
 "nbformat": 4,
 "nbformat_minor": 2
}
