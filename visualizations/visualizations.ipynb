{
 "cells": [
  {
   "cell_type": "code",
   "execution_count": 136,
   "metadata": {},
   "outputs": [],
   "source": [
    "# import pandas to read in CSV files\n",
    "import pandas as pd\n",
    "\n",
    "# import matplotlib + seaborn for exploratory data analysis\n",
    "import plotly.graph_objects as go"
   ]
  },
  {
   "cell_type": "code",
   "execution_count": 137,
   "metadata": {},
   "outputs": [],
   "source": [
    "# read in accident data CSVs for 2015 - 2017\n",
    "acc15 = pd.read_csv('/Users/ianforrest/Desktop/coding/repos/DS_Safe-Routes/modeling/accident15.csv')\n",
    "acc16 = pd.read_csv('/Users/ianforrest/Desktop/coding/repos/DS_Safe-Routes/modeling/accident16.csv')\n",
    "acc17 = pd.read_csv('/Users/ianforrest/Desktop/coding/repos/DS_Safe-Routes/modeling/accident17.csv')"
   ]
  },
  {
   "cell_type": "code",
   "execution_count": 138,
   "metadata": {},
   "outputs": [],
   "source": [
    "# combine acc15, acc16, acc17 into one dataframe\n",
    "acc = acc15.append(acc16, sort=False, ignore_index = True)\n",
    "acc = acc.append(acc17, sort=False, ignore_index = True)"
   ]
  },
  {
   "cell_type": "code",
   "execution_count": 139,
   "metadata": {},
   "outputs": [
    {
     "data": {
      "text/plain": [
       "(101533, 52)"
      ]
     },
     "execution_count": 139,
     "metadata": {},
     "output_type": "execute_result"
    }
   ],
   "source": [
    "acc.shape"
   ]
  },
  {
   "cell_type": "code",
   "execution_count": 140,
   "metadata": {},
   "outputs": [
    {
     "data": {
      "text/plain": [
       "Index(['STATE', 'ST_CASE', 'VE_TOTAL', 'VE_FORMS', 'PVH_INVL', 'PEDS',\n",
       "       'PERNOTMVIT', 'PERMVIT', 'PERSONS', 'COUNTY', 'CITY', 'DAY', 'MONTH',\n",
       "       'YEAR', 'DAY_WEEK', 'HOUR', 'MINUTE', 'NHS', 'RUR_URB', 'FUNC_SYS',\n",
       "       'RD_OWNER', 'ROUTE', 'TWAY_ID', 'TWAY_ID2', 'MILEPT', 'LATITUDE',\n",
       "       'LONGITUD', 'SP_JUR', 'HARM_EV', 'MAN_COLL', 'RELJCT1', 'RELJCT2',\n",
       "       'TYP_INT', 'WRK_ZONE', 'REL_ROAD', 'LGT_COND', 'WEATHER1', 'WEATHER2',\n",
       "       'WEATHER', 'SCH_BUS', 'RAIL', 'NOT_HOUR', 'NOT_MIN', 'ARR_HOUR',\n",
       "       'ARR_MIN', 'HOSP_HR', 'HOSP_MN', 'CF1', 'CF2', 'CF3', 'FATALS',\n",
       "       'DRUNK_DR'],\n",
       "      dtype='object')"
      ]
     },
     "execution_count": 140,
     "metadata": {},
     "output_type": "execute_result"
    }
   ],
   "source": [
    "# display columns of combined acc dataframe\n",
    "acc.columns"
   ]
  },
  {
   "cell_type": "code",
   "execution_count": 141,
   "metadata": {},
   "outputs": [
    {
     "data": {
      "text/html": [
       "<div>\n",
       "<style scoped>\n",
       "    .dataframe tbody tr th:only-of-type {\n",
       "        vertical-align: middle;\n",
       "    }\n",
       "\n",
       "    .dataframe tbody tr th {\n",
       "        vertical-align: top;\n",
       "    }\n",
       "\n",
       "    .dataframe thead th {\n",
       "        text-align: right;\n",
       "    }\n",
       "</style>\n",
       "<table border=\"1\" class=\"dataframe\">\n",
       "  <thead>\n",
       "    <tr style=\"text-align: right;\">\n",
       "      <th></th>\n",
       "      <th>COUNT</th>\n",
       "      <th>CITY</th>\n",
       "      <th>STATE</th>\n",
       "      <th>LATITUDE</th>\n",
       "      <th>LONGITUD</th>\n",
       "    </tr>\n",
       "  </thead>\n",
       "  <tbody>\n",
       "    <tr>\n",
       "      <th>0</th>\n",
       "      <td>788</td>\n",
       "      <td>1980</td>\n",
       "      <td>6</td>\n",
       "      <td>34.015314</td>\n",
       "      <td>-118.265264</td>\n",
       "    </tr>\n",
       "    <tr>\n",
       "      <th>1</th>\n",
       "      <td>668</td>\n",
       "      <td>3280</td>\n",
       "      <td>48</td>\n",
       "      <td>29.734194</td>\n",
       "      <td>-95.371586</td>\n",
       "    </tr>\n",
       "    <tr>\n",
       "      <th>2</th>\n",
       "      <td>636</td>\n",
       "      <td>4170</td>\n",
       "      <td>36</td>\n",
       "      <td>40.750486</td>\n",
       "      <td>-73.943861</td>\n",
       "    </tr>\n",
       "    <tr>\n",
       "      <th>3</th>\n",
       "      <td>564</td>\n",
       "      <td>370</td>\n",
       "      <td>4</td>\n",
       "      <td>33.553122</td>\n",
       "      <td>-112.108306</td>\n",
       "    </tr>\n",
       "    <tr>\n",
       "      <th>4</th>\n",
       "      <td>511</td>\n",
       "      <td>1730</td>\n",
       "      <td>48</td>\n",
       "      <td>32.864175</td>\n",
       "      <td>-96.684061</td>\n",
       "    </tr>\n",
       "  </tbody>\n",
       "</table>\n",
       "</div>"
      ],
      "text/plain": [
       "   COUNT  CITY  STATE   LATITUDE    LONGITUD\n",
       "0    788  1980      6  34.015314 -118.265264\n",
       "1    668  3280     48  29.734194  -95.371586\n",
       "2    636  4170     36  40.750486  -73.943861\n",
       "3    564   370      4  33.553122 -112.108306\n",
       "4    511  1730     48  32.864175  -96.684061"
      ]
     },
     "execution_count": 141,
     "metadata": {},
     "output_type": "execute_result"
    }
   ],
   "source": [
    "# create city/state/latitude/longitude dataframe\n",
    "acc_city_state = acc[['CITY', 'STATE', 'LATITUDE', 'LONGITUD']]\n",
    "\n",
    "# remove unknown cities\n",
    "acc_city_state = acc_city_state[acc_city_state['CITY'] > 0]\n",
    "acc_city_state = acc_city_state[acc_city_state['CITY'] < 9997]\n",
    "\n",
    "# remove unknown latitude/longitude\n",
    "acc_city_state = acc_city_state[acc_city_state['LATITUDE'] < 700]\n",
    "acc_city_state = acc_city_state[acc_city_state['LONGITUD'] < 700]\n",
    "\n",
    "# add 'COUNT' column to dataframe, counts number of CITY/STATE combinations\n",
    "acc_city_state['COUNT'] = acc_city_state.groupby(['CITY', 'STATE'])['STATE'].transform('count')\n",
    "acc_city_state = acc_city_state.sort_values(by=['COUNT'], ascending=False)\n",
    "acc_city_state = acc_city_state.groupby('COUNT').first().sort_values(by=['COUNT'], ascending=False)\n",
    "acc_city_state = acc_city_state.reset_index()\n",
    "top_100 = acc_city_state.head(100)\n",
    "top_100.head()"
   ]
  },
  {
   "cell_type": "code",
   "execution_count": 142,
   "metadata": {},
   "outputs": [
    {
     "data": {
      "text/html": [
       "<div>\n",
       "<style scoped>\n",
       "    .dataframe tbody tr th:only-of-type {\n",
       "        vertical-align: middle;\n",
       "    }\n",
       "\n",
       "    .dataframe tbody tr th {\n",
       "        vertical-align: top;\n",
       "    }\n",
       "\n",
       "    .dataframe thead th {\n",
       "        text-align: right;\n",
       "    }\n",
       "</style>\n",
       "<table border=\"1\" class=\"dataframe\">\n",
       "  <thead>\n",
       "    <tr style=\"text-align: right;\">\n",
       "      <th></th>\n",
       "      <th>ST_NAME</th>\n",
       "      <th>STATE</th>\n",
       "      <th>CITY</th>\n",
       "      <th>CT_NAME</th>\n",
       "    </tr>\n",
       "  </thead>\n",
       "  <tbody>\n",
       "    <tr>\n",
       "      <th>0</th>\n",
       "      <td>ALABAMA</td>\n",
       "      <td>1</td>\n",
       "      <td>220</td>\n",
       "      <td>AUTAUGAVILLE</td>\n",
       "    </tr>\n",
       "    <tr>\n",
       "      <th>1</th>\n",
       "      <td>ALABAMA</td>\n",
       "      <td>1</td>\n",
       "      <td>340</td>\n",
       "      <td>BILLINGSLEY</td>\n",
       "    </tr>\n",
       "    <tr>\n",
       "      <th>2</th>\n",
       "      <td>ALABAMA</td>\n",
       "      <td>1</td>\n",
       "      <td>425</td>\n",
       "      <td>BOOTH</td>\n",
       "    </tr>\n",
       "    <tr>\n",
       "      <th>3</th>\n",
       "      <td>ALABAMA</td>\n",
       "      <td>1</td>\n",
       "      <td>1796</td>\n",
       "      <td>JONES</td>\n",
       "    </tr>\n",
       "    <tr>\n",
       "      <th>4</th>\n",
       "      <td>ALABAMA</td>\n",
       "      <td>1</td>\n",
       "      <td>2002</td>\n",
       "      <td>MARBURY</td>\n",
       "    </tr>\n",
       "  </tbody>\n",
       "</table>\n",
       "</div>"
      ],
      "text/plain": [
       "   ST_NAME  STATE  CITY       CT_NAME\n",
       "0  ALABAMA      1   220  AUTAUGAVILLE\n",
       "1  ALABAMA      1   340   BILLINGSLEY\n",
       "2  ALABAMA      1   425         BOOTH\n",
       "3  ALABAMA      1  1796         JONES\n",
       "4  ALABAMA      1  2002       MARBURY"
      ]
     },
     "execution_count": 142,
     "metadata": {},
     "output_type": "execute_result"
    }
   ],
   "source": [
    "# City/State dictionary to interpret city/state geocodes\n",
    "df = pd.read_csv('/Users/ianforrest/Desktop/coding/repos/DS_Safe-Routes/visualizations/FRPP GLC United States (1).xlsx - GeoLocation_UnitedStates.csv')\n",
    "df.columns = ['ST_NAME', 'STATE', 'CITY', 'CT_NAME']\n",
    "df.head()"
   ]
  },
  {
   "cell_type": "code",
   "execution_count": 143,
   "metadata": {},
   "outputs": [],
   "source": [
    "# limit dataframe to top 100 cities with most crashes\n",
    "top_100 = top_100.merge(df, how='left').drop_duplicates(['CITY', 'STATE'])\n",
    "\n",
    "# format text of city/state columns\n",
    "top_100['ST_NAME'] = top_100['ST_NAME'].str.title()\n",
    "top_100['CT_NAME'] = top_100['CT_NAME'].str.title()\n",
    "\n",
    "# combine city name, state name, and number of accidents into 'DESC' column\n",
    "top_100['DESC'] = top_100['CT_NAME'] + ', ' + top_100['ST_NAME'] + ' - ' + top_100['COUNT'].map(str) + ' Accidents'"
   ]
  },
  {
   "cell_type": "code",
   "execution_count": 144,
   "metadata": {},
   "outputs": [
    {
     "data": {
      "text/html": [
       "<div>\n",
       "<style scoped>\n",
       "    .dataframe tbody tr th:only-of-type {\n",
       "        vertical-align: middle;\n",
       "    }\n",
       "\n",
       "    .dataframe tbody tr th {\n",
       "        vertical-align: top;\n",
       "    }\n",
       "\n",
       "    .dataframe thead th {\n",
       "        text-align: right;\n",
       "    }\n",
       "</style>\n",
       "<table border=\"1\" class=\"dataframe\">\n",
       "  <thead>\n",
       "    <tr style=\"text-align: right;\">\n",
       "      <th></th>\n",
       "      <th>COUNT</th>\n",
       "      <th>CITY</th>\n",
       "      <th>STATE</th>\n",
       "      <th>LATITUDE</th>\n",
       "      <th>LONGITUD</th>\n",
       "      <th>ST_NAME</th>\n",
       "      <th>CT_NAME</th>\n",
       "      <th>DESC</th>\n",
       "    </tr>\n",
       "  </thead>\n",
       "  <tbody>\n",
       "    <tr>\n",
       "      <th>0</th>\n",
       "      <td>788</td>\n",
       "      <td>1980</td>\n",
       "      <td>6</td>\n",
       "      <td>34.015314</td>\n",
       "      <td>-118.265264</td>\n",
       "      <td>California</td>\n",
       "      <td>Los Angeles</td>\n",
       "      <td>Los Angeles, California - 788 Accidents</td>\n",
       "    </tr>\n",
       "    <tr>\n",
       "      <th>1</th>\n",
       "      <td>668</td>\n",
       "      <td>3280</td>\n",
       "      <td>48</td>\n",
       "      <td>29.734194</td>\n",
       "      <td>-95.371586</td>\n",
       "      <td>Texas</td>\n",
       "      <td>Houston</td>\n",
       "      <td>Houston, Texas - 668 Accidents</td>\n",
       "    </tr>\n",
       "    <tr>\n",
       "      <th>4</th>\n",
       "      <td>636</td>\n",
       "      <td>4170</td>\n",
       "      <td>36</td>\n",
       "      <td>40.750486</td>\n",
       "      <td>-73.943861</td>\n",
       "      <td>New York</td>\n",
       "      <td>New York City</td>\n",
       "      <td>New York City, New York - 636 Accidents</td>\n",
       "    </tr>\n",
       "    <tr>\n",
       "      <th>9</th>\n",
       "      <td>564</td>\n",
       "      <td>370</td>\n",
       "      <td>4</td>\n",
       "      <td>33.553122</td>\n",
       "      <td>-112.108306</td>\n",
       "      <td>Arizona</td>\n",
       "      <td>Phoenix</td>\n",
       "      <td>Phoenix, Arizona - 564 Accidents</td>\n",
       "    </tr>\n",
       "    <tr>\n",
       "      <th>10</th>\n",
       "      <td>511</td>\n",
       "      <td>1730</td>\n",
       "      <td>48</td>\n",
       "      <td>32.864175</td>\n",
       "      <td>-96.684061</td>\n",
       "      <td>Texas</td>\n",
       "      <td>Dallas</td>\n",
       "      <td>Dallas, Texas - 511 Accidents</td>\n",
       "    </tr>\n",
       "  </tbody>\n",
       "</table>\n",
       "</div>"
      ],
      "text/plain": [
       "    COUNT  CITY  STATE   LATITUDE    LONGITUD     ST_NAME        CT_NAME  \\\n",
       "0     788  1980      6  34.015314 -118.265264  California    Los Angeles   \n",
       "1     668  3280     48  29.734194  -95.371586       Texas        Houston   \n",
       "4     636  4170     36  40.750486  -73.943861    New York  New York City   \n",
       "9     564   370      4  33.553122 -112.108306     Arizona        Phoenix   \n",
       "10    511  1730     48  32.864175  -96.684061       Texas         Dallas   \n",
       "\n",
       "                                       DESC  \n",
       "0   Los Angeles, California - 788 Accidents  \n",
       "1            Houston, Texas - 668 Accidents  \n",
       "4   New York City, New York - 636 Accidents  \n",
       "9          Phoenix, Arizona - 564 Accidents  \n",
       "10            Dallas, Texas - 511 Accidents  "
      ]
     },
     "execution_count": 144,
     "metadata": {},
     "output_type": "execute_result"
    }
   ],
   "source": [
    "# check 'DESC' column added successfully\n",
    "top_100.head()"
   ]
  },
  {
   "cell_type": "code",
   "execution_count": 161,
   "metadata": {},
   "outputs": [
    {
     "data": {
      "application/vnd.plotly.v1+json": {
       "config": {
        "plotlyServerURL": "https://plot.ly"
       },
       "data": [
        {
         "hoverinfo": "text",
         "lat": [
          34.01531389,
          29.73419444,
          40.75048611,
          33.55312222,
          32.864175,
          29.43452222,
          30.29063889,
          41.73310833,
          42.408325,
          35.08036389,
          39.73770556,
          40.02170833,
          32.77201111,
          30.18383611,
          35.49330833,
          32.742,
          38.1923,
          35.33556111,
          35.16858611,
          39.10682778,
          36.11491944,
          43.08636667,
          32.17780556,
          37.26000278,
          33.764575,
          39.96555278,
          31.84010556,
          38.55932778,
          36.15206389,
          39.66699722,
          25.77908056,
          36.144275,
          29.98129722,
          41.46510833,
          30.45733333,
          35.32841111,
          45.5465,
          33.52978056,
          36.7938,
          39.30615278,
          33.38875556,
          38.04134722,
          37.69324167,
          41.28356667,
          28.66920278,
          37.70955833,
          27.55044722,
          38.92994444,
          33.77194722,
          26.15983611,
          35.83315833,
          32.79128333,
          34.121325,
          30.72563333,
          47.70033889,
          39.13758333,
          32.84526111,
          33.85583056,
          33.56327778,
          31.99908611,
          32.78298889,
          36.08119444,
          40.75616389,
          26.26080556,
          35.01456944,
          25.89796944,
          32.30571667,
          33.29063333,
          41.65237778,
          32.57226944,
          34.70412778,
          26.59270278,
          39.50591667,
          37.20107778,
          28.07368056,
          32.86980556,
          36.79555556,
          25.956225,
          47.19157222,
          34.456225,
          26.04767778,
          33.50223889,
          38.01346389,
          29.71431389,
          40.70395278,
          41.55814444,
          27.96061389,
          41.06877222,
          30.06765,
          33.32066944,
          32.81086944,
          32.95124722,
          27.26481111,
          39.70045556,
          32.59481944,
          33.18322222,
          36.01800833,
          41.3166,
          33.55215556,
          32.38286667
         ],
         "lon": [
          -118.26526389,
          -95.37158611,
          -73.94386111,
          -112.10830556,
          -96.68406111,
          -98.47810556,
          -81.62983889,
          -87.62420833,
          -83.21651389,
          -89.92898889,
          -86.13596944,
          -75.11262222,
          -97.36228056,
          -97.85013333,
          -97.58786111,
          -117.11239722,
          -85.71282222,
          -80.84265278,
          -106.58480833,
          -94.56869444,
          -86.69388056,
          -87.97180556,
          -110.98915278,
          -121.80948611,
          -84.39616111,
          -82.98338333,
          -106.51333611,
          -121.45376667,
          -115.1518,
          -104.91297778,
          -80.25265,
          -95.904575,
          -90.04638056,
          -81.74777778,
          -91.0138,
          -119.07434722,
          -122.68274444,
          -86.82596667,
          -119.82057222,
          -76.57453333,
          -111.69393611,
          -84.63160278,
          -97.35285,
          -95.99365833,
          -81.43740833,
          -122.45052778,
          -97.23675833,
          -104.79375,
          -118.20405278,
          -80.11667778,
          -78.67511389,
          -80.03949167,
          -117.26585278,
          -88.16881944,
          -122.364775,
          -84.54838611,
          -83.66956111,
          -117.71727778,
          -101.94824444,
          -81.12658611,
          -97.09555833,
          -80.22044444,
          -73.24488889,
          -80.11680556,
          -85.27421111,
          -80.33361944,
          -86.40632222,
          -81.95902778,
          -83.51716667,
          -84.82481944,
          -118.18373056,
          -81.86815,
          -119.85866111,
          -93.27610833,
          -81.91701667,
          -96.97108889,
          -76.38555556,
          -80.22646667,
          -122.46221389,
          -117.30636389,
          -80.17635556,
          -111.91119167,
          -87.52648056,
          -94.98051667,
          -111.93375278,
          -73.04868889,
          -82.72316667,
          -81.52437222,
          -94.17111944,
          -111.81836667,
          -96.65287778,
          -80.04253889,
          -80.39751667,
          -105.10998333,
          -117.08119722,
          -87.52592222,
          -115.09130278,
          -72.93302222,
          -112.23203333,
          -95.326775
         ],
         "marker": {
          "autocolorscale": false,
          "color": [
           6,
           48,
           36,
           4,
           48,
           48,
           12,
           17,
           26,
           47,
           18,
           42,
           48,
           48,
           40,
           6,
           21,
           37,
           35,
           29,
           47,
           55,
           4,
           6,
           13,
           39,
           48,
           6,
           32,
           8,
           12,
           40,
           22,
           39,
           22,
           6,
           41,
           1,
           6,
           24,
           4,
           21,
           20,
           31,
           12,
           6,
           48,
           8,
           6,
           12,
           37,
           45,
           6,
           1,
           53,
           39,
           13,
           6,
           48,
           13,
           48,
           37,
           36,
           12,
           47,
           12,
           1,
           13,
           39,
           13,
           6,
           12,
           32,
           29,
           12,
           48,
           51,
           12,
           53,
           6,
           12,
           4,
           18,
           48,
           49,
           9,
           12,
           39,
           48,
           4,
           48,
           45,
           12,
           8,
           6,
           1,
           32,
           9,
           4,
           48
          ],
          "opacity": 0.8,
          "reversescale": true,
          "size": 8,
          "symbol": "circle"
         },
         "mode": "markers",
         "text": [
          "Los Angeles, California - 788 Accidents",
          "Houston, Texas - 668 Accidents",
          "New York City, New York - 636 Accidents",
          "Phoenix, Arizona - 564 Accidents",
          "Dallas, Texas - 511 Accidents",
          "San Antonio, Texas - 471 Accidents",
          "Jacksonville, Florida - 398 Accidents",
          "Chicago, Illinois - 364 Accidents",
          "Detroit, Michigan - 321 Accidents",
          "Memphis, Tennessee - 307 Accidents",
          "Indianapolis, Indiana - 271 Accidents",
          "Philadelphia, Pennsylvania - 268 Accidents",
          "Fort Worth, Texas - 262 Accidents",
          "Austin, Texas - 258 Accidents",
          "Oklahoma City, Oklahoma - 257 Accidents",
          "San Diego, California - 248 Accidents",
          "Louisville, Kentucky - 247 Accidents",
          "Charlotte, North Carolina - 245 Accidents",
          "Albuquerque, New Mexico - 218 Accidents",
          null,
          "Nashville, Tennessee - 194 Accidents",
          "Milwaukee, Wisconsin - 175 Accidents",
          "Tucson, Arizona - 172 Accidents",
          "San Jose, California - 171 Accidents",
          "Atlanta, Georgia - 166 Accidents",
          "Columbus, Ohio - 161 Accidents",
          "El Paso, Texas - 160 Accidents",
          "Sacramento, California - 155 Accidents",
          "Las Vegas, Nevada - 151 Accidents",
          "Denver, Colorado - 148 Accidents",
          "Miami, Florida - 146 Accidents",
          "Tulsa, Oklahoma - 139 Accidents",
          "New Orleans, Louisiana - 138 Accidents",
          "Cleveland, Ohio - 134 Accidents",
          "Baton Rouge, Louisiana - 126 Accidents",
          "Bakersfield, California - 125 Accidents",
          "Portland, Oregon - 121 Accidents",
          "Birmingham, Alabama - 118 Accidents",
          "Fresno, California - 115 Accidents",
          "Baltimore, Maryland - 113 Accidents",
          "Mesa, Arizona - 107 Accidents",
          "Lexington-Fayette, Kentucky - 106 Accidents",
          "Wichita, Kansas - 103 Accidents",
          "Omaha, Nebraska - 102 Accidents",
          "Orlando, Florida - 99 Accidents",
          "San Francisco, California - 97 Accidents",
          "Corpus Christi, Texas - 92 Accidents",
          "Colorado Springs, Colorado - 91 Accidents",
          "Long Beach, California - 90 Accidents",
          "Fort Lauderdale, Florida - 88 Accidents",
          "Raleigh, North Carolina - 87 Accidents",
          "Charleston, South Carolina - 86 Accidents",
          "San Bernardino, California - 82 Accidents",
          "Mobile, Alabama - 81 Accidents",
          "Seattle, Washington - 79 Accidents",
          "Cincinnati, Ohio - 78 Accidents",
          "Macon, Georgia - 77 Accidents",
          "Anaheim, California - 76 Accidents",
          "Lubbock, Texas - 75 Accidents",
          "Savannah, Georgia - 74 Accidents",
          "Arlington, Texas - 73 Accidents",
          "Winston Salem, North Carolina - 71 Accidents",
          "Islip, New York - 70 Accidents",
          "Pompano Beach, Florida - 69 Accidents",
          "Chattanooga, Tennessee - 67 Accidents",
          "Hialeah, Florida - 66 Accidents",
          "Montgomery, Alabama - 65 Accidents",
          "Augusta, Georgia - 64 Accidents",
          "Toledo, Ohio - 63 Accidents",
          "Columbus, Georgia - 61 Accidents",
          "Lancaster, California - 60 Accidents",
          "Fort Myers, Florida - 59 Accidents",
          "Reno, Nevada - 58 Accidents",
          "Springfield, Missouri - 57 Accidents",
          "Lakeland, Florida - 56 Accidents",
          "Irving, Texas - 55 Accidents",
          "Chesapeake, Virginia - 54 Accidents",
          "Miami Gardens, Florida - 52 Accidents",
          "Tacoma, Washington - 51 Accidents",
          "Hesperia, California - 50 Accidents",
          "Hollywood, Florida - 49 Accidents",
          "Scottsdale, Arizona - 48 Accidents",
          "Evansville, Indiana - 47 Accidents",
          "Baytown, Texas - 46 Accidents",
          "West Valley City, Utah - 45 Accidents",
          "Waterbury, Connecticut - 44 Accidents",
          "Clearwater, Florida - 43 Accidents",
          "Akron, Ohio - 42 Accidents",
          "Beaumont, Texas - 41 Accidents",
          "Chandler, Arizona - 40 Accidents",
          "Mesquite, Texas - 39 Accidents",
          "North Charleston, South Carolina - 38 Accidents",
          "Port Saint Lucie, Florida - 37 Accidents",
          "Lakewood, Colorado - 36 Accidents",
          "Chula Vista, California - 35 Accidents",
          "Tuscaloosa, Alabama - 34 Accidents",
          "Henderson, Nevada - 33 Accidents",
          "New Haven, Connecticut - 32 Accidents",
          "Peoria, Arizona - 31 Accidents",
          "Tyler, Texas - 30 Accidents"
         ],
         "type": "scattergeo"
        }
       ],
       "layout": {
        "geo": {
         "scope": "usa"
        },
        "template": {
         "data": {
          "bar": [
           {
            "error_x": {
             "color": "#2a3f5f"
            },
            "error_y": {
             "color": "#2a3f5f"
            },
            "marker": {
             "line": {
              "color": "#E5ECF6",
              "width": 0.5
             }
            },
            "type": "bar"
           }
          ],
          "barpolar": [
           {
            "marker": {
             "line": {
              "color": "#E5ECF6",
              "width": 0.5
             }
            },
            "type": "barpolar"
           }
          ],
          "carpet": [
           {
            "aaxis": {
             "endlinecolor": "#2a3f5f",
             "gridcolor": "white",
             "linecolor": "white",
             "minorgridcolor": "white",
             "startlinecolor": "#2a3f5f"
            },
            "baxis": {
             "endlinecolor": "#2a3f5f",
             "gridcolor": "white",
             "linecolor": "white",
             "minorgridcolor": "white",
             "startlinecolor": "#2a3f5f"
            },
            "type": "carpet"
           }
          ],
          "choropleth": [
           {
            "colorbar": {
             "outlinewidth": 0,
             "ticks": ""
            },
            "type": "choropleth"
           }
          ],
          "contour": [
           {
            "colorbar": {
             "outlinewidth": 0,
             "ticks": ""
            },
            "colorscale": [
             [
              0,
              "#0d0887"
             ],
             [
              0.1111111111111111,
              "#46039f"
             ],
             [
              0.2222222222222222,
              "#7201a8"
             ],
             [
              0.3333333333333333,
              "#9c179e"
             ],
             [
              0.4444444444444444,
              "#bd3786"
             ],
             [
              0.5555555555555556,
              "#d8576b"
             ],
             [
              0.6666666666666666,
              "#ed7953"
             ],
             [
              0.7777777777777778,
              "#fb9f3a"
             ],
             [
              0.8888888888888888,
              "#fdca26"
             ],
             [
              1,
              "#f0f921"
             ]
            ],
            "type": "contour"
           }
          ],
          "contourcarpet": [
           {
            "colorbar": {
             "outlinewidth": 0,
             "ticks": ""
            },
            "type": "contourcarpet"
           }
          ],
          "heatmap": [
           {
            "colorbar": {
             "outlinewidth": 0,
             "ticks": ""
            },
            "colorscale": [
             [
              0,
              "#0d0887"
             ],
             [
              0.1111111111111111,
              "#46039f"
             ],
             [
              0.2222222222222222,
              "#7201a8"
             ],
             [
              0.3333333333333333,
              "#9c179e"
             ],
             [
              0.4444444444444444,
              "#bd3786"
             ],
             [
              0.5555555555555556,
              "#d8576b"
             ],
             [
              0.6666666666666666,
              "#ed7953"
             ],
             [
              0.7777777777777778,
              "#fb9f3a"
             ],
             [
              0.8888888888888888,
              "#fdca26"
             ],
             [
              1,
              "#f0f921"
             ]
            ],
            "type": "heatmap"
           }
          ],
          "heatmapgl": [
           {
            "colorbar": {
             "outlinewidth": 0,
             "ticks": ""
            },
            "colorscale": [
             [
              0,
              "#0d0887"
             ],
             [
              0.1111111111111111,
              "#46039f"
             ],
             [
              0.2222222222222222,
              "#7201a8"
             ],
             [
              0.3333333333333333,
              "#9c179e"
             ],
             [
              0.4444444444444444,
              "#bd3786"
             ],
             [
              0.5555555555555556,
              "#d8576b"
             ],
             [
              0.6666666666666666,
              "#ed7953"
             ],
             [
              0.7777777777777778,
              "#fb9f3a"
             ],
             [
              0.8888888888888888,
              "#fdca26"
             ],
             [
              1,
              "#f0f921"
             ]
            ],
            "type": "heatmapgl"
           }
          ],
          "histogram": [
           {
            "marker": {
             "colorbar": {
              "outlinewidth": 0,
              "ticks": ""
             }
            },
            "type": "histogram"
           }
          ],
          "histogram2d": [
           {
            "colorbar": {
             "outlinewidth": 0,
             "ticks": ""
            },
            "colorscale": [
             [
              0,
              "#0d0887"
             ],
             [
              0.1111111111111111,
              "#46039f"
             ],
             [
              0.2222222222222222,
              "#7201a8"
             ],
             [
              0.3333333333333333,
              "#9c179e"
             ],
             [
              0.4444444444444444,
              "#bd3786"
             ],
             [
              0.5555555555555556,
              "#d8576b"
             ],
             [
              0.6666666666666666,
              "#ed7953"
             ],
             [
              0.7777777777777778,
              "#fb9f3a"
             ],
             [
              0.8888888888888888,
              "#fdca26"
             ],
             [
              1,
              "#f0f921"
             ]
            ],
            "type": "histogram2d"
           }
          ],
          "histogram2dcontour": [
           {
            "colorbar": {
             "outlinewidth": 0,
             "ticks": ""
            },
            "colorscale": [
             [
              0,
              "#0d0887"
             ],
             [
              0.1111111111111111,
              "#46039f"
             ],
             [
              0.2222222222222222,
              "#7201a8"
             ],
             [
              0.3333333333333333,
              "#9c179e"
             ],
             [
              0.4444444444444444,
              "#bd3786"
             ],
             [
              0.5555555555555556,
              "#d8576b"
             ],
             [
              0.6666666666666666,
              "#ed7953"
             ],
             [
              0.7777777777777778,
              "#fb9f3a"
             ],
             [
              0.8888888888888888,
              "#fdca26"
             ],
             [
              1,
              "#f0f921"
             ]
            ],
            "type": "histogram2dcontour"
           }
          ],
          "mesh3d": [
           {
            "colorbar": {
             "outlinewidth": 0,
             "ticks": ""
            },
            "type": "mesh3d"
           }
          ],
          "parcoords": [
           {
            "line": {
             "colorbar": {
              "outlinewidth": 0,
              "ticks": ""
             }
            },
            "type": "parcoords"
           }
          ],
          "scatter": [
           {
            "marker": {
             "colorbar": {
              "outlinewidth": 0,
              "ticks": ""
             }
            },
            "type": "scatter"
           }
          ],
          "scatter3d": [
           {
            "line": {
             "colorbar": {
              "outlinewidth": 0,
              "ticks": ""
             }
            },
            "marker": {
             "colorbar": {
              "outlinewidth": 0,
              "ticks": ""
             }
            },
            "type": "scatter3d"
           }
          ],
          "scattercarpet": [
           {
            "marker": {
             "colorbar": {
              "outlinewidth": 0,
              "ticks": ""
             }
            },
            "type": "scattercarpet"
           }
          ],
          "scattergeo": [
           {
            "marker": {
             "colorbar": {
              "outlinewidth": 0,
              "ticks": ""
             }
            },
            "type": "scattergeo"
           }
          ],
          "scattergl": [
           {
            "marker": {
             "colorbar": {
              "outlinewidth": 0,
              "ticks": ""
             }
            },
            "type": "scattergl"
           }
          ],
          "scattermapbox": [
           {
            "marker": {
             "colorbar": {
              "outlinewidth": 0,
              "ticks": ""
             }
            },
            "type": "scattermapbox"
           }
          ],
          "scatterpolar": [
           {
            "marker": {
             "colorbar": {
              "outlinewidth": 0,
              "ticks": ""
             }
            },
            "type": "scatterpolar"
           }
          ],
          "scatterpolargl": [
           {
            "marker": {
             "colorbar": {
              "outlinewidth": 0,
              "ticks": ""
             }
            },
            "type": "scatterpolargl"
           }
          ],
          "scatterternary": [
           {
            "marker": {
             "colorbar": {
              "outlinewidth": 0,
              "ticks": ""
             }
            },
            "type": "scatterternary"
           }
          ],
          "surface": [
           {
            "colorbar": {
             "outlinewidth": 0,
             "ticks": ""
            },
            "colorscale": [
             [
              0,
              "#0d0887"
             ],
             [
              0.1111111111111111,
              "#46039f"
             ],
             [
              0.2222222222222222,
              "#7201a8"
             ],
             [
              0.3333333333333333,
              "#9c179e"
             ],
             [
              0.4444444444444444,
              "#bd3786"
             ],
             [
              0.5555555555555556,
              "#d8576b"
             ],
             [
              0.6666666666666666,
              "#ed7953"
             ],
             [
              0.7777777777777778,
              "#fb9f3a"
             ],
             [
              0.8888888888888888,
              "#fdca26"
             ],
             [
              1,
              "#f0f921"
             ]
            ],
            "type": "surface"
           }
          ],
          "table": [
           {
            "cells": {
             "fill": {
              "color": "#EBF0F8"
             },
             "line": {
              "color": "white"
             }
            },
            "header": {
             "fill": {
              "color": "#C8D4E3"
             },
             "line": {
              "color": "white"
             }
            },
            "type": "table"
           }
          ]
         },
         "layout": {
          "annotationdefaults": {
           "arrowcolor": "#2a3f5f",
           "arrowhead": 0,
           "arrowwidth": 1
          },
          "colorscale": {
           "diverging": [
            [
             0,
             "#8e0152"
            ],
            [
             0.1,
             "#c51b7d"
            ],
            [
             0.2,
             "#de77ae"
            ],
            [
             0.3,
             "#f1b6da"
            ],
            [
             0.4,
             "#fde0ef"
            ],
            [
             0.5,
             "#f7f7f7"
            ],
            [
             0.6,
             "#e6f5d0"
            ],
            [
             0.7,
             "#b8e186"
            ],
            [
             0.8,
             "#7fbc41"
            ],
            [
             0.9,
             "#4d9221"
            ],
            [
             1,
             "#276419"
            ]
           ],
           "sequential": [
            [
             0,
             "#0d0887"
            ],
            [
             0.1111111111111111,
             "#46039f"
            ],
            [
             0.2222222222222222,
             "#7201a8"
            ],
            [
             0.3333333333333333,
             "#9c179e"
            ],
            [
             0.4444444444444444,
             "#bd3786"
            ],
            [
             0.5555555555555556,
             "#d8576b"
            ],
            [
             0.6666666666666666,
             "#ed7953"
            ],
            [
             0.7777777777777778,
             "#fb9f3a"
            ],
            [
             0.8888888888888888,
             "#fdca26"
            ],
            [
             1,
             "#f0f921"
            ]
           ],
           "sequentialminus": [
            [
             0,
             "#0d0887"
            ],
            [
             0.1111111111111111,
             "#46039f"
            ],
            [
             0.2222222222222222,
             "#7201a8"
            ],
            [
             0.3333333333333333,
             "#9c179e"
            ],
            [
             0.4444444444444444,
             "#bd3786"
            ],
            [
             0.5555555555555556,
             "#d8576b"
            ],
            [
             0.6666666666666666,
             "#ed7953"
            ],
            [
             0.7777777777777778,
             "#fb9f3a"
            ],
            [
             0.8888888888888888,
             "#fdca26"
            ],
            [
             1,
             "#f0f921"
            ]
           ]
          },
          "colorway": [
           "#636efa",
           "#EF553B",
           "#00cc96",
           "#ab63fa",
           "#FFA15A",
           "#19d3f3",
           "#FF6692",
           "#B6E880",
           "#FF97FF",
           "#FECB52"
          ],
          "font": {
           "color": "#2a3f5f"
          },
          "geo": {
           "bgcolor": "white",
           "lakecolor": "white",
           "landcolor": "#E5ECF6",
           "showlakes": true,
           "showland": true,
           "subunitcolor": "white"
          },
          "hoverlabel": {
           "align": "left"
          },
          "hovermode": "closest",
          "mapbox": {
           "style": "light"
          },
          "paper_bgcolor": "white",
          "plot_bgcolor": "#E5ECF6",
          "polar": {
           "angularaxis": {
            "gridcolor": "white",
            "linecolor": "white",
            "ticks": ""
           },
           "bgcolor": "#E5ECF6",
           "radialaxis": {
            "gridcolor": "white",
            "linecolor": "white",
            "ticks": ""
           }
          },
          "scene": {
           "xaxis": {
            "backgroundcolor": "#E5ECF6",
            "gridcolor": "white",
            "gridwidth": 2,
            "linecolor": "white",
            "showbackground": true,
            "ticks": "",
            "zerolinecolor": "white"
           },
           "yaxis": {
            "backgroundcolor": "#E5ECF6",
            "gridcolor": "white",
            "gridwidth": 2,
            "linecolor": "white",
            "showbackground": true,
            "ticks": "",
            "zerolinecolor": "white"
           },
           "zaxis": {
            "backgroundcolor": "#E5ECF6",
            "gridcolor": "white",
            "gridwidth": 2,
            "linecolor": "white",
            "showbackground": true,
            "ticks": "",
            "zerolinecolor": "white"
           }
          },
          "shapedefaults": {
           "line": {
            "color": "#2a3f5f"
           }
          },
          "ternary": {
           "aaxis": {
            "gridcolor": "white",
            "linecolor": "white",
            "ticks": ""
           },
           "baxis": {
            "gridcolor": "white",
            "linecolor": "white",
            "ticks": ""
           },
           "bgcolor": "#E5ECF6",
           "caxis": {
            "gridcolor": "white",
            "linecolor": "white",
            "ticks": ""
           }
          },
          "title": {
           "x": 0.05
          },
          "xaxis": {
           "automargin": true,
           "gridcolor": "white",
           "linecolor": "white",
           "ticks": "",
           "zerolinecolor": "white",
           "zerolinewidth": 2
          },
          "yaxis": {
           "automargin": true,
           "gridcolor": "white",
           "linecolor": "white",
           "ticks": "",
           "zerolinecolor": "white",
           "zerolinewidth": 2
          }
         }
        },
        "title": {
         "text": "Top 100 US Accident Cities From 2015 - 2017"
        }
       }
      },
      "text/html": [
       "<div>\n",
       "        \n",
       "        \n",
       "            <div id=\"78f9b103-5131-48e9-9f0f-172f21d76d44\" class=\"plotly-graph-div\" style=\"height:525px; width:100%;\"></div>\n",
       "            <script type=\"text/javascript\">\n",
       "                require([\"plotly\"], function(Plotly) {\n",
       "                    window.PLOTLYENV=window.PLOTLYENV || {};\n",
       "                    \n",
       "                if (document.getElementById(\"78f9b103-5131-48e9-9f0f-172f21d76d44\")) {\n",
       "                    Plotly.newPlot(\n",
       "                        '78f9b103-5131-48e9-9f0f-172f21d76d44',\n",
       "                        [{\"hoverinfo\": \"text\", \"lat\": [34.01531389, 29.73419444, 40.75048611, 33.55312222, 32.864175, 29.43452222, 30.29063889, 41.73310833, 42.408325, 35.08036389, 39.73770556, 40.02170833, 32.77201111, 30.18383611, 35.49330833, 32.742, 38.1923, 35.33556111, 35.16858611, 39.10682778, 36.11491944, 43.08636667, 32.17780556, 37.26000278, 33.764575, 39.96555278, 31.84010556, 38.55932778, 36.15206389, 39.66699722, 25.77908056, 36.144275, 29.98129722, 41.46510833, 30.45733333, 35.32841111, 45.5465, 33.52978056, 36.7938, 39.30615278, 33.38875556, 38.04134722, 37.69324167, 41.28356667, 28.66920278, 37.70955833, 27.55044722, 38.92994444, 33.77194722, 26.15983611, 35.83315833, 32.79128333, 34.121325, 30.72563333, 47.70033889, 39.13758333, 32.84526111, 33.85583056, 33.56327778, 31.99908611, 32.78298889, 36.08119444, 40.75616389, 26.26080556, 35.01456944, 25.89796944, 32.30571667, 33.29063333, 41.65237778, 32.57226944, 34.70412778, 26.59270278, 39.50591667, 37.20107778, 28.07368056, 32.86980556, 36.79555556, 25.956225, 47.19157222, 34.456225, 26.04767778, 33.50223889, 38.01346389, 29.71431389, 40.70395278, 41.55814444, 27.96061389, 41.06877222, 30.06765, 33.32066944, 32.81086944, 32.95124722, 27.26481111, 39.70045556, 32.59481944, 33.18322222, 36.01800833, 41.3166, 33.55215556, 32.38286667], \"lon\": [-118.26526389, -95.37158611, -73.94386111, -112.10830556, -96.68406111, -98.47810556, -81.62983889, -87.62420833, -83.21651389, -89.92898889, -86.13596944, -75.11262222, -97.36228056, -97.85013333, -97.58786111, -117.11239722, -85.71282222, -80.84265278, -106.58480833, -94.56869444, -86.69388056, -87.97180556, -110.98915278, -121.80948611, -84.39616111, -82.98338333, -106.51333611, -121.45376667, -115.1518, -104.91297778, -80.25265, -95.904575, -90.04638056, -81.74777778, -91.0138, -119.07434722, -122.68274444, -86.82596667, -119.82057222, -76.57453333, -111.69393611, -84.63160278, -97.35285, -95.99365833, -81.43740833, -122.45052778, -97.23675833, -104.79375, -118.20405278, -80.11667778, -78.67511389, -80.03949167, -117.26585278, -88.16881944, -122.364775, -84.54838611, -83.66956111, -117.71727778, -101.94824444, -81.12658611, -97.09555833, -80.22044444, -73.24488889, -80.11680556, -85.27421111, -80.33361944, -86.40632222, -81.95902778, -83.51716667, -84.82481944, -118.18373056, -81.86815, -119.85866111, -93.27610833, -81.91701667, -96.97108889, -76.38555556, -80.22646667, -122.46221389, -117.30636389, -80.17635556, -111.91119167, -87.52648056, -94.98051667, -111.93375278, -73.04868889, -82.72316667, -81.52437222, -94.17111944, -111.81836667, -96.65287778, -80.04253889, -80.39751667, -105.10998333, -117.08119722, -87.52592222, -115.09130278, -72.93302222, -112.23203333, -95.326775], \"marker\": {\"autocolorscale\": false, \"color\": [6, 48, 36, 4, 48, 48, 12, 17, 26, 47, 18, 42, 48, 48, 40, 6, 21, 37, 35, 29, 47, 55, 4, 6, 13, 39, 48, 6, 32, 8, 12, 40, 22, 39, 22, 6, 41, 1, 6, 24, 4, 21, 20, 31, 12, 6, 48, 8, 6, 12, 37, 45, 6, 1, 53, 39, 13, 6, 48, 13, 48, 37, 36, 12, 47, 12, 1, 13, 39, 13, 6, 12, 32, 29, 12, 48, 51, 12, 53, 6, 12, 4, 18, 48, 49, 9, 12, 39, 48, 4, 48, 45, 12, 8, 6, 1, 32, 9, 4, 48], \"opacity\": 0.8, \"reversescale\": true, \"size\": 8, \"symbol\": \"circle\"}, \"mode\": \"markers\", \"text\": [\"Los Angeles, California - 788 Accidents\", \"Houston, Texas - 668 Accidents\", \"New York City, New York - 636 Accidents\", \"Phoenix, Arizona - 564 Accidents\", \"Dallas, Texas - 511 Accidents\", \"San Antonio, Texas - 471 Accidents\", \"Jacksonville, Florida - 398 Accidents\", \"Chicago, Illinois - 364 Accidents\", \"Detroit, Michigan - 321 Accidents\", \"Memphis, Tennessee - 307 Accidents\", \"Indianapolis, Indiana - 271 Accidents\", \"Philadelphia, Pennsylvania - 268 Accidents\", \"Fort Worth, Texas - 262 Accidents\", \"Austin, Texas - 258 Accidents\", \"Oklahoma City, Oklahoma - 257 Accidents\", \"San Diego, California - 248 Accidents\", \"Louisville, Kentucky - 247 Accidents\", \"Charlotte, North Carolina - 245 Accidents\", \"Albuquerque, New Mexico - 218 Accidents\", null, \"Nashville, Tennessee - 194 Accidents\", \"Milwaukee, Wisconsin - 175 Accidents\", \"Tucson, Arizona - 172 Accidents\", \"San Jose, California - 171 Accidents\", \"Atlanta, Georgia - 166 Accidents\", \"Columbus, Ohio - 161 Accidents\", \"El Paso, Texas - 160 Accidents\", \"Sacramento, California - 155 Accidents\", \"Las Vegas, Nevada - 151 Accidents\", \"Denver, Colorado - 148 Accidents\", \"Miami, Florida - 146 Accidents\", \"Tulsa, Oklahoma - 139 Accidents\", \"New Orleans, Louisiana - 138 Accidents\", \"Cleveland, Ohio - 134 Accidents\", \"Baton Rouge, Louisiana - 126 Accidents\", \"Bakersfield, California - 125 Accidents\", \"Portland, Oregon - 121 Accidents\", \"Birmingham, Alabama - 118 Accidents\", \"Fresno, California - 115 Accidents\", \"Baltimore, Maryland - 113 Accidents\", \"Mesa, Arizona - 107 Accidents\", \"Lexington-Fayette, Kentucky - 106 Accidents\", \"Wichita, Kansas - 103 Accidents\", \"Omaha, Nebraska - 102 Accidents\", \"Orlando, Florida - 99 Accidents\", \"San Francisco, California - 97 Accidents\", \"Corpus Christi, Texas - 92 Accidents\", \"Colorado Springs, Colorado - 91 Accidents\", \"Long Beach, California - 90 Accidents\", \"Fort Lauderdale, Florida - 88 Accidents\", \"Raleigh, North Carolina - 87 Accidents\", \"Charleston, South Carolina - 86 Accidents\", \"San Bernardino, California - 82 Accidents\", \"Mobile, Alabama - 81 Accidents\", \"Seattle, Washington - 79 Accidents\", \"Cincinnati, Ohio - 78 Accidents\", \"Macon, Georgia - 77 Accidents\", \"Anaheim, California - 76 Accidents\", \"Lubbock, Texas - 75 Accidents\", \"Savannah, Georgia - 74 Accidents\", \"Arlington, Texas - 73 Accidents\", \"Winston Salem, North Carolina - 71 Accidents\", \"Islip, New York - 70 Accidents\", \"Pompano Beach, Florida - 69 Accidents\", \"Chattanooga, Tennessee - 67 Accidents\", \"Hialeah, Florida - 66 Accidents\", \"Montgomery, Alabama - 65 Accidents\", \"Augusta, Georgia - 64 Accidents\", \"Toledo, Ohio - 63 Accidents\", \"Columbus, Georgia - 61 Accidents\", \"Lancaster, California - 60 Accidents\", \"Fort Myers, Florida - 59 Accidents\", \"Reno, Nevada - 58 Accidents\", \"Springfield, Missouri - 57 Accidents\", \"Lakeland, Florida - 56 Accidents\", \"Irving, Texas - 55 Accidents\", \"Chesapeake, Virginia - 54 Accidents\", \"Miami Gardens, Florida - 52 Accidents\", \"Tacoma, Washington - 51 Accidents\", \"Hesperia, California - 50 Accidents\", \"Hollywood, Florida - 49 Accidents\", \"Scottsdale, Arizona - 48 Accidents\", \"Evansville, Indiana - 47 Accidents\", \"Baytown, Texas - 46 Accidents\", \"West Valley City, Utah - 45 Accidents\", \"Waterbury, Connecticut - 44 Accidents\", \"Clearwater, Florida - 43 Accidents\", \"Akron, Ohio - 42 Accidents\", \"Beaumont, Texas - 41 Accidents\", \"Chandler, Arizona - 40 Accidents\", \"Mesquite, Texas - 39 Accidents\", \"North Charleston, South Carolina - 38 Accidents\", \"Port Saint Lucie, Florida - 37 Accidents\", \"Lakewood, Colorado - 36 Accidents\", \"Chula Vista, California - 35 Accidents\", \"Tuscaloosa, Alabama - 34 Accidents\", \"Henderson, Nevada - 33 Accidents\", \"New Haven, Connecticut - 32 Accidents\", \"Peoria, Arizona - 31 Accidents\", \"Tyler, Texas - 30 Accidents\"], \"type\": \"scattergeo\"}],\n",
       "                        {\"geo\": {\"scope\": \"usa\"}, \"template\": {\"data\": {\"bar\": [{\"error_x\": {\"color\": \"#2a3f5f\"}, \"error_y\": {\"color\": \"#2a3f5f\"}, \"marker\": {\"line\": {\"color\": \"#E5ECF6\", \"width\": 0.5}}, \"type\": \"bar\"}], \"barpolar\": [{\"marker\": {\"line\": {\"color\": \"#E5ECF6\", \"width\": 0.5}}, \"type\": \"barpolar\"}], \"carpet\": [{\"aaxis\": {\"endlinecolor\": \"#2a3f5f\", \"gridcolor\": \"white\", \"linecolor\": \"white\", \"minorgridcolor\": \"white\", \"startlinecolor\": \"#2a3f5f\"}, \"baxis\": {\"endlinecolor\": \"#2a3f5f\", \"gridcolor\": \"white\", \"linecolor\": \"white\", \"minorgridcolor\": \"white\", \"startlinecolor\": \"#2a3f5f\"}, \"type\": \"carpet\"}], \"choropleth\": [{\"colorbar\": {\"outlinewidth\": 0, \"ticks\": \"\"}, \"type\": \"choropleth\"}], \"contour\": [{\"colorbar\": {\"outlinewidth\": 0, \"ticks\": \"\"}, \"colorscale\": [[0.0, \"#0d0887\"], [0.1111111111111111, \"#46039f\"], [0.2222222222222222, \"#7201a8\"], [0.3333333333333333, \"#9c179e\"], [0.4444444444444444, \"#bd3786\"], [0.5555555555555556, \"#d8576b\"], [0.6666666666666666, \"#ed7953\"], [0.7777777777777778, \"#fb9f3a\"], [0.8888888888888888, \"#fdca26\"], [1.0, \"#f0f921\"]], \"type\": \"contour\"}], \"contourcarpet\": [{\"colorbar\": {\"outlinewidth\": 0, \"ticks\": \"\"}, \"type\": \"contourcarpet\"}], \"heatmap\": [{\"colorbar\": {\"outlinewidth\": 0, \"ticks\": \"\"}, \"colorscale\": [[0.0, \"#0d0887\"], [0.1111111111111111, \"#46039f\"], [0.2222222222222222, \"#7201a8\"], [0.3333333333333333, \"#9c179e\"], [0.4444444444444444, \"#bd3786\"], [0.5555555555555556, \"#d8576b\"], [0.6666666666666666, \"#ed7953\"], [0.7777777777777778, \"#fb9f3a\"], [0.8888888888888888, \"#fdca26\"], [1.0, \"#f0f921\"]], \"type\": \"heatmap\"}], \"heatmapgl\": [{\"colorbar\": {\"outlinewidth\": 0, \"ticks\": \"\"}, \"colorscale\": [[0.0, \"#0d0887\"], [0.1111111111111111, \"#46039f\"], [0.2222222222222222, \"#7201a8\"], [0.3333333333333333, \"#9c179e\"], [0.4444444444444444, \"#bd3786\"], [0.5555555555555556, \"#d8576b\"], [0.6666666666666666, \"#ed7953\"], [0.7777777777777778, \"#fb9f3a\"], [0.8888888888888888, \"#fdca26\"], [1.0, \"#f0f921\"]], \"type\": \"heatmapgl\"}], \"histogram\": [{\"marker\": {\"colorbar\": {\"outlinewidth\": 0, \"ticks\": \"\"}}, \"type\": \"histogram\"}], \"histogram2d\": [{\"colorbar\": {\"outlinewidth\": 0, \"ticks\": \"\"}, \"colorscale\": [[0.0, \"#0d0887\"], [0.1111111111111111, \"#46039f\"], [0.2222222222222222, \"#7201a8\"], [0.3333333333333333, \"#9c179e\"], [0.4444444444444444, \"#bd3786\"], [0.5555555555555556, \"#d8576b\"], [0.6666666666666666, \"#ed7953\"], [0.7777777777777778, \"#fb9f3a\"], [0.8888888888888888, \"#fdca26\"], [1.0, \"#f0f921\"]], \"type\": \"histogram2d\"}], \"histogram2dcontour\": [{\"colorbar\": {\"outlinewidth\": 0, \"ticks\": \"\"}, \"colorscale\": [[0.0, \"#0d0887\"], [0.1111111111111111, \"#46039f\"], [0.2222222222222222, \"#7201a8\"], [0.3333333333333333, \"#9c179e\"], [0.4444444444444444, \"#bd3786\"], [0.5555555555555556, \"#d8576b\"], [0.6666666666666666, \"#ed7953\"], [0.7777777777777778, \"#fb9f3a\"], [0.8888888888888888, \"#fdca26\"], [1.0, \"#f0f921\"]], \"type\": \"histogram2dcontour\"}], \"mesh3d\": [{\"colorbar\": {\"outlinewidth\": 0, \"ticks\": \"\"}, \"type\": \"mesh3d\"}], \"parcoords\": [{\"line\": {\"colorbar\": {\"outlinewidth\": 0, \"ticks\": \"\"}}, \"type\": \"parcoords\"}], \"scatter\": [{\"marker\": {\"colorbar\": {\"outlinewidth\": 0, \"ticks\": \"\"}}, \"type\": \"scatter\"}], \"scatter3d\": [{\"line\": {\"colorbar\": {\"outlinewidth\": 0, \"ticks\": \"\"}}, \"marker\": {\"colorbar\": {\"outlinewidth\": 0, \"ticks\": \"\"}}, \"type\": \"scatter3d\"}], \"scattercarpet\": [{\"marker\": {\"colorbar\": {\"outlinewidth\": 0, \"ticks\": \"\"}}, \"type\": \"scattercarpet\"}], \"scattergeo\": [{\"marker\": {\"colorbar\": {\"outlinewidth\": 0, \"ticks\": \"\"}}, \"type\": \"scattergeo\"}], \"scattergl\": [{\"marker\": {\"colorbar\": {\"outlinewidth\": 0, \"ticks\": \"\"}}, \"type\": \"scattergl\"}], \"scattermapbox\": [{\"marker\": {\"colorbar\": {\"outlinewidth\": 0, \"ticks\": \"\"}}, \"type\": \"scattermapbox\"}], \"scatterpolar\": [{\"marker\": {\"colorbar\": {\"outlinewidth\": 0, \"ticks\": \"\"}}, \"type\": \"scatterpolar\"}], \"scatterpolargl\": [{\"marker\": {\"colorbar\": {\"outlinewidth\": 0, \"ticks\": \"\"}}, \"type\": \"scatterpolargl\"}], \"scatterternary\": [{\"marker\": {\"colorbar\": {\"outlinewidth\": 0, \"ticks\": \"\"}}, \"type\": \"scatterternary\"}], \"surface\": [{\"colorbar\": {\"outlinewidth\": 0, \"ticks\": \"\"}, \"colorscale\": [[0.0, \"#0d0887\"], [0.1111111111111111, \"#46039f\"], [0.2222222222222222, \"#7201a8\"], [0.3333333333333333, \"#9c179e\"], [0.4444444444444444, \"#bd3786\"], [0.5555555555555556, \"#d8576b\"], [0.6666666666666666, \"#ed7953\"], [0.7777777777777778, \"#fb9f3a\"], [0.8888888888888888, \"#fdca26\"], [1.0, \"#f0f921\"]], \"type\": \"surface\"}], \"table\": [{\"cells\": {\"fill\": {\"color\": \"#EBF0F8\"}, \"line\": {\"color\": \"white\"}}, \"header\": {\"fill\": {\"color\": \"#C8D4E3\"}, \"line\": {\"color\": \"white\"}}, \"type\": \"table\"}]}, \"layout\": {\"annotationdefaults\": {\"arrowcolor\": \"#2a3f5f\", \"arrowhead\": 0, \"arrowwidth\": 1}, \"colorscale\": {\"diverging\": [[0, \"#8e0152\"], [0.1, \"#c51b7d\"], [0.2, \"#de77ae\"], [0.3, \"#f1b6da\"], [0.4, \"#fde0ef\"], [0.5, \"#f7f7f7\"], [0.6, \"#e6f5d0\"], [0.7, \"#b8e186\"], [0.8, \"#7fbc41\"], [0.9, \"#4d9221\"], [1, \"#276419\"]], \"sequential\": [[0.0, \"#0d0887\"], [0.1111111111111111, \"#46039f\"], [0.2222222222222222, \"#7201a8\"], [0.3333333333333333, \"#9c179e\"], [0.4444444444444444, \"#bd3786\"], [0.5555555555555556, \"#d8576b\"], [0.6666666666666666, \"#ed7953\"], [0.7777777777777778, \"#fb9f3a\"], [0.8888888888888888, \"#fdca26\"], [1.0, \"#f0f921\"]], \"sequentialminus\": [[0.0, \"#0d0887\"], [0.1111111111111111, \"#46039f\"], [0.2222222222222222, \"#7201a8\"], [0.3333333333333333, \"#9c179e\"], [0.4444444444444444, \"#bd3786\"], [0.5555555555555556, \"#d8576b\"], [0.6666666666666666, \"#ed7953\"], [0.7777777777777778, \"#fb9f3a\"], [0.8888888888888888, \"#fdca26\"], [1.0, \"#f0f921\"]]}, \"colorway\": [\"#636efa\", \"#EF553B\", \"#00cc96\", \"#ab63fa\", \"#FFA15A\", \"#19d3f3\", \"#FF6692\", \"#B6E880\", \"#FF97FF\", \"#FECB52\"], \"font\": {\"color\": \"#2a3f5f\"}, \"geo\": {\"bgcolor\": \"white\", \"lakecolor\": \"white\", \"landcolor\": \"#E5ECF6\", \"showlakes\": true, \"showland\": true, \"subunitcolor\": \"white\"}, \"hoverlabel\": {\"align\": \"left\"}, \"hovermode\": \"closest\", \"mapbox\": {\"style\": \"light\"}, \"paper_bgcolor\": \"white\", \"plot_bgcolor\": \"#E5ECF6\", \"polar\": {\"angularaxis\": {\"gridcolor\": \"white\", \"linecolor\": \"white\", \"ticks\": \"\"}, \"bgcolor\": \"#E5ECF6\", \"radialaxis\": {\"gridcolor\": \"white\", \"linecolor\": \"white\", \"ticks\": \"\"}}, \"scene\": {\"xaxis\": {\"backgroundcolor\": \"#E5ECF6\", \"gridcolor\": \"white\", \"gridwidth\": 2, \"linecolor\": \"white\", \"showbackground\": true, \"ticks\": \"\", \"zerolinecolor\": \"white\"}, \"yaxis\": {\"backgroundcolor\": \"#E5ECF6\", \"gridcolor\": \"white\", \"gridwidth\": 2, \"linecolor\": \"white\", \"showbackground\": true, \"ticks\": \"\", \"zerolinecolor\": \"white\"}, \"zaxis\": {\"backgroundcolor\": \"#E5ECF6\", \"gridcolor\": \"white\", \"gridwidth\": 2, \"linecolor\": \"white\", \"showbackground\": true, \"ticks\": \"\", \"zerolinecolor\": \"white\"}}, \"shapedefaults\": {\"line\": {\"color\": \"#2a3f5f\"}}, \"ternary\": {\"aaxis\": {\"gridcolor\": \"white\", \"linecolor\": \"white\", \"ticks\": \"\"}, \"baxis\": {\"gridcolor\": \"white\", \"linecolor\": \"white\", \"ticks\": \"\"}, \"bgcolor\": \"#E5ECF6\", \"caxis\": {\"gridcolor\": \"white\", \"linecolor\": \"white\", \"ticks\": \"\"}}, \"title\": {\"x\": 0.05}, \"xaxis\": {\"automargin\": true, \"gridcolor\": \"white\", \"linecolor\": \"white\", \"ticks\": \"\", \"zerolinecolor\": \"white\", \"zerolinewidth\": 2}, \"yaxis\": {\"automargin\": true, \"gridcolor\": \"white\", \"linecolor\": \"white\", \"ticks\": \"\", \"zerolinecolor\": \"white\", \"zerolinewidth\": 2}}}, \"title\": {\"text\": \"Top 100 US Accident Cities From 2015 - 2017\"}},\n",
       "                        {\"responsive\": true}\n",
       "                    ).then(function(){\n",
       "                            \n",
       "var gd = document.getElementById('78f9b103-5131-48e9-9f0f-172f21d76d44');\n",
       "var x = new MutationObserver(function (mutations, observer) {{\n",
       "        var display = window.getComputedStyle(gd).display;\n",
       "        if (!display || display === 'none') {{\n",
       "            console.log([gd, 'removed!']);\n",
       "            Plotly.purge(gd);\n",
       "            observer.disconnect();\n",
       "        }}\n",
       "}});\n",
       "\n",
       "// Listen for the removal of the full notebook cells\n",
       "var notebookContainer = gd.closest('#notebook-container');\n",
       "if (notebookContainer) {{\n",
       "    x.observe(notebookContainer, {childList: true});\n",
       "}}\n",
       "\n",
       "// Listen for the clearing of the current output cell\n",
       "var outputEl = gd.closest('.output');\n",
       "if (outputEl) {{\n",
       "    x.observe(outputEl, {childList: true});\n",
       "}}\n",
       "\n",
       "                        })\n",
       "                };\n",
       "                });\n",
       "            </script>\n",
       "        </div>"
      ]
     },
     "metadata": {},
     "output_type": "display_data"
    }
   ],
   "source": [
    "# create Plotly Scattergeo plot for top 100 accident cities from 2015 - 2017\n",
    "fig = go.Figure(data=go.Scattergeo(\n",
    "        lon = top_100['LONGITUD'],\n",
    "        lat = top_100['LATITUDE'],\n",
    "        text = top_100['DESC'],\n",
    "        mode = 'markers',\n",
    "        marker = dict(\n",
    "            size = 8,\n",
    "            opacity = 0.8,\n",
    "            reversescale = True,\n",
    "            autocolorscale = False,\n",
    "            symbol = 'circle'),\n",
    "        marker_color = top_100['STATE'],\n",
    "        hoverinfo = 'text',\n",
    "        ))\n",
    "\n",
    "fig.update_layout(\n",
    "        title = 'Top 100 US Accident Cities From 2015 - 2017',\n",
    "        geo_scope='usa',\n",
    "    )\n",
    "fig.show()"
   ]
  },
  {
   "cell_type": "code",
   "execution_count": null,
   "metadata": {},
   "outputs": [],
   "source": []
  }
 ],
 "metadata": {
  "kernelspec": {
   "display_name": "Python 3",
   "language": "python",
   "name": "python3"
  },
  "language_info": {
   "codemirror_mode": {
    "name": "ipython",
    "version": 3
   },
   "file_extension": ".py",
   "mimetype": "text/x-python",
   "name": "python",
   "nbconvert_exporter": "python",
   "pygments_lexer": "ipython3",
   "version": "3.7.3"
  }
 },
 "nbformat": 4,
 "nbformat_minor": 2
}
