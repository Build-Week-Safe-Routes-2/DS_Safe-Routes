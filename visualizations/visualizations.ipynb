{
 "cells": [
  {
   "cell_type": "code",
   "execution_count": 1,
   "metadata": {},
   "outputs": [],
   "source": [
    "# import pandas to read in CSV files\n",
    "import pandas as pd\n",
    "\n",
    "# import matplotlib + seaborn for exploratory data analysis\n",
    "import matplotlib.pyplot as plt\n",
    "import seaborn as sns"
   ]
  },
  {
   "cell_type": "code",
   "execution_count": 2,
   "metadata": {},
   "outputs": [],
   "source": [
    "# read in accident data CSVs for 2015 - 2017\n",
    "acc15 = pd.read_csv('/Users/ianforrest/Desktop/coding/repos/DS_Safe-Routes/modeling/accident15.csv')\n",
    "acc16 = pd.read_csv('/Users/ianforrest/Desktop/coding/repos/DS_Safe-Routes/modeling/accident16.csv')\n",
    "acc17 = pd.read_csv('/Users/ianforrest/Desktop/coding/repos/DS_Safe-Routes/modeling/accident17.csv')"
   ]
  },
  {
   "cell_type": "code",
   "execution_count": 3,
   "metadata": {},
   "outputs": [],
   "source": [
    "# combine acc15, acc16, acc17 into one dataframe\n",
    "acc = acc15.append(acc16, sort=False, ignore_index = True)\n",
    "acc = acc.append(acc17, sort=False, ignore_index = True)"
   ]
  },
  {
   "cell_type": "code",
   "execution_count": 4,
   "metadata": {},
   "outputs": [
    {
     "data": {
      "text/plain": [
       "(101533, 52)"
      ]
     },
     "execution_count": 4,
     "metadata": {},
     "output_type": "execute_result"
    }
   ],
   "source": [
    "acc.shape"
   ]
  },
  {
   "cell_type": "code",
   "execution_count": 7,
   "metadata": {},
   "outputs": [
    {
     "data": {
      "text/plain": [
       "Index(['STATE', 'ST_CASE', 'VE_TOTAL', 'VE_FORMS', 'PVH_INVL', 'PEDS',\n",
       "       'PERNOTMVIT', 'PERMVIT', 'PERSONS', 'COUNTY', 'CITY', 'DAY', 'MONTH',\n",
       "       'YEAR', 'DAY_WEEK', 'HOUR', 'MINUTE', 'NHS', 'RUR_URB', 'FUNC_SYS',\n",
       "       'RD_OWNER', 'ROUTE', 'TWAY_ID', 'TWAY_ID2', 'MILEPT', 'LATITUDE',\n",
       "       'LONGITUD', 'SP_JUR', 'HARM_EV', 'MAN_COLL', 'RELJCT1', 'RELJCT2',\n",
       "       'TYP_INT', 'WRK_ZONE', 'REL_ROAD', 'LGT_COND', 'WEATHER1', 'WEATHER2',\n",
       "       'WEATHER', 'SCH_BUS', 'RAIL', 'NOT_HOUR', 'NOT_MIN', 'ARR_HOUR',\n",
       "       'ARR_MIN', 'HOSP_HR', 'HOSP_MN', 'CF1', 'CF2', 'CF3', 'FATALS',\n",
       "       'DRUNK_DR'],\n",
       "      dtype='object')"
      ]
     },
     "execution_count": 7,
     "metadata": {},
     "output_type": "execute_result"
    }
   ],
   "source": [
    "# display columns of combined acc dataframe\n",
    "acc.columns"
   ]
  },
  {
   "cell_type": "code",
   "execution_count": 38,
   "metadata": {
    "collapsed": true
   },
   "outputs": [
    {
     "data": {
      "text/plain": [
       "1980    913\n",
       "370     692\n",
       "3280    690\n",
       "1730    688\n",
       "4170    661\n",
       "6090    475\n",
       "1510    473\n",
       "1670    463\n",
       "330     372\n",
       "1260    368\n",
       "1620    344\n",
       "2090    341\n",
       "2450    316\n",
       "30      313\n",
       "870     309\n",
       "Name: CITY, dtype: int64"
      ]
     },
     "execution_count": 38,
     "metadata": {},
     "output_type": "execute_result"
    }
   ],
   "source": [
    "# 1 - Los Angeles, CA - 913 Accidents - City Code = 1980, State Code = 06 \n",
    "# 2 - Phoenix, AX - 692 Accidents - City Code = 0370, State Code = 04 \n",
    "# 3 - Houston, TX - 690 Accidents - City Code = 3280, State Code = 48\n",
    "# 4 - Dallas, TX - 688 Accidents - City Code = 1730, State Code = 48\n",
    "# 5 - New York City, NY - 661 Accidents - City Code = 4170, State Code = 36\n",
    "# 6 - San Antonio, TX - 475 Accidents - City Code = 6090, State Code = 48\n",
    "# 7 - Jacksonville, FL - 473 Accidents - City Code = 1510, State Code = 12\n",
    "# 8 - Chicago, IL - 463 Accdents - City Code = 1670, State Code = 17\n",
    "# 9 - Austin, TX - 372 Accidents - City Code = 0330, State Code = 48\n",
    "# 10 - Detriot, MI - 368 Accidents - City Code = 1260, State Code = 26\n",
    "# 11 - Memphis, TN - 344 Accidents - City Code = 1620, State Code = 47\n",
    "# 12 - Louisville, KY - 341 Accidents - City Code = 2090, State Code = 21\n",
    "# 13 - Forth Worth, TX - 316 Accidents - City Code = 2450, State Code = 48\n",
    "# 14 - Albuquerque, NM - 313 Accidents - City Code = 0030, State Code = 35\n",
    "# 15 - Charlotte, NC - 309 Accidents - City Code = 0870, State Code = 37\n",
    "\n",
    "acc_city_state = acc[['CITY', 'STATE']]\n",
    "acc_city_state = acc_city_state[acc_city_state['CITY'] > 0]\n",
    "acc_city_state = acc_city_state[acc_city_state['CITY'] < 9997]\n",
    "acc_city_state['CITY'].value_counts().head(15)\n"
   ]
  },
  {
   "cell_type": "code",
   "execution_count": 36,
   "metadata": {
    "collapsed": true
   },
   "outputs": [
    {
     "data": {
      "text/plain": [
       "CITY  STATE\n",
       "1980  6        788\n",
       "3280  48       668\n",
       "4170  36       652\n",
       "370   4        623\n",
       "1730  48       512\n",
       "6090  48       471\n",
       "1510  12       398\n",
       "1670  17       364\n",
       "1260  26       321\n",
       "1620  47       307\n",
       "2210  18       272\n",
       "6540  42       268\n",
       "2450  48       262\n",
       "330   48       258\n",
       "3550  40       257\n",
       "870   37       249\n",
       "3260  6        248\n",
       "2090  21       247\n",
       "30    35       218\n",
       "4120  29       213\n",
       "1760  47       194\n",
       "3100  55       175\n",
       "530   4        173\n",
       "3340  6        171\n",
       "280   13       168\n",
       "1800  39       161\n",
       "2190  48       160\n",
       "3150  6        155\n",
       "7080  29       155\n",
       "2950  12       151\n",
       "              ... \n",
       "2250  18         1\n",
       "      20         1\n",
       "      34         1\n",
       "      37         1\n",
       "2252  28         1\n",
       "2255  47         1\n",
       "2260  21         1\n",
       "      27         1\n",
       "      29         1\n",
       "2237  21         1\n",
       "2232  36         1\n",
       "2230  40         1\n",
       "2220  48         1\n",
       "2210  37         1\n",
       "      41         1\n",
       "2215  21         1\n",
       "2217  22         1\n",
       "2219  36         1\n",
       "2220  20         1\n",
       "      22         1\n",
       "      53         1\n",
       "2230  34         1\n",
       "2221  54         1\n",
       "2222  36         1\n",
       "2228  36         1\n",
       "2230  1          1\n",
       "      5          1\n",
       "      13         1\n",
       "      19         1\n",
       "1     23         1\n",
       "Length: 9018, dtype: int64"
      ]
     },
     "execution_count": 36,
     "metadata": {},
     "output_type": "execute_result"
    }
   ],
   "source": [
    "acc_city_state.groupby(['CITY','STATE']).size().sort_values(ascending=False)"
   ]
  },
  {
   "cell_type": "code",
   "execution_count": null,
   "metadata": {},
   "outputs": [],
   "source": [
    "# Thoughts for plotly interactive map\n",
    "\n",
    "# 1 - going to need lat/long of accident in geoJSON format"
   ]
  }
 ],
 "metadata": {
  "kernelspec": {
   "display_name": "Python 3",
   "language": "python",
   "name": "python3"
  },
  "language_info": {
   "codemirror_mode": {
    "name": "ipython",
    "version": 3
   },
   "file_extension": ".py",
   "mimetype": "text/x-python",
   "name": "python",
   "nbconvert_exporter": "python",
   "pygments_lexer": "ipython3",
   "version": "3.7.3"
  }
 },
 "nbformat": 4,
 "nbformat_minor": 2
}
